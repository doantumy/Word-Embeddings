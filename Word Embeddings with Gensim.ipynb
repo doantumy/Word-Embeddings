{
 "cells": [
  {
   "cell_type": "markdown",
   "metadata": {},
   "source": [
    "# Learning word embeddings with `Gensim`"
   ]
  },
  {
   "cell_type": "markdown",
   "metadata": {},
   "source": [
    "In this part, we are going to perform word embeddings with Gensim - a very popular toolkit for Natural Language Processing (NLP). We will build two word embeddings: `word2vec` and `fastText`.\n",
    "\n",
    "First, let's start to import some useful packages:"
   ]
  },
  {
   "cell_type": "code",
   "execution_count": 1,
   "metadata": {},
   "outputs": [
    {
     "name": "stderr",
     "output_type": "stream",
     "text": [
      "Using TensorFlow backend.\n"
     ]
    }
   ],
   "source": [
    "import pandas as pd\n",
    "import numpy as np\n",
    "import tensorflow as tf\n",
    "import nltk, re\n",
    "from keras.preprocessing.text import Tokenizer\n",
    "from datetime import datetime\n",
    "from gensim.models import *\n",
    "import logging\n",
    "from rnn_utils import *\n",
    "%matplotlib inline"
   ]
  },
  {
   "cell_type": "markdown",
   "metadata": {},
   "source": [
    "## Data preparation\n",
    "\n",
    "We will use same dataset from Kaggle \"Bag of Words Meets Bags of Popcorn\". We will work with not only the training set but also the unlabled training set. Because we only want to learn word embedding (not building model) so we don't need labels in the set, making the unlabeled data useful.\n",
    "\n",
    "Now, let's load them using `pandas` package."
   ]
  },
  {
   "cell_type": "code",
   "execution_count": 2,
   "metadata": {
    "collapsed": true
   },
   "outputs": [],
   "source": [
    "train = pd.read_csv(\"./data/labeledTrainData.tsv\", delimiter=\"\\t\", header = 0, quoting=3)\n",
    "unlabeled = pd.read_csv(\"./data/unlabeledTrainData.tsv\", delimiter=\"\\t\", header = 0, quoting=3)"
   ]
  },
  {
   "cell_type": "markdown",
   "metadata": {},
   "source": [
    "There are 25,000 reviews in the training set and 50,000 reviews in the unlabeled dataset."
   ]
  },
  {
   "cell_type": "code",
   "execution_count": 3,
   "metadata": {},
   "outputs": [
    {
     "name": "stdout",
     "output_type": "stream",
     "text": [
      "Train set: (25000, 3)\n",
      "Unlabeled set: (50000, 2)\n"
     ]
    }
   ],
   "source": [
    "print(\"Train set: {}\".format(train.shape))\n",
    "print(\"Unlabeled set: {}\".format(unlabeled.shape))"
   ]
  },
  {
   "cell_type": "markdown",
   "metadata": {},
   "source": [
    "Let's take a quick review about the first unlabeled review. We can see that thare are many HTML tags in this review. So our task is to clean up those reviews by removing the unwanted characters such as HTML tags and special characters `(\\, /, ?, !, etc.)`."
   ]
  },
  {
   "cell_type": "code",
   "execution_count": 4,
   "metadata": {},
   "outputs": [
    {
     "data": {
      "text/plain": [
       "'\"I saw this film about 20 years ago and remember it as being particularly nasty. I believe it is based on a true incident: a young man breaks into a nurses\\' home and rapes, tortures and kills various women.<br /><br />It is in black and white but saves the colour for one shocking shot.<br /><br />At the end the film seems to be trying to make some political statement but it just comes across as confused and obscene.<br /><br />Avoid.\"'"
      ]
     },
     "execution_count": 4,
     "metadata": {},
     "output_type": "execute_result"
    }
   ],
   "source": [
    "unlabeled.review[1]"
   ]
  },
  {
   "cell_type": "markdown",
   "metadata": {},
   "source": [
    "Function <span style=\"color:blue; font-family:Courier\">convert_to_sentences</span> is defined in order to remove special characters. Steps are as below:\n",
    "1. Convert each review into sentences as we might have many sentences in one review by using `punkt` tokenizer from NLTK\n",
    "2. Replace HTML tags with space. Character '-' with space also, and add space after '.' just to help tokenizer to strip sentence correctly. If we don't do this, sentences connected with '.' (no space after) will be considered as one sentence which is not correct. And replace double space with one space only.\n",
    "3. Convert each sentence into words and apply the `special_characters` filter on it. Then convert all of the into lowercase.\n",
    "4. Finally, return a list of reviews which contain inside each review a list of sentences made up a list of words.\n"
   ]
  },
  {
   "cell_type": "code",
   "execution_count": 5,
   "metadata": {
    "collapsed": true
   },
   "outputs": [],
   "source": [
    "special_characters = re.compile(\"[^A-Za-z0-9 ]\")\n",
    "tokenizer = nltk.data.load(\"tokenizers/punkt/english.pickle\")\n",
    "def convert_to_sentences(data, tokenizer):\n",
    "    # First, converting each review into sentences\n",
    "    # Use NLTK Tokenizer to split review into sentences (punkt tokenizer - english.pickle)\n",
    "    data = data.lower().replace(\"<br />\", \" \")\n",
    "    data = data.replace(\"-\", \" \")\n",
    "    data = data.replace(\".\", \". \")\n",
    "    data = re.sub(\"  \", \" \", data)\n",
    "    all_sentences = tokenizer.tokenize(data.strip())\n",
    "    \n",
    "    # Second, converting each sentence into words\n",
    "    sentences = []\n",
    "    for words in all_sentences:\n",
    "        s = re.sub(special_characters, \"\", words.lower())\n",
    "        if (len(s)) > 0:\n",
    "            sentences.append(s.split())\n",
    "    \n",
    "    # Finally, returning a list of sentences (containing words in each sentence)\n",
    "    return sentences"
   ]
  },
  {
   "cell_type": "markdown",
   "metadata": {},
   "source": [
    "Below is a sample of raw review:"
   ]
  },
  {
   "cell_type": "code",
   "execution_count": 6,
   "metadata": {},
   "outputs": [
    {
     "name": "stdout",
     "output_type": "stream",
     "text": [
      "Review: \n",
      "\"Steven Seagal returns in Black Dawn.Cool title.I cannot say the same for the movie though.It ranks as the Worst Seagal movie yet.Yes.It is worse than Out for a Kill.Did we really need a sequel to the Forigner that bad?<br /><br />Steven returns as Jonathon Cold.Assassin for hire.This time he is out to stop a group of Terrorists and prevent Nuclier Bomb from hitting Los Angelas with the help of CIA agent Tamara Davies.<br /><br />This idea seems okay.The Jonathon Cold character once again gives the big guy a chance to tarnish his clean-cut cinematic Image.You get the feeling with a decent director and production team this movie could have went somewhere.If this cost 15 million I wanna know where it was spent?It was not spent on the movie?!! <br /><br />The action scenes are not bad.The movie was obviously shot like a Doug Liman flick.Its just that most of the Time Seagal is doubled so much you cannot take the movie seriously whatsoever.The script seems...what script?!Logic is Black Dawned for a dozen low-budget action movies.<br /><br />Seagal is not too bad here for a whole 15 minutes he is engaging then goes about the sleepwalking that he has done for his last 2 movies.Whoever is doing his fighting is doing a commendable job.<br /><br />The light that shines through is Tamara Davies as Cold's sidekick.She has the chops,skills,looks and drive that give Black Dawn a little kick in the action department.How she got in this movie is a riddle.She should be a bigger star.Nicholas Davidoff and John Pyper Feruson are not believable bad guys.<br /><br />Whose idea was it to make a sequel to a bad movie in the first place? It did not set the world on fire to my memory.I can only hope they inject the next Forigner sequel with some class,imagination,Less stunt doubles and a livelier Seagal.If not then leave Jonathon Cold on Ice.\"\n"
     ]
    }
   ],
   "source": [
    "print(\"Review: \\n{}\".format(unlabeled.review[90]))"
   ]
  },
  {
   "cell_type": "markdown",
   "metadata": {},
   "source": [
    "Applying the function <span style=\"color:blue; font-family:Courier\">convert_to_sentences</span> to this review, we get 31 sentences in total."
   ]
  },
  {
   "cell_type": "code",
   "execution_count": 7,
   "metadata": {},
   "outputs": [
    {
     "name": "stdout",
     "output_type": "stream",
     "text": [
      "Length of formated sentences: 31\n"
     ]
    }
   ],
   "source": [
    "sentences_sample = convert_to_sentences(unlabeled.review[90], tokenizer)\n",
    "print(\"Length of formated sentences: {}\".format(len(sentences_sample)))"
   ]
  },
  {
   "cell_type": "markdown",
   "metadata": {},
   "source": [
    "Details of each sentence are as followed:"
   ]
  },
  {
   "cell_type": "code",
   "execution_count": 8,
   "metadata": {},
   "outputs": [
    {
     "name": "stdout",
     "output_type": "stream",
     "text": [
      "['steven', 'seagal', 'returns', 'in', 'black', 'dawn']\n",
      "['cool', 'title']\n",
      "['i', 'cannot', 'say', 'the', 'same', 'for', 'the', 'movie', 'though']\n",
      "['it', 'ranks', 'as', 'the', 'worst', 'seagal', 'movie', 'yet']\n",
      "['yes']\n",
      "['it', 'is', 'worse', 'than', 'out', 'for', 'a', 'kill']\n",
      "['did', 'we', 'really', 'need', 'a', 'sequel', 'to', 'the', 'forigner', 'that', 'bad']\n",
      "['steven', 'returns', 'as', 'jonathon', 'cold']\n",
      "['assassin', 'for', 'hire']\n",
      "['this', 'time', 'he', 'is', 'out', 'to', 'stop', 'a', 'group', 'of', 'terrorists', 'and', 'prevent', 'nuclier', 'bomb', 'from', 'hitting', 'los', 'angelas', 'with', 'the', 'help', 'of', 'cia', 'agent', 'tamara', 'davies']\n",
      "['this', 'idea', 'seems', 'okay']\n",
      "['the', 'jonathon', 'cold', 'character', 'once', 'again', 'gives', 'the', 'big', 'guy', 'a', 'chance', 'to', 'tarnish', 'his', 'clean', 'cut', 'cinematic', 'image']\n",
      "['you', 'get', 'the', 'feeling', 'with', 'a', 'decent', 'director', 'and', 'production', 'team', 'this', 'movie', 'could', 'have', 'went', 'somewhere']\n",
      "['if', 'this', 'cost', '15', 'million', 'i', 'wanna', 'know', 'where', 'it', 'was', 'spentit', 'was', 'not', 'spent', 'on', 'the', 'movie']\n",
      "['the', 'action', 'scenes', 'are', 'not', 'bad']\n",
      "['the', 'movie', 'was', 'obviously', 'shot', 'like', 'a', 'doug', 'liman', 'flick']\n",
      "['its', 'just', 'that', 'most', 'of', 'the', 'time', 'seagal', 'is', 'doubled', 'so', 'much', 'you', 'cannot', 'take', 'the', 'movie', 'seriously', 'whatsoever']\n",
      "['the', 'script', 'seems']\n",
      "['what', 'script']\n",
      "['logic', 'is', 'black', 'dawned', 'for', 'a', 'dozen', 'low', 'budget', 'action', 'movies']\n",
      "['seagal', 'is', 'not', 'too', 'bad', 'here', 'for', 'a', 'whole', '15', 'minutes', 'he', 'is', 'engaging', 'then', 'goes', 'about', 'the', 'sleepwalking', 'that', 'he', 'has', 'done', 'for', 'his', 'last', '2', 'movies']\n",
      "['whoever', 'is', 'doing', 'his', 'fighting', 'is', 'doing', 'a', 'commendable', 'job']\n",
      "['the', 'light', 'that', 'shines', 'through', 'is', 'tamara', 'davies', 'as', 'colds', 'sidekick']\n",
      "['she', 'has', 'the', 'chopsskillslooks', 'and', 'drive', 'that', 'give', 'black', 'dawn', 'a', 'little', 'kick', 'in', 'the', 'action', 'department']\n",
      "['how', 'she', 'got', 'in', 'this', 'movie', 'is', 'a', 'riddle']\n",
      "['she', 'should', 'be', 'a', 'bigger', 'star']\n",
      "['nicholas', 'davidoff', 'and', 'john', 'pyper', 'feruson', 'are', 'not', 'believable', 'bad', 'guys']\n",
      "['whose', 'idea', 'was', 'it', 'to', 'make', 'a', 'sequel', 'to', 'a', 'bad', 'movie', 'in', 'the', 'first', 'place']\n",
      "['it', 'did', 'not', 'set', 'the', 'world', 'on', 'fire', 'to', 'my', 'memory']\n",
      "['i', 'can', 'only', 'hope', 'they', 'inject', 'the', 'next', 'forigner', 'sequel', 'with', 'some', 'classimaginationless', 'stunt', 'doubles', 'and', 'a', 'livelier', 'seagal']\n",
      "['if', 'not', 'then', 'leave', 'jonathon', 'cold', 'on', 'ice']\n"
     ]
    }
   ],
   "source": [
    "for i in sentences_sample:\n",
    "    print(i)"
   ]
  },
  {
   "cell_type": "markdown",
   "metadata": {},
   "source": [
    "Now, let's do the same for all of our train and unlabeled reviews. Here we will join 2 lists into 1. This may take several minutes to complete due to large number of reviews needed to be clean up (75,000)."
   ]
  },
  {
   "cell_type": "code",
   "execution_count": 9,
   "metadata": {},
   "outputs": [
    {
     "name": "stdout",
     "output_type": "stream",
     "text": [
      "Done for train set.\n",
      "Done for unlabled set.\n"
     ]
    }
   ],
   "source": [
    "sentences = []\n",
    "for review in train.review:\n",
    "    sentences += convert_to_sentences(review, tokenizer)\n",
    "print(\"Done for train set.\")\n",
    "\n",
    "for review in unlabeled.review:\n",
    "    sentences += convert_to_sentences(review, tokenizer)\n",
    "print(\"Done for unlabled set.\")"
   ]
  },
  {
   "cell_type": "markdown",
   "metadata": {},
   "source": [
    "Let's check first 5 sentences:"
   ]
  },
  {
   "cell_type": "code",
   "execution_count": 10,
   "metadata": {},
   "outputs": [
    {
     "name": "stdout",
     "output_type": "stream",
     "text": [
      "['with', 'all', 'this', 'stuff', 'going', 'down', 'at', 'the', 'moment', 'with', 'mj', 'ive', 'started', 'listening', 'to', 'his', 'music', 'watching', 'the', 'odd', 'documentary', 'here', 'and', 'there', 'watched', 'the', 'wiz', 'and', 'watched', 'moonwalker', 'again']\n",
      "\n",
      "['maybe', 'i', 'just', 'want', 'to', 'get', 'a', 'certain', 'insight', 'into', 'this', 'guy', 'who', 'i', 'thought', 'was', 'really', 'cool', 'in', 'the', 'eighties', 'just', 'to', 'maybe', 'make', 'up', 'my', 'mind', 'whether', 'he', 'is', 'guilty', 'or', 'innocent']\n",
      "\n",
      "['moonwalker', 'is', 'part', 'biography', 'part', 'feature', 'film', 'which', 'i', 'remember', 'going', 'to', 'see', 'at', 'the', 'cinema', 'when', 'it', 'was', 'originally', 'released']\n",
      "\n",
      "['some', 'of', 'it', 'has', 'subtle', 'messages', 'about', 'mjs', 'feeling', 'towards', 'the', 'press', 'and', 'also', 'the', 'obvious', 'message', 'of', 'drugs', 'are', 'bad', 'mkay']\n",
      "\n",
      "['visually', 'impressive', 'but', 'of', 'course', 'this', 'is', 'all', 'about', 'michael', 'jackson', 'so', 'unless', 'you', 'remotely', 'like', 'mj', 'in', 'anyway', 'then', 'you', 'are', 'going', 'to', 'hate', 'this', 'and', 'find', 'it', 'boring']\n",
      "\n"
     ]
    }
   ],
   "source": [
    "for i in sentences[0:5]:\n",
    "    print(\"{}\\n\".format(i))"
   ]
  },
  {
   "cell_type": "markdown",
   "metadata": {},
   "source": [
    "## `word2vec` embedding"
   ]
  },
  {
   "cell_type": "markdown",
   "metadata": {},
   "source": [
    "Before doing the embedding, let's define values for the model.\n",
    "\n",
    "- `num_feature`: The dimension of word vector. The more dimension the better representation but this is going to take more time to learn and more data. However, since we don't have that much data, let's set this to 50 only (default is 100).\n",
    "- `min_word_count`: Any words appears less than this number will not be considered in the learning (default is 5).\n",
    "- `window_size`: For any given word, window defines how many words to consider to it’s left and right (default is 5). This is the maximum distance between the current and predicted word within a sentence.\n",
    "- `down_sampling`: The threshold for configuring which higher-frequency words are randomly downsampled, useful range is (0, 1e-5).\n",
    "- `num_thread`: Number of parallel processes to run.\n",
    "- `iteration`: Number of iterations (epochs) over the corpus (default is 5). However, in practice, it's advised that more iteration will improve the representations.\n",
    "- Training algorithm: we will select between CBOW and Skip-gram model.\n",
    "        \n",
    "    - CBOW: works well with small dataset, well representation with rare words/phrases.\n",
    "    - Skip-gram: faster training time, slightly better accuracy for frequent words.\n",
    "    \n",
    "In this case, we will pick CBOW which is the default value."
   ]
  },
  {
   "cell_type": "markdown",
   "metadata": {},
   "source": [
    "### Training word embeddings"
   ]
  },
  {
   "cell_type": "code",
   "execution_count": 21,
   "metadata": {
    "scrolled": true
   },
   "outputs": [
    {
     "name": "stderr",
     "output_type": "stream",
     "text": [
      "2018-05-18 00:06:24,058 : WARNING : consider setting layer size to a multiple of 4 for greater performance\n",
      "2018-05-18 00:06:24,082 : INFO : collecting all words and their counts\n",
      "2018-05-18 00:06:24,087 : INFO : PROGRESS: at sentence #0, processed 0 words, keeping 0 word types\n",
      "2018-05-18 00:06:24,601 : INFO : PROGRESS: at sentence #10000, processed 185521 words, keeping 17175 word types\n",
      "2018-05-18 00:06:24,846 : INFO : PROGRESS: at sentence #20000, processed 367101 words, keeping 24423 word types\n",
      "2018-05-18 00:06:25,091 : INFO : PROGRESS: at sentence #30000, processed 551281 words, keeping 29689 word types\n",
      "2018-05-18 00:06:25,402 : INFO : PROGRESS: at sentence #40000, processed 733293 words, keeping 34309 word types\n",
      "2018-05-18 00:06:25,684 : INFO : PROGRESS: at sentence #50000, processed 917534 words, keeping 38241 word types\n",
      "2018-05-18 00:06:26,026 : INFO : PROGRESS: at sentence #60000, processed 1097938 words, keeping 41448 word types\n",
      "2018-05-18 00:06:26,562 : INFO : PROGRESS: at sentence #70000, processed 1281359 words, keeping 44467 word types\n",
      "2018-05-18 00:06:26,812 : INFO : PROGRESS: at sentence #80000, processed 1460910 words, keeping 47038 word types\n",
      "2018-05-18 00:06:27,047 : INFO : PROGRESS: at sentence #90000, processed 1644558 words, keeping 49608 word types\n",
      "2018-05-18 00:06:27,355 : INFO : PROGRESS: at sentence #100000, processed 1826582 words, keeping 52036 word types\n",
      "2018-05-18 00:06:27,618 : INFO : PROGRESS: at sentence #110000, processed 2007409 words, keeping 54453 word types\n",
      "2018-05-18 00:06:27,922 : INFO : PROGRESS: at sentence #120000, processed 2190231 words, keeping 56598 word types\n",
      "2018-05-18 00:06:28,146 : INFO : PROGRESS: at sentence #130000, processed 2367529 words, keeping 58516 word types\n",
      "2018-05-18 00:06:28,436 : INFO : PROGRESS: at sentence #140000, processed 2550831 words, keeping 60666 word types\n",
      "2018-05-18 00:06:28,724 : INFO : PROGRESS: at sentence #150000, processed 2731528 words, keeping 62672 word types\n",
      "2018-05-18 00:06:29,245 : INFO : PROGRESS: at sentence #160000, processed 2913850 words, keeping 64389 word types\n",
      "2018-05-18 00:06:29,671 : INFO : PROGRESS: at sentence #170000, processed 3096426 words, keeping 66034 word types\n",
      "2018-05-18 00:06:29,965 : INFO : PROGRESS: at sentence #180000, processed 3279121 words, keeping 67774 word types\n",
      "2018-05-18 00:06:30,227 : INFO : PROGRESS: at sentence #190000, processed 3459618 words, keeping 69482 word types\n",
      "2018-05-18 00:06:30,498 : INFO : PROGRESS: at sentence #200000, processed 3639713 words, keeping 71125 word types\n",
      "2018-05-18 00:06:30,729 : INFO : PROGRESS: at sentence #210000, processed 3818622 words, keeping 72616 word types\n",
      "2018-05-18 00:06:31,075 : INFO : PROGRESS: at sentence #220000, processed 3999038 words, keeping 74120 word types\n",
      "2018-05-18 00:06:31,381 : INFO : PROGRESS: at sentence #230000, processed 4183911 words, keeping 75596 word types\n",
      "2018-05-18 00:06:31,854 : INFO : PROGRESS: at sentence #240000, processed 4366067 words, keeping 77072 word types\n",
      "2018-05-18 00:06:32,141 : INFO : PROGRESS: at sentence #250000, processed 4544568 words, keeping 78528 word types\n",
      "2018-05-18 00:06:32,796 : INFO : PROGRESS: at sentence #260000, processed 4725793 words, keeping 79966 word types\n",
      "2018-05-18 00:06:33,231 : INFO : PROGRESS: at sentence #270000, processed 4907996 words, keeping 81373 word types\n",
      "2018-05-18 00:06:33,754 : INFO : PROGRESS: at sentence #280000, processed 5090806 words, keeping 82702 word types\n",
      "2018-05-18 00:06:34,080 : INFO : PROGRESS: at sentence #290000, processed 5272895 words, keeping 84007 word types\n",
      "2018-05-18 00:06:34,337 : INFO : PROGRESS: at sentence #300000, processed 5447266 words, keeping 85349 word types\n",
      "2018-05-18 00:06:34,565 : INFO : PROGRESS: at sentence #310000, processed 5628653 words, keeping 86621 word types\n",
      "2018-05-18 00:06:34,989 : INFO : PROGRESS: at sentence #320000, processed 5806854 words, keeping 87885 word types\n",
      "2018-05-18 00:06:35,370 : INFO : PROGRESS: at sentence #330000, processed 5989628 words, keeping 89475 word types\n",
      "2018-05-18 00:06:35,743 : INFO : PROGRESS: at sentence #340000, processed 6175538 words, keeping 91192 word types\n",
      "2018-05-18 00:06:36,138 : INFO : PROGRESS: at sentence #350000, processed 6360445 words, keeping 92874 word types\n",
      "2018-05-18 00:06:36,380 : INFO : PROGRESS: at sentence #360000, processed 6541617 words, keeping 94404 word types\n",
      "2018-05-18 00:06:36,883 : INFO : PROGRESS: at sentence #370000, processed 6724386 words, keeping 95864 word types\n",
      "2018-05-18 00:06:37,346 : INFO : PROGRESS: at sentence #380000, processed 6904942 words, keeping 97434 word types\n",
      "2018-05-18 00:06:37,965 : INFO : PROGRESS: at sentence #390000, processed 7087018 words, keeping 98789 word types\n",
      "2018-05-18 00:06:38,647 : INFO : PROGRESS: at sentence #400000, processed 7268566 words, keeping 100173 word types\n",
      "2018-05-18 00:06:38,957 : INFO : PROGRESS: at sentence #410000, processed 7453004 words, keeping 101640 word types\n",
      "2018-05-18 00:06:39,265 : INFO : PROGRESS: at sentence #420000, processed 7634893 words, keeping 102983 word types\n",
      "2018-05-18 00:06:39,564 : INFO : PROGRESS: at sentence #430000, processed 7813275 words, keeping 104242 word types\n",
      "2018-05-18 00:06:39,934 : INFO : PROGRESS: at sentence #440000, processed 7997375 words, keeping 105515 word types\n",
      "2018-05-18 00:06:40,299 : INFO : PROGRESS: at sentence #450000, processed 8182902 words, keeping 106905 word types\n",
      "2018-05-18 00:06:40,624 : INFO : PROGRESS: at sentence #460000, processed 8362135 words, keeping 108176 word types\n",
      "2018-05-18 00:06:40,900 : INFO : PROGRESS: at sentence #470000, processed 8548261 words, keeping 109424 word types\n",
      "2018-05-18 00:06:41,194 : INFO : PROGRESS: at sentence #480000, processed 8732553 words, keeping 110649 word types\n",
      "2018-05-18 00:06:41,541 : INFO : PROGRESS: at sentence #490000, processed 8913727 words, keeping 111781 word types\n",
      "2018-05-18 00:06:41,801 : INFO : PROGRESS: at sentence #500000, processed 9093678 words, keeping 112945 word types\n",
      "2018-05-18 00:06:42,230 : INFO : PROGRESS: at sentence #510000, processed 9275388 words, keeping 114137 word types\n",
      "2018-05-18 00:06:42,788 : INFO : PROGRESS: at sentence #520000, processed 9459363 words, keeping 115295 word types\n",
      "2018-05-18 00:06:43,380 : INFO : PROGRESS: at sentence #530000, processed 9640712 words, keeping 116368 word types\n",
      "2018-05-18 00:06:43,850 : INFO : PROGRESS: at sentence #540000, processed 9824624 words, keeping 117620 word types\n",
      "2018-05-18 00:06:44,300 : INFO : PROGRESS: at sentence #550000, processed 10007708 words, keeping 118796 word types\n",
      "2018-05-18 00:06:45,047 : INFO : PROGRESS: at sentence #560000, processed 10192698 words, keeping 120041 word types\n",
      "2018-05-18 00:06:45,864 : INFO : PROGRESS: at sentence #570000, processed 10378220 words, keeping 121100 word types\n",
      "2018-05-18 00:06:46,594 : INFO : PROGRESS: at sentence #580000, processed 10558932 words, keeping 122144 word types\n",
      "2018-05-18 00:06:47,299 : INFO : PROGRESS: at sentence #590000, processed 10740393 words, keeping 123302 word types\n",
      "2018-05-18 00:06:48,095 : INFO : PROGRESS: at sentence #600000, processed 10920250 words, keeping 124439 word types\n",
      "2018-05-18 00:06:49,168 : INFO : PROGRESS: at sentence #610000, processed 11101433 words, keeping 125610 word types\n",
      "2018-05-18 00:06:49,596 : INFO : PROGRESS: at sentence #620000, processed 11283479 words, keeping 126608 word types\n",
      "2018-05-18 00:06:50,155 : INFO : PROGRESS: at sentence #630000, processed 11462684 words, keeping 127680 word types\n",
      "2018-05-18 00:06:50,555 : INFO : PROGRESS: at sentence #640000, processed 11646591 words, keeping 128706 word types\n",
      "2018-05-18 00:06:50,904 : INFO : PROGRESS: at sentence #650000, processed 11826796 words, keeping 129800 word types\n",
      "2018-05-18 00:06:51,701 : INFO : PROGRESS: at sentence #660000, processed 12005740 words, keeping 130780 word types\n",
      "2018-05-18 00:06:53,047 : INFO : PROGRESS: at sentence #670000, processed 12190664 words, keeping 131820 word types\n",
      "2018-05-18 00:06:53,819 : INFO : PROGRESS: at sentence #680000, processed 12371704 words, keeping 132796 word types\n",
      "2018-05-18 00:06:54,856 : INFO : PROGRESS: at sentence #690000, processed 12555525 words, keeping 133882 word types\n",
      "2018-05-18 00:06:55,863 : INFO : PROGRESS: at sentence #700000, processed 12738032 words, keeping 134918 word types\n"
     ]
    },
    {
     "name": "stderr",
     "output_type": "stream",
     "text": [
      "2018-05-18 00:06:56,539 : INFO : PROGRESS: at sentence #710000, processed 12919593 words, keeping 135944 word types\n",
      "2018-05-18 00:06:57,379 : INFO : PROGRESS: at sentence #720000, processed 13103676 words, keeping 136863 word types\n",
      "2018-05-18 00:06:57,888 : INFO : PROGRESS: at sentence #730000, processed 13283040 words, keeping 137837 word types\n",
      "2018-05-18 00:06:58,486 : INFO : PROGRESS: at sentence #740000, processed 13468256 words, keeping 138924 word types\n",
      "2018-05-18 00:06:58,922 : INFO : PROGRESS: at sentence #750000, processed 13650003 words, keeping 139879 word types\n",
      "2018-05-18 00:06:59,443 : INFO : PROGRESS: at sentence #760000, processed 13830700 words, keeping 140743 word types\n",
      "2018-05-18 00:06:59,857 : INFO : PROGRESS: at sentence #770000, processed 14012331 words, keeping 141698 word types\n",
      "2018-05-18 00:07:00,418 : INFO : PROGRESS: at sentence #780000, processed 14195449 words, keeping 142712 word types\n",
      "2018-05-18 00:07:01,217 : INFO : PROGRESS: at sentence #790000, processed 14377292 words, keeping 143597 word types\n",
      "2018-05-18 00:07:01,950 : INFO : PROGRESS: at sentence #800000, processed 14560190 words, keeping 144603 word types\n",
      "2018-05-18 00:07:02,394 : INFO : PROGRESS: at sentence #810000, processed 14742207 words, keeping 145472 word types\n",
      "2018-05-18 00:07:02,966 : INFO : PROGRESS: at sentence #820000, processed 14924339 words, keeping 146391 word types\n",
      "2018-05-18 00:07:03,382 : INFO : PROGRESS: at sentence #830000, processed 15105644 words, keeping 147244 word types\n",
      "2018-05-18 00:07:03,881 : INFO : PROGRESS: at sentence #840000, processed 15288834 words, keeping 148197 word types\n",
      "2018-05-18 00:07:04,741 : INFO : PROGRESS: at sentence #850000, processed 15473736 words, keeping 149124 word types\n",
      "2018-05-18 00:07:05,507 : INFO : PROGRESS: at sentence #860000, processed 15653321 words, keeping 150082 word types\n",
      "2018-05-18 00:07:06,418 : INFO : PROGRESS: at sentence #870000, processed 15836176 words, keeping 150825 word types\n",
      "2018-05-18 00:07:06,920 : INFO : PROGRESS: at sentence #880000, processed 16018615 words, keeping 151770 word types\n",
      "2018-05-18 00:07:07,600 : INFO : PROGRESS: at sentence #890000, processed 16199816 words, keeping 152639 word types\n",
      "2018-05-18 00:07:08,285 : INFO : PROGRESS: at sentence #900000, processed 16380672 words, keeping 153519 word types\n",
      "2018-05-18 00:07:09,126 : INFO : PROGRESS: at sentence #910000, processed 16563464 words, keeping 154383 word types\n",
      "2018-05-18 00:07:10,008 : INFO : PROGRESS: at sentence #920000, processed 16739039 words, keeping 155211 word types\n",
      "2018-05-18 00:07:10,641 : INFO : PROGRESS: at sentence #930000, processed 16923180 words, keeping 156148 word types\n",
      "2018-05-18 00:07:11,267 : INFO : PROGRESS: at sentence #940000, processed 17111407 words, keeping 157042 word types\n",
      "2018-05-18 00:07:12,054 : INFO : PROGRESS: at sentence #950000, processed 17295627 words, keeping 157868 word types\n",
      "2018-05-18 00:07:12,538 : INFO : PROGRESS: at sentence #960000, processed 17477970 words, keeping 158789 word types\n",
      "2018-05-18 00:07:12,615 : INFO : collected 158916 word types from a corpus of 17503976 raw words and 961472 sentences\n",
      "2018-05-18 00:07:12,625 : INFO : Loading a fresh vocabulary\n",
      "2018-05-18 00:07:14,690 : INFO : min_count=20 retains 24800 unique words (15% of original 158916, drops 134116)\n",
      "2018-05-18 00:07:14,728 : INFO : min_count=20 leaves 17100338 word corpus (97% of original 17503976, drops 403638)\n",
      "2018-05-18 00:07:15,071 : INFO : deleting the raw counts dictionary of 158916 items\n",
      "2018-05-18 00:07:15,333 : INFO : sample=0.001 downsamples 47 most-common words\n",
      "2018-05-18 00:07:15,342 : INFO : downsampling leaves estimated 12868120 word corpus (75.3% of prior 17100338)\n",
      "2018-05-18 00:07:15,615 : INFO : estimated required memory for 24800 words and 50 dimensions: 22320000 bytes\n",
      "2018-05-18 00:07:15,620 : INFO : resetting layer weights\n",
      "2018-05-18 00:07:16,732 : INFO : training model with 5 workers on 24800 vocabulary and 50 features, using sg=0 hs=0 sample=0.001 negative=5 window=10\n",
      "2018-05-18 00:07:17,851 : INFO : EPOCH 1 - PROGRESS: at 1.47% examples, 188666 words/s, in_qsize 10, out_qsize 0\n",
      "2018-05-18 00:07:18,851 : INFO : EPOCH 1 - PROGRESS: at 3.51% examples, 226265 words/s, in_qsize 9, out_qsize 0\n",
      "2018-05-18 00:07:19,885 : INFO : EPOCH 1 - PROGRESS: at 5.79% examples, 245692 words/s, in_qsize 9, out_qsize 0\n",
      "2018-05-18 00:07:20,905 : INFO : EPOCH 1 - PROGRESS: at 8.36% examples, 265284 words/s, in_qsize 10, out_qsize 1\n",
      "2018-05-18 00:07:21,932 : INFO : EPOCH 1 - PROGRESS: at 11.33% examples, 286713 words/s, in_qsize 10, out_qsize 0\n",
      "2018-05-18 00:07:23,022 : INFO : EPOCH 1 - PROGRESS: at 13.91% examples, 289705 words/s, in_qsize 7, out_qsize 2\n",
      "2018-05-18 00:07:24,024 : INFO : EPOCH 1 - PROGRESS: at 16.49% examples, 295330 words/s, in_qsize 9, out_qsize 0\n",
      "2018-05-18 00:07:25,071 : INFO : EPOCH 1 - PROGRESS: at 18.46% examples, 288944 words/s, in_qsize 8, out_qsize 1\n",
      "2018-05-18 00:07:26,119 : INFO : EPOCH 1 - PROGRESS: at 20.71% examples, 287173 words/s, in_qsize 10, out_qsize 0\n",
      "2018-05-18 00:07:27,209 : INFO : EPOCH 1 - PROGRESS: at 22.80% examples, 282542 words/s, in_qsize 8, out_qsize 1\n",
      "2018-05-18 00:07:28,245 : INFO : EPOCH 1 - PROGRESS: at 24.84% examples, 280028 words/s, in_qsize 7, out_qsize 2\n",
      "2018-05-18 00:07:29,289 : INFO : EPOCH 1 - PROGRESS: at 27.32% examples, 281882 words/s, in_qsize 10, out_qsize 0\n",
      "2018-05-18 00:07:30,306 : INFO : EPOCH 1 - PROGRESS: at 29.94% examples, 285660 words/s, in_qsize 8, out_qsize 1\n",
      "2018-05-18 00:07:31,412 : INFO : EPOCH 1 - PROGRESS: at 32.09% examples, 282628 words/s, in_qsize 10, out_qsize 0\n",
      "2018-05-18 00:07:32,433 : INFO : EPOCH 1 - PROGRESS: at 34.50% examples, 283870 words/s, in_qsize 9, out_qsize 0\n",
      "2018-05-18 00:07:33,446 : INFO : EPOCH 1 - PROGRESS: at 38.01% examples, 293971 words/s, in_qsize 9, out_qsize 1\n",
      "2018-05-18 00:07:34,450 : INFO : EPOCH 1 - PROGRESS: at 41.50% examples, 302644 words/s, in_qsize 9, out_qsize 0\n",
      "2018-05-18 00:07:35,457 : INFO : EPOCH 1 - PROGRESS: at 44.00% examples, 303649 words/s, in_qsize 10, out_qsize 0\n",
      "2018-05-18 00:07:36,458 : INFO : EPOCH 1 - PROGRESS: at 46.23% examples, 302732 words/s, in_qsize 8, out_qsize 1\n",
      "2018-05-18 00:07:37,487 : INFO : EPOCH 1 - PROGRESS: at 49.33% examples, 307195 words/s, in_qsize 10, out_qsize 0\n",
      "2018-05-18 00:07:38,493 : INFO : EPOCH 1 - PROGRESS: at 52.60% examples, 312251 words/s, in_qsize 10, out_qsize 1\n",
      "2018-05-18 00:07:39,504 : INFO : EPOCH 1 - PROGRESS: at 56.01% examples, 317759 words/s, in_qsize 10, out_qsize 0\n",
      "2018-05-18 00:07:40,538 : INFO : EPOCH 1 - PROGRESS: at 59.39% examples, 322478 words/s, in_qsize 9, out_qsize 0\n",
      "2018-05-18 00:07:41,550 : INFO : EPOCH 1 - PROGRESS: at 62.55% examples, 325610 words/s, in_qsize 9, out_qsize 0\n",
      "2018-05-18 00:07:42,561 : INFO : EPOCH 1 - PROGRESS: at 65.59% examples, 327951 words/s, in_qsize 10, out_qsize 0\n",
      "2018-05-18 00:07:43,574 : INFO : EPOCH 1 - PROGRESS: at 68.29% examples, 328444 words/s, in_qsize 10, out_qsize 0\n",
      "2018-05-18 00:07:44,583 : INFO : EPOCH 1 - PROGRESS: at 70.40% examples, 326290 words/s, in_qsize 10, out_qsize 0\n",
      "2018-05-18 00:07:45,641 : INFO : EPOCH 1 - PROGRESS: at 73.30% examples, 327305 words/s, in_qsize 9, out_qsize 0\n",
      "2018-05-18 00:07:46,645 : INFO : EPOCH 1 - PROGRESS: at 75.45% examples, 325646 words/s, in_qsize 10, out_qsize 0\n",
      "2018-05-18 00:07:47,768 : INFO : EPOCH 1 - PROGRESS: at 78.35% examples, 325939 words/s, in_qsize 10, out_qsize 0\n",
      "2018-05-18 00:07:48,799 : INFO : EPOCH 1 - PROGRESS: at 81.16% examples, 326684 words/s, in_qsize 9, out_qsize 0\n",
      "2018-05-18 00:07:49,831 : INFO : EPOCH 1 - PROGRESS: at 84.12% examples, 328029 words/s, in_qsize 10, out_qsize 0\n",
      "2018-05-18 00:07:50,886 : INFO : EPOCH 1 - PROGRESS: at 86.92% examples, 328426 words/s, in_qsize 10, out_qsize 0\n",
      "2018-05-18 00:07:51,904 : INFO : EPOCH 1 - PROGRESS: at 89.69% examples, 329143 words/s, in_qsize 10, out_qsize 0\n",
      "2018-05-18 00:07:52,941 : INFO : EPOCH 1 - PROGRESS: at 91.58% examples, 326402 words/s, in_qsize 5, out_qsize 4\n",
      "2018-05-18 00:07:53,956 : INFO : EPOCH 1 - PROGRESS: at 93.59% examples, 324403 words/s, in_qsize 10, out_qsize 0\n",
      "2018-05-18 00:07:55,000 : INFO : EPOCH 1 - PROGRESS: at 95.73% examples, 322639 words/s, in_qsize 9, out_qsize 0\n"
     ]
    },
    {
     "name": "stderr",
     "output_type": "stream",
     "text": [
      "2018-05-18 00:07:56,013 : INFO : EPOCH 1 - PROGRESS: at 98.42% examples, 323289 words/s, in_qsize 9, out_qsize 0\n",
      "2018-05-18 00:07:56,823 : INFO : worker thread finished; awaiting finish of 4 more threads\n",
      "2018-05-18 00:07:56,827 : INFO : worker thread finished; awaiting finish of 3 more threads\n",
      "2018-05-18 00:07:56,867 : INFO : worker thread finished; awaiting finish of 2 more threads\n",
      "2018-05-18 00:07:56,908 : INFO : worker thread finished; awaiting finish of 1 more threads\n",
      "2018-05-18 00:07:56,912 : INFO : worker thread finished; awaiting finish of 0 more threads\n",
      "2018-05-18 00:07:56,916 : INFO : EPOCH - 1 : training on 17503976 raw words (12867740 effective words) took 40.1s, 321072 effective words/s\n",
      "2018-05-18 00:07:57,968 : INFO : EPOCH 2 - PROGRESS: at 2.04% examples, 258036 words/s, in_qsize 10, out_qsize 0\n",
      "2018-05-18 00:07:59,039 : INFO : EPOCH 2 - PROGRESS: at 4.08% examples, 252392 words/s, in_qsize 9, out_qsize 0\n",
      "2018-05-18 00:08:00,040 : INFO : EPOCH 2 - PROGRESS: at 6.47% examples, 270243 words/s, in_qsize 10, out_qsize 0\n",
      "2018-05-18 00:08:01,167 : INFO : EPOCH 2 - PROGRESS: at 9.38% examples, 286745 words/s, in_qsize 9, out_qsize 0\n",
      "2018-05-18 00:08:02,169 : INFO : EPOCH 2 - PROGRESS: at 11.73% examples, 289389 words/s, in_qsize 10, out_qsize 0\n",
      "2018-05-18 00:08:03,182 : INFO : EPOCH 2 - PROGRESS: at 13.97% examples, 288420 words/s, in_qsize 10, out_qsize 0\n",
      "2018-05-18 00:08:04,196 : INFO : EPOCH 2 - PROGRESS: at 16.54% examples, 293635 words/s, in_qsize 10, out_qsize 0\n",
      "2018-05-18 00:08:05,223 : INFO : EPOCH 2 - PROGRESS: at 19.45% examples, 302372 words/s, in_qsize 10, out_qsize 0\n",
      "2018-05-18 00:08:06,229 : INFO : EPOCH 2 - PROGRESS: at 22.23% examples, 307643 words/s, in_qsize 9, out_qsize 0\n",
      "2018-05-18 00:08:07,238 : INFO : EPOCH 2 - PROGRESS: at 25.83% examples, 322404 words/s, in_qsize 9, out_qsize 0\n",
      "2018-05-18 00:08:08,313 : INFO : EPOCH 2 - PROGRESS: at 28.17% examples, 318360 words/s, in_qsize 10, out_qsize 0\n",
      "2018-05-18 00:08:09,333 : INFO : EPOCH 2 - PROGRESS: at 31.00% examples, 321218 words/s, in_qsize 10, out_qsize 0\n",
      "2018-05-18 00:08:10,447 : INFO : EPOCH 2 - PROGRESS: at 33.78% examples, 320789 words/s, in_qsize 9, out_qsize 0\n",
      "2018-05-18 00:08:11,450 : INFO : EPOCH 2 - PROGRESS: at 36.53% examples, 323437 words/s, in_qsize 10, out_qsize 0\n",
      "2018-05-18 00:08:12,496 : INFO : EPOCH 2 - PROGRESS: at 38.64% examples, 319140 words/s, in_qsize 8, out_qsize 1\n",
      "2018-05-18 00:08:13,501 : INFO : EPOCH 2 - PROGRESS: at 41.56% examples, 322365 words/s, in_qsize 9, out_qsize 1\n",
      "2018-05-18 00:08:14,539 : INFO : EPOCH 2 - PROGRESS: at 43.48% examples, 317550 words/s, in_qsize 10, out_qsize 0\n",
      "2018-05-18 00:08:15,554 : INFO : EPOCH 2 - PROGRESS: at 47.08% examples, 325032 words/s, in_qsize 9, out_qsize 1\n",
      "2018-05-18 00:08:16,557 : INFO : EPOCH 2 - PROGRESS: at 49.11% examples, 321905 words/s, in_qsize 10, out_qsize 0\n",
      "2018-05-18 00:08:17,566 : INFO : EPOCH 2 - PROGRESS: at 52.15% examples, 325017 words/s, in_qsize 9, out_qsize 0\n",
      "2018-05-18 00:08:18,574 : INFO : EPOCH 2 - PROGRESS: at 54.81% examples, 325821 words/s, in_qsize 10, out_qsize 0\n",
      "2018-05-18 00:08:19,599 : INFO : EPOCH 2 - PROGRESS: at 56.98% examples, 323398 words/s, in_qsize 10, out_qsize 0\n",
      "2018-05-18 00:08:20,599 : INFO : EPOCH 2 - PROGRESS: at 59.05% examples, 321203 words/s, in_qsize 9, out_qsize 1\n",
      "2018-05-18 00:08:21,620 : INFO : EPOCH 2 - PROGRESS: at 61.10% examples, 318603 words/s, in_qsize 9, out_qsize 2\n",
      "2018-05-18 00:08:22,661 : INFO : EPOCH 2 - PROGRESS: at 63.63% examples, 318261 words/s, in_qsize 10, out_qsize 0\n",
      "2018-05-18 00:08:23,737 : INFO : EPOCH 2 - PROGRESS: at 65.91% examples, 316433 words/s, in_qsize 10, out_qsize 0\n",
      "2018-05-18 00:08:24,768 : INFO : EPOCH 2 - PROGRESS: at 67.94% examples, 313950 words/s, in_qsize 9, out_qsize 1\n",
      "2018-05-18 00:08:25,790 : INFO : EPOCH 2 - PROGRESS: at 69.76% examples, 310982 words/s, in_qsize 8, out_qsize 2\n",
      "2018-05-18 00:08:26,841 : INFO : EPOCH 2 - PROGRESS: at 72.25% examples, 310863 words/s, in_qsize 9, out_qsize 0\n",
      "2018-05-18 00:08:27,908 : INFO : EPOCH 2 - PROGRESS: at 74.43% examples, 309162 words/s, in_qsize 10, out_qsize 0\n",
      "2018-05-18 00:08:28,939 : INFO : EPOCH 2 - PROGRESS: at 77.39% examples, 311138 words/s, in_qsize 9, out_qsize 0\n",
      "2018-05-18 00:08:29,949 : INFO : EPOCH 2 - PROGRESS: at 80.59% examples, 314069 words/s, in_qsize 10, out_qsize 0\n",
      "2018-05-18 00:08:30,966 : INFO : EPOCH 2 - PROGRESS: at 83.73% examples, 316575 words/s, in_qsize 10, out_qsize 0\n",
      "2018-05-18 00:08:31,979 : INFO : EPOCH 2 - PROGRESS: at 86.80% examples, 318740 words/s, in_qsize 10, out_qsize 0\n",
      "2018-05-18 00:08:33,039 : INFO : EPOCH 2 - PROGRESS: at 89.87% examples, 320371 words/s, in_qsize 7, out_qsize 2\n",
      "2018-05-18 00:08:34,043 : INFO : EPOCH 2 - PROGRESS: at 92.79% examples, 321793 words/s, in_qsize 9, out_qsize 0\n",
      "2018-05-18 00:08:35,043 : INFO : EPOCH 2 - PROGRESS: at 94.61% examples, 319504 words/s, in_qsize 9, out_qsize 0\n",
      "2018-05-18 00:08:36,043 : INFO : EPOCH 2 - PROGRESS: at 97.13% examples, 319590 words/s, in_qsize 8, out_qsize 1\n",
      "2018-05-18 00:08:37,048 : INFO : EPOCH 2 - PROGRESS: at 99.27% examples, 318544 words/s, in_qsize 9, out_qsize 0\n",
      "2018-05-18 00:08:37,249 : INFO : worker thread finished; awaiting finish of 4 more threads\n",
      "2018-05-18 00:08:37,252 : INFO : worker thread finished; awaiting finish of 3 more threads\n",
      "2018-05-18 00:08:37,261 : INFO : worker thread finished; awaiting finish of 2 more threads\n",
      "2018-05-18 00:08:37,265 : INFO : worker thread finished; awaiting finish of 1 more threads\n",
      "2018-05-18 00:08:37,279 : INFO : worker thread finished; awaiting finish of 0 more threads\n",
      "2018-05-18 00:08:37,282 : INFO : EPOCH - 2 : training on 17503976 raw words (12867927 effective words) took 40.3s, 319003 effective words/s\n",
      "2018-05-18 00:08:38,313 : INFO : EPOCH 3 - PROGRESS: at 4.03% examples, 519676 words/s, in_qsize 9, out_qsize 0\n",
      "2018-05-18 00:08:39,319 : INFO : EPOCH 3 - PROGRESS: at 7.61% examples, 489549 words/s, in_qsize 9, out_qsize 0\n",
      "2018-05-18 00:08:40,351 : INFO : EPOCH 3 - PROGRESS: at 9.38% examples, 398359 words/s, in_qsize 8, out_qsize 1\n",
      "2018-05-18 00:08:41,360 : INFO : EPOCH 3 - PROGRESS: at 12.30% examples, 391702 words/s, in_qsize 10, out_qsize 0\n",
      "2018-05-18 00:08:42,366 : INFO : EPOCH 3 - PROGRESS: at 14.59% examples, 371799 words/s, in_qsize 10, out_qsize 0\n",
      "2018-05-18 00:08:43,390 : INFO : EPOCH 3 - PROGRESS: at 17.29% examples, 365936 words/s, in_qsize 8, out_qsize 1\n",
      "2018-05-18 00:08:44,397 : INFO : EPOCH 3 - PROGRESS: at 21.17% examples, 384462 words/s, in_qsize 10, out_qsize 0\n",
      "2018-05-18 00:08:45,439 : INFO : EPOCH 3 - PROGRESS: at 24.34% examples, 384915 words/s, in_qsize 8, out_qsize 1\n",
      "2018-05-18 00:08:46,444 : INFO : EPOCH 3 - PROGRESS: at 27.65% examples, 389171 words/s, in_qsize 9, out_qsize 0\n",
      "2018-05-18 00:08:47,456 : INFO : EPOCH 3 - PROGRESS: at 31.18% examples, 394481 words/s, in_qsize 9, out_qsize 0\n",
      "2018-05-18 00:08:48,461 : INFO : EPOCH 3 - PROGRESS: at 34.61% examples, 398397 words/s, in_qsize 10, out_qsize 0\n",
      "2018-05-18 00:08:49,464 : INFO : EPOCH 3 - PROGRESS: at 38.23% examples, 404171 words/s, in_qsize 10, out_qsize 0\n",
      "2018-05-18 00:08:50,475 : INFO : EPOCH 3 - PROGRESS: at 41.84% examples, 408267 words/s, in_qsize 8, out_qsize 1\n",
      "2018-05-18 00:08:51,478 : INFO : EPOCH 3 - PROGRESS: at 45.77% examples, 415081 words/s, in_qsize 9, out_qsize 0\n",
      "2018-05-18 00:08:52,482 : INFO : EPOCH 3 - PROGRESS: at 48.04% examples, 406955 words/s, in_qsize 8, out_qsize 1\n",
      "2018-05-18 00:08:53,484 : INFO : EPOCH 3 - PROGRESS: at 51.17% examples, 406742 words/s, in_qsize 9, out_qsize 0\n",
      "2018-05-18 00:08:54,498 : INFO : EPOCH 3 - PROGRESS: at 54.80% examples, 410090 words/s, in_qsize 9, out_qsize 0\n",
      "2018-05-18 00:08:55,518 : INFO : EPOCH 3 - PROGRESS: at 58.55% examples, 413728 words/s, in_qsize 9, out_qsize 0\n",
      "2018-05-18 00:08:56,525 : INFO : EPOCH 3 - PROGRESS: at 61.17% examples, 409590 words/s, in_qsize 9, out_qsize 0\n",
      "2018-05-18 00:08:57,545 : INFO : EPOCH 3 - PROGRESS: at 65.07% examples, 413646 words/s, in_qsize 10, out_qsize 0\n",
      "2018-05-18 00:08:58,548 : INFO : EPOCH 3 - PROGRESS: at 68.52% examples, 414862 words/s, in_qsize 10, out_qsize 0\n",
      "2018-05-18 00:08:59,562 : INFO : EPOCH 3 - PROGRESS: at 72.49% examples, 419059 words/s, in_qsize 9, out_qsize 0\n"
     ]
    },
    {
     "name": "stderr",
     "output_type": "stream",
     "text": [
      "2018-05-18 00:09:00,584 : INFO : EPOCH 3 - PROGRESS: at 76.43% examples, 422423 words/s, in_qsize 10, out_qsize 0\n",
      "2018-05-18 00:09:01,600 : INFO : EPOCH 3 - PROGRESS: at 80.31% examples, 425311 words/s, in_qsize 10, out_qsize 0\n",
      "2018-05-18 00:09:02,619 : INFO : EPOCH 3 - PROGRESS: at 84.41% examples, 429068 words/s, in_qsize 10, out_qsize 0\n",
      "2018-05-18 00:09:03,640 : INFO : EPOCH 3 - PROGRESS: at 87.48% examples, 427473 words/s, in_qsize 9, out_qsize 0\n",
      "2018-05-18 00:09:04,644 : INFO : EPOCH 3 - PROGRESS: at 91.69% examples, 431650 words/s, in_qsize 10, out_qsize 0\n",
      "2018-05-18 00:09:05,655 : INFO : EPOCH 3 - PROGRESS: at 95.95% examples, 435426 words/s, in_qsize 9, out_qsize 0\n",
      "2018-05-18 00:09:06,672 : INFO : EPOCH 3 - PROGRESS: at 99.43% examples, 435833 words/s, in_qsize 10, out_qsize 0\n",
      "2018-05-18 00:09:06,737 : INFO : worker thread finished; awaiting finish of 4 more threads\n",
      "2018-05-18 00:09:06,740 : INFO : worker thread finished; awaiting finish of 3 more threads\n",
      "2018-05-18 00:09:06,758 : INFO : worker thread finished; awaiting finish of 2 more threads\n",
      "2018-05-18 00:09:06,770 : INFO : worker thread finished; awaiting finish of 1 more threads\n",
      "2018-05-18 00:09:06,781 : INFO : worker thread finished; awaiting finish of 0 more threads\n",
      "2018-05-18 00:09:06,784 : INFO : EPOCH - 3 : training on 17503976 raw words (12867178 effective words) took 29.5s, 436594 effective words/s\n",
      "2018-05-18 00:09:07,845 : INFO : EPOCH 4 - PROGRESS: at 4.03% examples, 505265 words/s, in_qsize 9, out_qsize 0\n",
      "2018-05-18 00:09:08,865 : INFO : EPOCH 4 - PROGRESS: at 8.13% examples, 511786 words/s, in_qsize 10, out_qsize 0\n",
      "2018-05-18 00:09:09,886 : INFO : EPOCH 4 - PROGRESS: at 11.84% examples, 496934 words/s, in_qsize 10, out_qsize 0\n",
      "2018-05-18 00:09:10,886 : INFO : EPOCH 4 - PROGRESS: at 15.85% examples, 501175 words/s, in_qsize 9, out_qsize 0\n",
      "2018-05-18 00:09:11,901 : INFO : EPOCH 4 - PROGRESS: at 19.61% examples, 496403 words/s, in_qsize 10, out_qsize 0\n",
      "2018-05-18 00:09:12,908 : INFO : EPOCH 4 - PROGRESS: at 23.70% examples, 500009 words/s, in_qsize 9, out_qsize 0\n",
      "2018-05-18 00:09:13,913 : INFO : EPOCH 4 - PROGRESS: at 27.64% examples, 500549 words/s, in_qsize 10, out_qsize 0\n",
      "2018-05-18 00:09:14,920 : INFO : EPOCH 4 - PROGRESS: at 31.81% examples, 503607 words/s, in_qsize 9, out_qsize 0\n",
      "2018-05-18 00:09:15,991 : INFO : EPOCH 4 - PROGRESS: at 34.90% examples, 487975 words/s, in_qsize 9, out_qsize 0\n",
      "2018-05-18 00:09:17,012 : INFO : EPOCH 4 - PROGRESS: at 37.61% examples, 473664 words/s, in_qsize 10, out_qsize 0\n",
      "2018-05-18 00:09:18,043 : INFO : EPOCH 4 - PROGRESS: at 40.41% examples, 462276 words/s, in_qsize 10, out_qsize 0\n",
      "2018-05-18 00:09:19,073 : INFO : EPOCH 4 - PROGRESS: at 42.81% examples, 448587 words/s, in_qsize 10, out_qsize 0\n",
      "2018-05-18 00:09:20,095 : INFO : EPOCH 4 - PROGRESS: at 45.43% examples, 439494 words/s, in_qsize 9, out_qsize 0\n",
      "2018-05-18 00:09:21,180 : INFO : EPOCH 4 - PROGRESS: at 48.04% examples, 429823 words/s, in_qsize 10, out_qsize 0\n",
      "2018-05-18 00:09:22,222 : INFO : EPOCH 4 - PROGRESS: at 51.45% examples, 429364 words/s, in_qsize 8, out_qsize 1\n",
      "2018-05-18 00:09:23,233 : INFO : EPOCH 4 - PROGRESS: at 54.69% examples, 428374 words/s, in_qsize 9, out_qsize 1\n",
      "2018-05-18 00:09:24,243 : INFO : EPOCH 4 - PROGRESS: at 58.78% examples, 433893 words/s, in_qsize 9, out_qsize 0\n",
      "2018-05-18 00:09:25,262 : INFO : EPOCH 4 - PROGRESS: at 62.44% examples, 435382 words/s, in_qsize 10, out_qsize 2\n",
      "2018-05-18 00:09:26,274 : INFO : EPOCH 4 - PROGRESS: at 65.13% examples, 430499 words/s, in_qsize 9, out_qsize 0\n",
      "2018-05-18 00:09:27,276 : INFO : EPOCH 4 - PROGRESS: at 67.29% examples, 423070 words/s, in_qsize 10, out_qsize 1\n",
      "2018-05-18 00:09:28,324 : INFO : EPOCH 4 - PROGRESS: at 70.05% examples, 418825 words/s, in_qsize 10, out_qsize 0\n",
      "2018-05-18 00:09:29,329 : INFO : EPOCH 4 - PROGRESS: at 72.60% examples, 414807 words/s, in_qsize 10, out_qsize 0\n",
      "2018-05-18 00:09:30,331 : INFO : EPOCH 4 - PROGRESS: at 75.16% examples, 411195 words/s, in_qsize 10, out_qsize 0\n",
      "2018-05-18 00:09:31,337 : INFO : EPOCH 4 - PROGRESS: at 78.47% examples, 411716 words/s, in_qsize 8, out_qsize 1\n",
      "2018-05-18 00:09:32,351 : INFO : EPOCH 4 - PROGRESS: at 82.53% examples, 415771 words/s, in_qsize 10, out_qsize 0\n",
      "2018-05-18 00:09:33,357 : INFO : EPOCH 4 - PROGRESS: at 85.66% examples, 415242 words/s, in_qsize 9, out_qsize 0\n",
      "2018-05-18 00:09:34,399 : INFO : EPOCH 4 - PROGRESS: at 88.10% examples, 410975 words/s, in_qsize 9, out_qsize 0\n",
      "2018-05-18 00:09:35,401 : INFO : EPOCH 4 - PROGRESS: at 90.73% examples, 408382 words/s, in_qsize 10, out_qsize 0\n",
      "2018-05-18 00:09:36,464 : INFO : EPOCH 4 - PROGRESS: at 93.36% examples, 405145 words/s, in_qsize 9, out_qsize 0\n",
      "2018-05-18 00:09:37,475 : INFO : EPOCH 4 - PROGRESS: at 95.89% examples, 402326 words/s, in_qsize 9, out_qsize 0\n",
      "2018-05-18 00:09:38,543 : INFO : EPOCH 4 - PROGRESS: at 99.49% examples, 403583 words/s, in_qsize 9, out_qsize 0\n",
      "2018-05-18 00:09:38,613 : INFO : worker thread finished; awaiting finish of 4 more threads\n",
      "2018-05-18 00:09:38,616 : INFO : worker thread finished; awaiting finish of 3 more threads\n",
      "2018-05-18 00:09:38,625 : INFO : worker thread finished; awaiting finish of 2 more threads\n",
      "2018-05-18 00:09:38,635 : INFO : worker thread finished; awaiting finish of 1 more threads\n",
      "2018-05-18 00:09:38,651 : INFO : worker thread finished; awaiting finish of 0 more threads\n",
      "2018-05-18 00:09:38,654 : INFO : EPOCH - 4 : training on 17503976 raw words (12869044 effective words) took 31.8s, 404180 effective words/s\n",
      "2018-05-18 00:09:39,725 : INFO : EPOCH 5 - PROGRESS: at 3.23% examples, 407311 words/s, in_qsize 8, out_qsize 1\n",
      "2018-05-18 00:09:40,731 : INFO : EPOCH 5 - PROGRESS: at 6.58% examples, 418676 words/s, in_qsize 9, out_qsize 0\n",
      "2018-05-18 00:09:41,779 : INFO : EPOCH 5 - PROGRESS: at 9.61% examples, 402597 words/s, in_qsize 10, out_qsize 0\n",
      "2018-05-18 00:09:42,797 : INFO : EPOCH 5 - PROGRESS: at 13.11% examples, 411882 words/s, in_qsize 9, out_qsize 1\n",
      "2018-05-18 00:09:43,804 : INFO : EPOCH 5 - PROGRESS: at 15.27% examples, 385276 words/s, in_qsize 8, out_qsize 1\n",
      "2018-05-18 00:09:44,808 : INFO : EPOCH 5 - PROGRESS: at 17.35% examples, 365331 words/s, in_qsize 9, out_qsize 0\n",
      "2018-05-18 00:09:45,903 : INFO : EPOCH 5 - PROGRESS: at 19.45% examples, 347480 words/s, in_qsize 9, out_qsize 1\n",
      "2018-05-18 00:09:46,911 : INFO : EPOCH 5 - PROGRESS: at 21.64% examples, 338864 words/s, in_qsize 10, out_qsize 1\n",
      "2018-05-18 00:09:47,911 : INFO : EPOCH 5 - PROGRESS: at 23.48% examples, 327567 words/s, in_qsize 10, out_qsize 0\n",
      "2018-05-18 00:09:48,914 : INFO : EPOCH 5 - PROGRESS: at 25.71% examples, 323421 words/s, in_qsize 9, out_qsize 0\n",
      "2018-05-18 00:09:49,925 : INFO : EPOCH 5 - PROGRESS: at 27.54% examples, 315234 words/s, in_qsize 9, out_qsize 0\n",
      "2018-05-18 00:09:50,930 : INFO : EPOCH 5 - PROGRESS: at 30.46% examples, 319944 words/s, in_qsize 10, out_qsize 0\n",
      "2018-05-18 00:09:51,951 : INFO : EPOCH 5 - PROGRESS: at 33.89% examples, 327952 words/s, in_qsize 9, out_qsize 0\n",
      "2018-05-18 00:09:53,059 : INFO : EPOCH 5 - PROGRESS: at 36.76% examples, 328734 words/s, in_qsize 9, out_qsize 0\n",
      "2018-05-18 00:09:54,061 : INFO : EPOCH 5 - PROGRESS: at 40.07% examples, 334981 words/s, in_qsize 9, out_qsize 0\n",
      "2018-05-18 00:09:55,061 : INFO : EPOCH 5 - PROGRESS: at 42.98% examples, 337372 words/s, in_qsize 9, out_qsize 0\n",
      "2018-05-18 00:09:56,070 : INFO : EPOCH 5 - PROGRESS: at 45.71% examples, 338050 words/s, in_qsize 9, out_qsize 0\n",
      "2018-05-18 00:09:57,082 : INFO : EPOCH 5 - PROGRESS: at 49.67% examples, 347386 words/s, in_qsize 9, out_qsize 0\n",
      "2018-05-18 00:09:58,107 : INFO : EPOCH 5 - PROGRESS: at 52.83% examples, 349846 words/s, in_qsize 8, out_qsize 1\n",
      "2018-05-18 00:09:59,183 : INFO : EPOCH 5 - PROGRESS: at 55.28% examples, 346878 words/s, in_qsize 9, out_qsize 0\n",
      "2018-05-18 00:10:00,185 : INFO : EPOCH 5 - PROGRESS: at 57.87% examples, 346404 words/s, in_qsize 10, out_qsize 0\n",
      "2018-05-18 00:10:01,204 : INFO : EPOCH 5 - PROGRESS: at 60.07% examples, 343452 words/s, in_qsize 9, out_qsize 0\n",
      "2018-05-18 00:10:02,215 : INFO : EPOCH 5 - PROGRESS: at 62.61% examples, 342425 words/s, in_qsize 9, out_qsize 0\n",
      "2018-05-18 00:10:03,272 : INFO : EPOCH 5 - PROGRESS: at 65.70% examples, 343832 words/s, in_qsize 10, out_qsize 0\n"
     ]
    },
    {
     "name": "stderr",
     "output_type": "stream",
     "text": [
      "2018-05-18 00:10:04,275 : INFO : EPOCH 5 - PROGRESS: at 67.48% examples, 339250 words/s, in_qsize 9, out_qsize 0\n",
      "2018-05-18 00:10:05,310 : INFO : EPOCH 5 - PROGRESS: at 69.30% examples, 334893 words/s, in_qsize 10, out_qsize 1\n",
      "2018-05-18 00:10:06,320 : INFO : EPOCH 5 - PROGRESS: at 70.84% examples, 329827 words/s, in_qsize 9, out_qsize 0\n",
      "2018-05-18 00:10:07,327 : INFO : EPOCH 5 - PROGRESS: at 73.00% examples, 327979 words/s, in_qsize 10, out_qsize 2\n",
      "2018-05-18 00:10:08,352 : INFO : EPOCH 5 - PROGRESS: at 75.39% examples, 327054 words/s, in_qsize 8, out_qsize 1\n",
      "2018-05-18 00:10:09,358 : INFO : EPOCH 5 - PROGRESS: at 77.73% examples, 326151 words/s, in_qsize 9, out_qsize 0\n",
      "2018-05-18 00:10:10,368 : INFO : EPOCH 5 - PROGRESS: at 81.22% examples, 329896 words/s, in_qsize 10, out_qsize 0\n",
      "2018-05-18 00:10:11,370 : INFO : EPOCH 5 - PROGRESS: at 83.89% examples, 330339 words/s, in_qsize 10, out_qsize 0\n",
      "2018-05-18 00:10:12,375 : INFO : EPOCH 5 - PROGRESS: at 86.52% examples, 330510 words/s, in_qsize 9, out_qsize 0\n",
      "2018-05-18 00:10:13,394 : INFO : EPOCH 5 - PROGRESS: at 89.75% examples, 332863 words/s, in_qsize 10, out_qsize 0\n",
      "2018-05-18 00:10:14,408 : INFO : EPOCH 5 - PROGRESS: at 92.38% examples, 332871 words/s, in_qsize 9, out_qsize 0\n",
      "2018-05-18 00:10:15,449 : INFO : EPOCH 5 - PROGRESS: at 95.44% examples, 334032 words/s, in_qsize 10, out_qsize 1\n",
      "2018-05-18 00:10:16,463 : INFO : EPOCH 5 - PROGRESS: at 98.65% examples, 336145 words/s, in_qsize 9, out_qsize 0\n",
      "2018-05-18 00:10:16,896 : INFO : worker thread finished; awaiting finish of 4 more threads\n",
      "2018-05-18 00:10:16,929 : INFO : worker thread finished; awaiting finish of 3 more threads\n",
      "2018-05-18 00:10:16,933 : INFO : worker thread finished; awaiting finish of 2 more threads\n",
      "2018-05-18 00:10:16,996 : INFO : worker thread finished; awaiting finish of 1 more threads\n",
      "2018-05-18 00:10:17,001 : INFO : worker thread finished; awaiting finish of 0 more threads\n",
      "2018-05-18 00:10:17,004 : INFO : EPOCH - 5 : training on 17503976 raw words (12868285 effective words) took 38.3s, 335938 effective words/s\n",
      "2018-05-18 00:10:18,058 : INFO : EPOCH 6 - PROGRESS: at 2.94% examples, 380527 words/s, in_qsize 9, out_qsize 1\n",
      "2018-05-18 00:10:19,085 : INFO : EPOCH 6 - PROGRESS: at 6.13% examples, 390409 words/s, in_qsize 10, out_qsize 0\n",
      "2018-05-18 00:10:20,086 : INFO : EPOCH 6 - PROGRESS: at 9.16% examples, 389976 words/s, in_qsize 10, out_qsize 0\n",
      "2018-05-18 00:10:21,113 : INFO : EPOCH 6 - PROGRESS: at 11.74% examples, 372662 words/s, in_qsize 7, out_qsize 2\n",
      "2018-05-18 00:10:22,127 : INFO : EPOCH 6 - PROGRESS: at 13.17% examples, 334436 words/s, in_qsize 10, out_qsize 0\n",
      "2018-05-18 00:10:23,183 : INFO : EPOCH 6 - PROGRESS: at 14.88% examples, 312666 words/s, in_qsize 9, out_qsize 0\n",
      "2018-05-18 00:10:24,238 : INFO : EPOCH 6 - PROGRESS: at 16.94% examples, 303586 words/s, in_qsize 8, out_qsize 1\n",
      "2018-05-18 00:10:25,277 : INFO : EPOCH 6 - PROGRESS: at 18.41% examples, 288400 words/s, in_qsize 9, out_qsize 0\n",
      "2018-05-18 00:10:26,288 : INFO : EPOCH 6 - PROGRESS: at 20.54% examples, 286234 words/s, in_qsize 10, out_qsize 0\n",
      "2018-05-18 00:10:27,352 : INFO : EPOCH 6 - PROGRESS: at 22.45% examples, 280211 words/s, in_qsize 10, out_qsize 0\n",
      "2018-05-18 00:10:28,384 : INFO : EPOCH 6 - PROGRESS: at 24.04% examples, 272880 words/s, in_qsize 10, out_qsize 0\n",
      "2018-05-18 00:10:29,401 : INFO : EPOCH 6 - PROGRESS: at 26.05% examples, 271206 words/s, in_qsize 10, out_qsize 0\n",
      "2018-05-18 00:10:30,496 : INFO : EPOCH 6 - PROGRESS: at 27.37% examples, 261660 words/s, in_qsize 8, out_qsize 1\n",
      "2018-05-18 00:10:31,515 : INFO : EPOCH 6 - PROGRESS: at 29.24% examples, 260003 words/s, in_qsize 10, out_qsize 0\n",
      "2018-05-18 00:10:32,531 : INFO : EPOCH 6 - PROGRESS: at 31.12% examples, 258138 words/s, in_qsize 9, out_qsize 0\n",
      "2018-05-18 00:10:33,572 : INFO : EPOCH 6 - PROGRESS: at 32.79% examples, 254737 words/s, in_qsize 9, out_qsize 1\n",
      "2018-05-18 00:10:34,621 : INFO : EPOCH 6 - PROGRESS: at 34.45% examples, 251648 words/s, in_qsize 8, out_qsize 1\n",
      "2018-05-18 00:10:35,725 : INFO : EPOCH 6 - PROGRESS: at 36.14% examples, 248551 words/s, in_qsize 7, out_qsize 2\n",
      "2018-05-18 00:10:36,743 : INFO : EPOCH 6 - PROGRESS: at 37.61% examples, 245447 words/s, in_qsize 9, out_qsize 0\n",
      "2018-05-18 00:10:37,799 : INFO : EPOCH 6 - PROGRESS: at 39.45% examples, 244282 words/s, in_qsize 10, out_qsize 0\n",
      "2018-05-18 00:10:38,822 : INFO : EPOCH 6 - PROGRESS: at 40.24% examples, 237529 words/s, in_qsize 10, out_qsize 0\n",
      "2018-05-18 00:10:39,909 : INFO : EPOCH 6 - PROGRESS: at 41.21% examples, 231680 words/s, in_qsize 9, out_qsize 0\n",
      "2018-05-18 00:10:40,958 : INFO : EPOCH 6 - PROGRESS: at 42.46% examples, 228270 words/s, in_qsize 9, out_qsize 0\n",
      "2018-05-18 00:10:41,985 : INFO : EPOCH 6 - PROGRESS: at 43.95% examples, 226526 words/s, in_qsize 10, out_qsize 0\n",
      "2018-05-18 00:10:42,996 : INFO : EPOCH 6 - PROGRESS: at 45.65% examples, 226167 words/s, in_qsize 8, out_qsize 1\n",
      "2018-05-18 00:10:44,015 : INFO : EPOCH 6 - PROGRESS: at 47.19% examples, 224972 words/s, in_qsize 9, out_qsize 1\n",
      "2018-05-18 00:10:45,035 : INFO : EPOCH 6 - PROGRESS: at 48.61% examples, 223329 words/s, in_qsize 10, out_qsize 0\n",
      "2018-05-18 00:10:46,040 : INFO : EPOCH 6 - PROGRESS: at 50.13% examples, 222430 words/s, in_qsize 8, out_qsize 1\n",
      "2018-05-18 00:10:47,082 : INFO : EPOCH 6 - PROGRESS: at 51.85% examples, 222042 words/s, in_qsize 8, out_qsize 1\n",
      "2018-05-18 00:10:48,083 : INFO : EPOCH 6 - PROGRESS: at 53.69% examples, 222448 words/s, in_qsize 9, out_qsize 0\n",
      "2018-05-18 00:10:49,090 : INFO : EPOCH 6 - PROGRESS: at 55.38% examples, 222342 words/s, in_qsize 9, out_qsize 0\n",
      "2018-05-18 00:10:50,141 : INFO : EPOCH 6 - PROGRESS: at 57.26% examples, 222602 words/s, in_qsize 9, out_qsize 0\n",
      "2018-05-18 00:10:51,169 : INFO : EPOCH 6 - PROGRESS: at 59.33% examples, 223852 words/s, in_qsize 10, out_qsize 1\n",
      "2018-05-18 00:10:52,189 : INFO : EPOCH 6 - PROGRESS: at 61.57% examples, 225496 words/s, in_qsize 9, out_qsize 0\n",
      "2018-05-18 00:10:53,244 : INFO : EPOCH 6 - PROGRESS: at 63.51% examples, 225820 words/s, in_qsize 10, out_qsize 0\n",
      "2018-05-18 00:10:54,342 : INFO : EPOCH 6 - PROGRESS: at 65.19% examples, 224877 words/s, in_qsize 9, out_qsize 0\n",
      "2018-05-18 00:10:55,367 : INFO : EPOCH 6 - PROGRESS: at 66.74% examples, 224047 words/s, in_qsize 9, out_qsize 0\n",
      "2018-05-18 00:10:56,454 : INFO : EPOCH 6 - PROGRESS: at 68.18% examples, 222533 words/s, in_qsize 8, out_qsize 1\n",
      "2018-05-18 00:10:57,598 : INFO : EPOCH 6 - PROGRESS: at 70.11% examples, 222419 words/s, in_qsize 10, out_qsize 0\n",
      "2018-05-18 00:10:58,598 : INFO : EPOCH 6 - PROGRESS: at 71.97% examples, 222899 words/s, in_qsize 9, out_qsize 0\n",
      "2018-05-18 00:10:59,603 : INFO : EPOCH 6 - PROGRESS: at 73.24% examples, 221432 words/s, in_qsize 9, out_qsize 0\n",
      "2018-05-18 00:11:00,661 : INFO : EPOCH 6 - PROGRESS: at 74.77% examples, 220611 words/s, in_qsize 8, out_qsize 1\n",
      "2018-05-18 00:11:01,667 : INFO : EPOCH 6 - PROGRESS: at 76.54% examples, 220739 words/s, in_qsize 9, out_qsize 0\n",
      "2018-05-18 00:11:02,703 : INFO : EPOCH 6 - PROGRESS: at 78.18% examples, 220392 words/s, in_qsize 9, out_qsize 0\n",
      "2018-05-18 00:11:03,755 : INFO : EPOCH 6 - PROGRESS: at 80.14% examples, 220774 words/s, in_qsize 9, out_qsize 0\n",
      "2018-05-18 00:11:04,780 : INFO : EPOCH 6 - PROGRESS: at 81.67% examples, 220190 words/s, in_qsize 8, out_qsize 1\n",
      "2018-05-18 00:11:05,816 : INFO : EPOCH 6 - PROGRESS: at 83.78% examples, 221086 words/s, in_qsize 10, out_qsize 0\n",
      "2018-05-18 00:11:06,816 : INFO : EPOCH 6 - PROGRESS: at 85.61% examples, 221370 words/s, in_qsize 8, out_qsize 0\n",
      "2018-05-18 00:11:07,848 : INFO : EPOCH 6 - PROGRESS: at 87.14% examples, 220771 words/s, in_qsize 10, out_qsize 1\n",
      "2018-05-18 00:11:08,958 : INFO : EPOCH 6 - PROGRESS: at 89.02% examples, 220715 words/s, in_qsize 7, out_qsize 2\n",
      "2018-05-18 00:11:09,971 : INFO : EPOCH 6 - PROGRESS: at 90.61% examples, 220381 words/s, in_qsize 10, out_qsize 0\n",
      "2018-05-18 00:11:10,983 : INFO : EPOCH 6 - PROGRESS: at 92.39% examples, 220465 words/s, in_qsize 9, out_qsize 0\n",
      "2018-05-18 00:11:11,987 : INFO : EPOCH 6 - PROGRESS: at 94.34% examples, 220978 words/s, in_qsize 9, out_qsize 0\n",
      "2018-05-18 00:11:13,026 : INFO : EPOCH 6 - PROGRESS: at 96.12% examples, 220946 words/s, in_qsize 9, out_qsize 0\n",
      "2018-05-18 00:11:14,042 : INFO : EPOCH 6 - PROGRESS: at 98.02% examples, 221383 words/s, in_qsize 10, out_qsize 0\n"
     ]
    },
    {
     "name": "stderr",
     "output_type": "stream",
     "text": [
      "2018-05-18 00:11:15,158 : INFO : EPOCH 6 - PROGRESS: at 99.21% examples, 219782 words/s, in_qsize 10, out_qsize 2\n",
      "2018-05-18 00:11:15,445 : INFO : worker thread finished; awaiting finish of 4 more threads\n",
      "2018-05-18 00:11:15,520 : INFO : worker thread finished; awaiting finish of 3 more threads\n",
      "2018-05-18 00:11:15,530 : INFO : worker thread finished; awaiting finish of 2 more threads\n",
      "2018-05-18 00:11:15,538 : INFO : worker thread finished; awaiting finish of 1 more threads\n",
      "2018-05-18 00:11:15,561 : INFO : worker thread finished; awaiting finish of 0 more threads\n",
      "2018-05-18 00:11:15,566 : INFO : EPOCH - 6 : training on 17503976 raw words (12870332 effective words) took 58.5s, 219967 effective words/s\n",
      "2018-05-18 00:11:16,639 : INFO : EPOCH 7 - PROGRESS: at 2.20% examples, 283066 words/s, in_qsize 9, out_qsize 0\n",
      "2018-05-18 00:11:17,673 : INFO : EPOCH 7 - PROGRESS: at 4.59% examples, 290804 words/s, in_qsize 10, out_qsize 1\n",
      "2018-05-18 00:11:18,759 : INFO : EPOCH 7 - PROGRESS: at 6.97% examples, 288431 words/s, in_qsize 10, out_qsize 0\n",
      "2018-05-18 00:11:19,778 : INFO : EPOCH 7 - PROGRESS: at 9.32% examples, 290140 words/s, in_qsize 9, out_qsize 0\n",
      "2018-05-18 00:11:20,780 : INFO : EPOCH 7 - PROGRESS: at 11.56% examples, 289228 words/s, in_qsize 10, out_qsize 0\n",
      "2018-05-18 00:11:21,817 : INFO : EPOCH 7 - PROGRESS: at 13.40% examples, 278837 words/s, in_qsize 10, out_qsize 0\n",
      "2018-05-18 00:11:22,819 : INFO : EPOCH 7 - PROGRESS: at 15.69% examples, 280812 words/s, in_qsize 9, out_qsize 0\n",
      "2018-05-18 00:11:23,820 : INFO : EPOCH 7 - PROGRESS: at 17.57% examples, 276028 words/s, in_qsize 10, out_qsize 0\n",
      "2018-05-18 00:11:24,838 : INFO : EPOCH 7 - PROGRESS: at 19.62% examples, 274209 words/s, in_qsize 8, out_qsize 1\n",
      "2018-05-18 00:11:25,882 : INFO : EPOCH 7 - PROGRESS: at 21.76% examples, 272820 words/s, in_qsize 9, out_qsize 0\n",
      "2018-05-18 00:11:26,956 : INFO : EPOCH 7 - PROGRESS: at 23.81% examples, 270308 words/s, in_qsize 8, out_qsize 3\n",
      "2018-05-18 00:11:27,971 : INFO : EPOCH 7 - PROGRESS: at 25.66% examples, 267062 words/s, in_qsize 9, out_qsize 0\n",
      "2018-05-18 00:11:29,065 : INFO : EPOCH 7 - PROGRESS: at 27.76% examples, 265541 words/s, in_qsize 8, out_qsize 1\n",
      "2018-05-18 00:11:30,079 : INFO : EPOCH 7 - PROGRESS: at 30.28% examples, 269256 words/s, in_qsize 10, out_qsize 0\n",
      "2018-05-18 00:11:31,109 : INFO : EPOCH 7 - PROGRESS: at 32.38% examples, 268379 words/s, in_qsize 9, out_qsize 0\n",
      "2018-05-18 00:11:32,121 : INFO : EPOCH 7 - PROGRESS: at 34.72% examples, 270170 words/s, in_qsize 9, out_qsize 0\n",
      "2018-05-18 00:11:33,138 : INFO : EPOCH 7 - PROGRESS: at 36.70% examples, 269185 words/s, in_qsize 10, out_qsize 0\n",
      "2018-05-18 00:11:34,202 : INFO : EPOCH 7 - PROGRESS: at 38.75% examples, 268008 words/s, in_qsize 9, out_qsize 0\n",
      "2018-05-18 00:11:35,257 : INFO : EPOCH 7 - PROGRESS: at 40.87% examples, 267437 words/s, in_qsize 10, out_qsize 2\n",
      "2018-05-18 00:11:36,343 : INFO : EPOCH 7 - PROGRESS: at 43.03% examples, 266869 words/s, in_qsize 9, out_qsize 1\n",
      "2018-05-18 00:11:37,346 : INFO : EPOCH 7 - PROGRESS: at 45.22% examples, 267400 words/s, in_qsize 10, out_qsize 0\n",
      "2018-05-18 00:11:38,348 : INFO : EPOCH 7 - PROGRESS: at 47.13% examples, 266587 words/s, in_qsize 10, out_qsize 0\n",
      "2018-05-18 00:11:39,420 : INFO : EPOCH 7 - PROGRESS: at 48.94% examples, 264467 words/s, in_qsize 10, out_qsize 2\n",
      "2018-05-18 00:11:40,438 : INFO : EPOCH 7 - PROGRESS: at 50.70% examples, 262781 words/s, in_qsize 9, out_qsize 0\n",
      "2018-05-18 00:11:41,449 : INFO : EPOCH 7 - PROGRESS: at 52.78% examples, 262728 words/s, in_qsize 9, out_qsize 0\n",
      "2018-05-18 00:11:42,457 : INFO : EPOCH 7 - PROGRESS: at 54.41% examples, 260781 words/s, in_qsize 10, out_qsize 1\n",
      "2018-05-18 00:11:43,459 : INFO : EPOCH 7 - PROGRESS: at 55.96% examples, 258529 words/s, in_qsize 10, out_qsize 0\n",
      "2018-05-18 00:11:44,788 : INFO : EPOCH 7 - PROGRESS: at 57.87% examples, 255292 words/s, in_qsize 9, out_qsize 0\n",
      "2018-05-18 00:11:45,961 : INFO : EPOCH 7 - PROGRESS: at 58.88% examples, 249788 words/s, in_qsize 9, out_qsize 0\n",
      "2018-05-18 00:11:46,969 : INFO : EPOCH 7 - PROGRESS: at 59.96% examples, 246201 words/s, in_qsize 9, out_qsize 0\n",
      "2018-05-18 00:11:48,076 : INFO : EPOCH 7 - PROGRESS: at 61.45% examples, 243691 words/s, in_qsize 10, out_qsize 0\n",
      "2018-05-18 00:11:49,079 : INFO : EPOCH 7 - PROGRESS: at 62.78% examples, 241438 words/s, in_qsize 9, out_qsize 0\n",
      "2018-05-18 00:11:50,081 : INFO : EPOCH 7 - PROGRESS: at 63.92% examples, 238687 words/s, in_qsize 9, out_qsize 0\n",
      "2018-05-18 00:11:51,146 : INFO : EPOCH 7 - PROGRESS: at 65.86% examples, 238560 words/s, in_qsize 9, out_qsize 0\n",
      "2018-05-18 00:11:52,167 : INFO : EPOCH 7 - PROGRESS: at 68.58% examples, 241350 words/s, in_qsize 9, out_qsize 0\n",
      "2018-05-18 00:11:53,205 : INFO : EPOCH 7 - PROGRESS: at 70.79% examples, 242301 words/s, in_qsize 10, out_qsize 0\n",
      "2018-05-18 00:11:54,322 : INFO : EPOCH 7 - PROGRESS: at 72.19% examples, 240049 words/s, in_qsize 8, out_qsize 1\n",
      "2018-05-18 00:11:55,398 : INFO : EPOCH 7 - PROGRESS: at 73.97% examples, 239282 words/s, in_qsize 10, out_qsize 1\n",
      "2018-05-18 00:11:56,414 : INFO : EPOCH 7 - PROGRESS: at 75.74% examples, 238898 words/s, in_qsize 10, out_qsize 1\n",
      "2018-05-18 00:11:57,482 : INFO : EPOCH 7 - PROGRESS: at 77.57% examples, 238411 words/s, in_qsize 8, out_qsize 1\n",
      "2018-05-18 00:11:58,553 : INFO : EPOCH 7 - PROGRESS: at 79.51% examples, 238285 words/s, in_qsize 9, out_qsize 1\n",
      "2018-05-18 00:11:59,575 : INFO : EPOCH 7 - PROGRESS: at 81.10% examples, 237422 words/s, in_qsize 10, out_qsize 0\n",
      "2018-05-18 00:12:00,605 : INFO : EPOCH 7 - PROGRESS: at 82.70% examples, 236554 words/s, in_qsize 8, out_qsize 1\n",
      "2018-05-18 00:12:01,640 : INFO : EPOCH 7 - PROGRESS: at 84.69% examples, 236826 words/s, in_qsize 9, out_qsize 0\n",
      "2018-05-18 00:12:02,682 : INFO : EPOCH 7 - PROGRESS: at 86.23% examples, 235798 words/s, in_qsize 10, out_qsize 1\n",
      "2018-05-18 00:12:03,685 : INFO : EPOCH 7 - PROGRESS: at 87.71% examples, 234851 words/s, in_qsize 9, out_qsize 0\n",
      "2018-05-18 00:12:04,748 : INFO : EPOCH 7 - PROGRESS: at 88.09% examples, 230805 words/s, in_qsize 9, out_qsize 1\n",
      "2018-05-18 00:12:05,763 : INFO : EPOCH 7 - PROGRESS: at 89.53% examples, 229798 words/s, in_qsize 9, out_qsize 0\n",
      "2018-05-18 00:12:08,075 : INFO : EPOCH 7 - PROGRESS: at 91.13% examples, 223601 words/s, in_qsize 10, out_qsize 0\n",
      "2018-05-18 00:12:09,192 : INFO : EPOCH 7 - PROGRESS: at 91.69% examples, 220302 words/s, in_qsize 7, out_qsize 2\n",
      "2018-05-18 00:12:10,289 : INFO : EPOCH 7 - PROGRESS: at 92.51% examples, 217768 words/s, in_qsize 9, out_qsize 0\n",
      "2018-05-18 00:12:11,412 : INFO : EPOCH 7 - PROGRESS: at 93.59% examples, 215874 words/s, in_qsize 10, out_qsize 2\n",
      "2018-05-18 00:12:12,464 : INFO : EPOCH 7 - PROGRESS: at 95.83% examples, 216919 words/s, in_qsize 8, out_qsize 1\n",
      "2018-05-18 00:12:13,552 : INFO : EPOCH 7 - PROGRESS: at 97.42% examples, 216393 words/s, in_qsize 9, out_qsize 0\n",
      "2018-05-18 00:12:14,650 : INFO : EPOCH 7 - PROGRESS: at 99.43% examples, 216838 words/s, in_qsize 7, out_qsize 2\n",
      "2018-05-18 00:12:14,804 : INFO : worker thread finished; awaiting finish of 4 more threads\n",
      "2018-05-18 00:12:14,835 : INFO : worker thread finished; awaiting finish of 3 more threads\n",
      "2018-05-18 00:12:14,865 : INFO : worker thread finished; awaiting finish of 2 more threads\n",
      "2018-05-18 00:12:14,900 : INFO : worker thread finished; awaiting finish of 1 more threads\n",
      "2018-05-18 00:12:14,940 : INFO : worker thread finished; awaiting finish of 0 more threads\n",
      "2018-05-18 00:12:14,943 : INFO : EPOCH - 7 : training on 17503976 raw words (12869085 effective words) took 59.3s, 216969 effective words/s\n",
      "2018-05-18 00:12:16,006 : INFO : EPOCH 8 - PROGRESS: at 2.15% examples, 277660 words/s, in_qsize 9, out_qsize 0\n",
      "2018-05-18 00:12:17,030 : INFO : EPOCH 8 - PROGRESS: at 4.02% examples, 256965 words/s, in_qsize 10, out_qsize 0\n",
      "2018-05-18 00:12:18,084 : INFO : EPOCH 8 - PROGRESS: at 5.09% examples, 214285 words/s, in_qsize 9, out_qsize 0\n",
      "2018-05-18 00:12:19,124 : INFO : EPOCH 8 - PROGRESS: at 6.46% examples, 203000 words/s, in_qsize 8, out_qsize 1\n",
      "2018-05-18 00:12:20,152 : INFO : EPOCH 8 - PROGRESS: at 7.90% examples, 198087 words/s, in_qsize 10, out_qsize 0\n",
      "2018-05-18 00:12:21,164 : INFO : EPOCH 8 - PROGRESS: at 9.49% examples, 198920 words/s, in_qsize 10, out_qsize 0\n"
     ]
    },
    {
     "name": "stderr",
     "output_type": "stream",
     "text": [
      "2018-05-18 00:12:22,251 : INFO : EPOCH 8 - PROGRESS: at 10.92% examples, 194437 words/s, in_qsize 8, out_qsize 2\n",
      "2018-05-18 00:12:23,361 : INFO : EPOCH 8 - PROGRESS: at 12.64% examples, 194985 words/s, in_qsize 8, out_qsize 1\n",
      "2018-05-18 00:12:24,481 : INFO : EPOCH 8 - PROGRESS: at 14.26% examples, 193627 words/s, in_qsize 9, out_qsize 0\n",
      "2018-05-18 00:12:25,531 : INFO : EPOCH 8 - PROGRESS: at 16.03% examples, 195935 words/s, in_qsize 8, out_qsize 1\n",
      "2018-05-18 00:12:26,547 : INFO : EPOCH 8 - PROGRESS: at 17.62% examples, 196509 words/s, in_qsize 10, out_qsize 0\n",
      "2018-05-18 00:12:27,598 : INFO : EPOCH 8 - PROGRESS: at 18.58% examples, 190001 words/s, in_qsize 9, out_qsize 0\n",
      "2018-05-18 00:12:28,685 : INFO : EPOCH 8 - PROGRESS: at 19.97% examples, 187773 words/s, in_qsize 9, out_qsize 0\n",
      "2018-05-18 00:12:29,737 : INFO : EPOCH 8 - PROGRESS: at 21.82% examples, 190355 words/s, in_qsize 9, out_qsize 1\n",
      "2018-05-18 00:12:30,750 : INFO : EPOCH 8 - PROGRESS: at 23.70% examples, 193522 words/s, in_qsize 9, out_qsize 1\n",
      "2018-05-18 00:12:31,776 : INFO : EPOCH 8 - PROGRESS: at 25.54% examples, 195671 words/s, in_qsize 9, out_qsize 1\n",
      "2018-05-18 00:12:32,847 : INFO : EPOCH 8 - PROGRESS: at 27.43% examples, 197504 words/s, in_qsize 8, out_qsize 1\n",
      "2018-05-18 00:12:33,862 : INFO : EPOCH 8 - PROGRESS: at 29.53% examples, 201261 words/s, in_qsize 10, out_qsize 0\n",
      "2018-05-18 00:12:34,871 : INFO : EPOCH 8 - PROGRESS: at 31.41% examples, 202868 words/s, in_qsize 9, out_qsize 0\n",
      "2018-05-18 00:12:35,941 : INFO : EPOCH 8 - PROGRESS: at 33.20% examples, 203359 words/s, in_qsize 10, out_qsize 2\n",
      "2018-05-18 00:12:36,949 : INFO : EPOCH 8 - PROGRESS: at 35.12% examples, 205384 words/s, in_qsize 9, out_qsize 0\n",
      "2018-05-18 00:12:38,003 : INFO : EPOCH 8 - PROGRESS: at 36.76% examples, 205232 words/s, in_qsize 8, out_qsize 1\n",
      "2018-05-18 00:12:39,019 : INFO : EPOCH 8 - PROGRESS: at 39.04% examples, 208784 words/s, in_qsize 9, out_qsize 0\n",
      "2018-05-18 00:12:40,056 : INFO : EPOCH 8 - PROGRESS: at 41.78% examples, 214178 words/s, in_qsize 8, out_qsize 1\n",
      "2018-05-18 00:12:41,138 : INFO : EPOCH 8 - PROGRESS: at 43.59% examples, 214321 words/s, in_qsize 9, out_qsize 0\n",
      "2018-05-18 00:12:42,164 : INFO : EPOCH 8 - PROGRESS: at 45.65% examples, 215939 words/s, in_qsize 9, out_qsize 0\n",
      "2018-05-18 00:12:43,253 : INFO : EPOCH 8 - PROGRESS: at 47.59% examples, 216439 words/s, in_qsize 10, out_qsize 0\n",
      "2018-05-18 00:12:44,283 : INFO : EPOCH 8 - PROGRESS: at 49.11% examples, 215593 words/s, in_qsize 10, out_qsize 0\n",
      "2018-05-18 00:12:45,374 : INFO : EPOCH 8 - PROGRESS: at 50.76% examples, 214859 words/s, in_qsize 10, out_qsize 0\n",
      "2018-05-18 00:12:46,382 : INFO : EPOCH 8 - PROGRESS: at 52.89% examples, 216605 words/s, in_qsize 10, out_qsize 0\n",
      "2018-05-18 00:12:47,386 : INFO : EPOCH 8 - PROGRESS: at 54.24% examples, 215335 words/s, in_qsize 9, out_qsize 0\n",
      "2018-05-18 00:12:48,410 : INFO : EPOCH 8 - PROGRESS: at 56.52% examples, 217528 words/s, in_qsize 9, out_qsize 0\n",
      "2018-05-18 00:12:49,417 : INFO : EPOCH 8 - PROGRESS: at 58.32% examples, 217981 words/s, in_qsize 10, out_qsize 1\n",
      "2018-05-18 00:12:50,505 : INFO : EPOCH 8 - PROGRESS: at 59.77% examples, 216679 words/s, in_qsize 7, out_qsize 2\n",
      "2018-05-18 00:12:51,507 : INFO : EPOCH 8 - PROGRESS: at 61.34% examples, 216155 words/s, in_qsize 8, out_qsize 1\n",
      "2018-05-18 00:12:52,538 : INFO : EPOCH 8 - PROGRESS: at 63.51% examples, 217650 words/s, in_qsize 8, out_qsize 1\n",
      "2018-05-18 00:12:53,555 : INFO : EPOCH 8 - PROGRESS: at 65.25% examples, 217630 words/s, in_qsize 8, out_qsize 1\n",
      "2018-05-18 00:12:54,661 : INFO : EPOCH 8 - PROGRESS: at 67.24% examples, 218051 words/s, in_qsize 9, out_qsize 2\n",
      "2018-05-18 00:12:55,786 : INFO : EPOCH 8 - PROGRESS: at 68.29% examples, 215276 words/s, in_qsize 9, out_qsize 0\n",
      "2018-05-18 00:12:56,786 : INFO : EPOCH 8 - PROGRESS: at 70.10% examples, 215746 words/s, in_qsize 10, out_qsize 1\n",
      "2018-05-18 00:12:57,804 : INFO : EPOCH 8 - PROGRESS: at 72.89% examples, 219029 words/s, in_qsize 10, out_qsize 0\n",
      "2018-05-18 00:12:58,812 : INFO : EPOCH 8 - PROGRESS: at 75.50% examples, 221696 words/s, in_qsize 10, out_qsize 0\n",
      "2018-05-18 00:12:59,837 : INFO : EPOCH 8 - PROGRESS: at 78.41% examples, 224984 words/s, in_qsize 9, out_qsize 0\n",
      "2018-05-18 00:13:00,849 : INFO : EPOCH 8 - PROGRESS: at 80.93% examples, 227066 words/s, in_qsize 10, out_qsize 1\n",
      "2018-05-18 00:13:01,858 : INFO : EPOCH 8 - PROGRESS: at 83.73% examples, 229859 words/s, in_qsize 10, out_qsize 1\n",
      "2018-05-18 00:13:02,899 : INFO : EPOCH 8 - PROGRESS: at 86.06% examples, 231157 words/s, in_qsize 9, out_qsize 0\n",
      "2018-05-18 00:13:03,913 : INFO : EPOCH 8 - PROGRESS: at 87.65% examples, 230568 words/s, in_qsize 10, out_qsize 0\n",
      "2018-05-18 00:13:05,034 : INFO : EPOCH 8 - PROGRESS: at 89.31% examples, 229655 words/s, in_qsize 10, out_qsize 0\n",
      "2018-05-18 00:13:06,035 : INFO : EPOCH 8 - PROGRESS: at 91.01% examples, 229472 words/s, in_qsize 8, out_qsize 1\n",
      "2018-05-18 00:13:07,153 : INFO : EPOCH 8 - PROGRESS: at 93.13% examples, 229763 words/s, in_qsize 9, out_qsize 0\n",
      "2018-05-18 00:13:08,156 : INFO : EPOCH 8 - PROGRESS: at 95.20% examples, 230401 words/s, in_qsize 9, out_qsize 0\n",
      "2018-05-18 00:13:09,374 : INFO : EPOCH 8 - PROGRESS: at 97.13% examples, 229826 words/s, in_qsize 9, out_qsize 0\n",
      "2018-05-18 00:13:10,393 : INFO : EPOCH 8 - PROGRESS: at 97.80% examples, 227189 words/s, in_qsize 10, out_qsize 0\n",
      "2018-05-18 00:13:11,449 : INFO : EPOCH 8 - PROGRESS: at 98.20% examples, 223860 words/s, in_qsize 8, out_qsize 1\n",
      "2018-05-18 00:13:12,477 : INFO : EPOCH 8 - PROGRESS: at 99.27% examples, 222278 words/s, in_qsize 10, out_qsize 0\n",
      "2018-05-18 00:13:12,832 : INFO : worker thread finished; awaiting finish of 4 more threads\n",
      "2018-05-18 00:13:12,876 : INFO : worker thread finished; awaiting finish of 3 more threads\n",
      "2018-05-18 00:13:12,880 : INFO : worker thread finished; awaiting finish of 2 more threads\n",
      "2018-05-18 00:13:12,948 : INFO : worker thread finished; awaiting finish of 1 more threads\n",
      "2018-05-18 00:13:12,953 : INFO : worker thread finished; awaiting finish of 0 more threads\n",
      "2018-05-18 00:13:12,956 : INFO : EPOCH - 8 : training on 17503976 raw words (12868432 effective words) took 58.0s, 222047 effective words/s\n",
      "2018-05-18 00:13:14,047 : INFO : EPOCH 9 - PROGRESS: at 1.41% examples, 178321 words/s, in_qsize 9, out_qsize 0\n",
      "2018-05-18 00:13:15,157 : INFO : EPOCH 9 - PROGRESS: at 2.83% examples, 171618 words/s, in_qsize 10, out_qsize 0\n",
      "2018-05-18 00:13:16,256 : INFO : EPOCH 9 - PROGRESS: at 4.64% examples, 185905 words/s, in_qsize 9, out_qsize 0\n",
      "2018-05-18 00:13:17,281 : INFO : EPOCH 9 - PROGRESS: at 5.79% examples, 175604 words/s, in_qsize 9, out_qsize 0\n",
      "2018-05-18 00:13:18,340 : INFO : EPOCH 9 - PROGRESS: at 7.38% examples, 179281 words/s, in_qsize 9, out_qsize 1\n",
      "2018-05-18 00:13:19,370 : INFO : EPOCH 9 - PROGRESS: at 9.44% examples, 191820 words/s, in_qsize 10, out_qsize 2\n",
      "2018-05-18 00:13:20,387 : INFO : EPOCH 9 - PROGRESS: at 11.50% examples, 201171 words/s, in_qsize 9, out_qsize 0\n",
      "2018-05-18 00:13:21,395 : INFO : EPOCH 9 - PROGRESS: at 13.51% examples, 207715 words/s, in_qsize 9, out_qsize 2\n",
      "2018-05-18 00:13:22,460 : INFO : EPOCH 9 - PROGRESS: at 15.91% examples, 216976 words/s, in_qsize 9, out_qsize 0\n",
      "2018-05-18 00:13:23,479 : INFO : EPOCH 9 - PROGRESS: at 17.90% examples, 220418 words/s, in_qsize 9, out_qsize 0\n",
      "2018-05-18 00:13:24,503 : INFO : EPOCH 9 - PROGRESS: at 20.37% examples, 228246 words/s, in_qsize 9, out_qsize 0\n",
      "2018-05-18 00:13:25,581 : INFO : EPOCH 9 - PROGRESS: at 23.03% examples, 235575 words/s, in_qsize 9, out_qsize 1\n",
      "2018-05-18 00:13:26,589 : INFO : EPOCH 9 - PROGRESS: at 25.06% examples, 237571 words/s, in_qsize 10, out_qsize 0\n",
      "2018-05-18 00:13:27,591 : INFO : EPOCH 9 - PROGRESS: at 27.31% examples, 240868 words/s, in_qsize 9, out_qsize 0\n",
      "2018-05-18 00:13:28,623 : INFO : EPOCH 9 - PROGRESS: at 29.94% examples, 246593 words/s, in_qsize 9, out_qsize 1\n",
      "2018-05-18 00:13:29,637 : INFO : EPOCH 9 - PROGRESS: at 33.08% examples, 255390 words/s, in_qsize 9, out_qsize 0\n",
      "2018-05-18 00:13:30,639 : INFO : EPOCH 9 - PROGRESS: at 36.41% examples, 265435 words/s, in_qsize 8, out_qsize 0\n",
      "2018-05-18 00:13:31,704 : INFO : EPOCH 9 - PROGRESS: at 39.27% examples, 269958 words/s, in_qsize 10, out_qsize 0\n",
      "2018-05-18 00:13:32,858 : INFO : EPOCH 9 - PROGRESS: at 42.35% examples, 274248 words/s, in_qsize 8, out_qsize 1\n"
     ]
    },
    {
     "name": "stderr",
     "output_type": "stream",
     "text": [
      "2018-05-18 00:13:33,860 : INFO : EPOCH 9 - PROGRESS: at 43.71% examples, 269521 words/s, in_qsize 9, out_qsize 0\n",
      "2018-05-18 00:13:34,970 : INFO : EPOCH 9 - PROGRESS: at 45.16% examples, 264253 words/s, in_qsize 10, out_qsize 0\n",
      "2018-05-18 00:13:36,073 : INFO : EPOCH 9 - PROGRESS: at 47.01% examples, 262127 words/s, in_qsize 9, out_qsize 1\n",
      "2018-05-18 00:13:37,086 : INFO : EPOCH 9 - PROGRESS: at 48.61% examples, 259647 words/s, in_qsize 10, out_qsize 1\n",
      "2018-05-18 00:13:38,159 : INFO : EPOCH 9 - PROGRESS: at 50.37% examples, 257613 words/s, in_qsize 6, out_qsize 3\n",
      "2018-05-18 00:13:39,216 : INFO : EPOCH 9 - PROGRESS: at 52.32% examples, 256754 words/s, in_qsize 8, out_qsize 1\n",
      "2018-05-18 00:13:40,228 : INFO : EPOCH 9 - PROGRESS: at 54.42% examples, 257191 words/s, in_qsize 9, out_qsize 0\n",
      "2018-05-18 00:13:41,243 : INFO : EPOCH 9 - PROGRESS: at 56.52% examples, 257566 words/s, in_qsize 10, out_qsize 0\n",
      "2018-05-18 00:13:42,259 : INFO : EPOCH 9 - PROGRESS: at 58.09% examples, 255648 words/s, in_qsize 7, out_qsize 2\n",
      "2018-05-18 00:13:43,299 : INFO : EPOCH 9 - PROGRESS: at 60.00% examples, 255112 words/s, in_qsize 10, out_qsize 0\n",
      "2018-05-18 00:13:44,301 : INFO : EPOCH 9 - PROGRESS: at 62.37% examples, 256567 words/s, in_qsize 8, out_qsize 1\n",
      "2018-05-18 00:13:45,318 : INFO : EPOCH 9 - PROGRESS: at 64.67% examples, 257578 words/s, in_qsize 9, out_qsize 0\n",
      "2018-05-18 00:13:46,342 : INFO : EPOCH 9 - PROGRESS: at 67.59% examples, 260890 words/s, in_qsize 10, out_qsize 1\n",
      "2018-05-18 00:13:47,364 : INFO : EPOCH 9 - PROGRESS: at 69.30% examples, 259555 words/s, in_qsize 10, out_qsize 0\n",
      "2018-05-18 00:13:48,381 : INFO : EPOCH 9 - PROGRESS: at 71.81% examples, 261225 words/s, in_qsize 9, out_qsize 0\n",
      "2018-05-18 00:13:49,398 : INFO : EPOCH 9 - PROGRESS: at 74.13% examples, 262192 words/s, in_qsize 9, out_qsize 0\n",
      "2018-05-18 00:13:50,413 : INFO : EPOCH 9 - PROGRESS: at 75.57% examples, 259998 words/s, in_qsize 10, out_qsize 0\n",
      "2018-05-18 00:13:51,494 : INFO : EPOCH 9 - PROGRESS: at 77.90% examples, 260509 words/s, in_qsize 10, out_qsize 0\n",
      "2018-05-18 00:13:52,524 : INFO : EPOCH 9 - PROGRESS: at 80.99% examples, 263759 words/s, in_qsize 8, out_qsize 1\n",
      "2018-05-18 00:13:53,538 : INFO : EPOCH 9 - PROGRESS: at 83.32% examples, 264588 words/s, in_qsize 10, out_qsize 1\n",
      "2018-05-18 00:13:54,562 : INFO : EPOCH 9 - PROGRESS: at 85.72% examples, 265496 words/s, in_qsize 9, out_qsize 0\n",
      "2018-05-18 00:13:55,612 : INFO : EPOCH 9 - PROGRESS: at 87.54% examples, 264455 words/s, in_qsize 10, out_qsize 0\n",
      "2018-05-18 00:13:56,617 : INFO : EPOCH 9 - PROGRESS: at 88.62% examples, 261557 words/s, in_qsize 10, out_qsize 0\n",
      "2018-05-18 00:13:57,865 : INFO : EPOCH 9 - PROGRESS: at 89.58% examples, 257054 words/s, in_qsize 9, out_qsize 0\n",
      "2018-05-18 00:13:58,922 : INFO : EPOCH 9 - PROGRESS: at 90.89% examples, 254825 words/s, in_qsize 10, out_qsize 1\n",
      "2018-05-18 00:13:59,973 : INFO : EPOCH 9 - PROGRESS: at 92.08% examples, 252402 words/s, in_qsize 9, out_qsize 1\n",
      "2018-05-18 00:14:01,053 : INFO : EPOCH 9 - PROGRESS: at 93.53% examples, 250546 words/s, in_qsize 9, out_qsize 0\n",
      "2018-05-18 00:14:02,060 : INFO : EPOCH 9 - PROGRESS: at 95.38% examples, 250188 words/s, in_qsize 10, out_qsize 0\n",
      "2018-05-18 00:14:03,096 : INFO : EPOCH 9 - PROGRESS: at 97.02% examples, 249260 words/s, in_qsize 6, out_qsize 3\n",
      "2018-05-18 00:14:04,097 : INFO : EPOCH 9 - PROGRESS: at 99.10% examples, 249699 words/s, in_qsize 10, out_qsize 0\n",
      "2018-05-18 00:14:04,329 : INFO : worker thread finished; awaiting finish of 4 more threads\n",
      "2018-05-18 00:14:04,345 : INFO : worker thread finished; awaiting finish of 3 more threads\n",
      "2018-05-18 00:14:04,351 : INFO : worker thread finished; awaiting finish of 2 more threads\n",
      "2018-05-18 00:14:04,387 : INFO : worker thread finished; awaiting finish of 1 more threads\n",
      "2018-05-18 00:14:04,391 : INFO : worker thread finished; awaiting finish of 0 more threads\n",
      "2018-05-18 00:14:04,395 : INFO : EPOCH - 9 : training on 17503976 raw words (12868721 effective words) took 51.4s, 250490 effective words/s\n",
      "2018-05-18 00:14:05,477 : INFO : EPOCH 10 - PROGRESS: at 1.98% examples, 254959 words/s, in_qsize 9, out_qsize 0\n",
      "2018-05-18 00:14:06,491 : INFO : EPOCH 10 - PROGRESS: at 3.46% examples, 221625 words/s, in_qsize 10, out_qsize 0\n",
      "2018-05-18 00:14:07,493 : INFO : EPOCH 10 - PROGRESS: at 5.16% examples, 221005 words/s, in_qsize 10, out_qsize 0\n",
      "2018-05-18 00:14:08,511 : INFO : EPOCH 10 - PROGRESS: at 7.21% examples, 230682 words/s, in_qsize 9, out_qsize 0\n",
      "2018-05-18 00:14:09,528 : INFO : EPOCH 10 - PROGRESS: at 9.44% examples, 240917 words/s, in_qsize 9, out_qsize 0\n",
      "2018-05-18 00:14:10,538 : INFO : EPOCH 10 - PROGRESS: at 11.09% examples, 235892 words/s, in_qsize 9, out_qsize 0\n",
      "2018-05-18 00:14:11,610 : INFO : EPOCH 10 - PROGRESS: at 13.11% examples, 236465 words/s, in_qsize 9, out_qsize 0\n",
      "2018-05-18 00:14:12,811 : INFO : EPOCH 10 - PROGRESS: at 14.82% examples, 228784 words/s, in_qsize 10, out_qsize 0\n",
      "2018-05-18 00:14:13,812 : INFO : EPOCH 10 - PROGRESS: at 16.54% examples, 227857 words/s, in_qsize 9, out_qsize 0\n",
      "2018-05-18 00:14:14,870 : INFO : EPOCH 10 - PROGRESS: at 18.64% examples, 230745 words/s, in_qsize 10, out_qsize 0\n",
      "2018-05-18 00:14:15,901 : INFO : EPOCH 10 - PROGRESS: at 20.66% examples, 232422 words/s, in_qsize 10, out_qsize 0\n",
      "2018-05-18 00:14:16,906 : INFO : EPOCH 10 - PROGRESS: at 22.45% examples, 231952 words/s, in_qsize 9, out_qsize 0\n",
      "2018-05-18 00:14:17,906 : INFO : EPOCH 10 - PROGRESS: at 24.45% examples, 233808 words/s, in_qsize 10, out_qsize 0\n",
      "2018-05-18 00:14:19,038 : INFO : EPOCH 10 - PROGRESS: at 26.05% examples, 229742 words/s, in_qsize 9, out_qsize 0\n",
      "2018-05-18 00:14:20,152 : INFO : EPOCH 10 - PROGRESS: at 27.77% examples, 227461 words/s, in_qsize 9, out_qsize 0\n",
      "2018-05-18 00:14:21,182 : INFO : EPOCH 10 - PROGRESS: at 29.14% examples, 223995 words/s, in_qsize 9, out_qsize 0\n",
      "2018-05-18 00:14:22,253 : INFO : EPOCH 10 - PROGRESS: at 30.64% examples, 221233 words/s, in_qsize 9, out_qsize 0\n",
      "2018-05-18 00:14:23,279 : INFO : EPOCH 10 - PROGRESS: at 31.98% examples, 218154 words/s, in_qsize 8, out_qsize 1\n",
      "2018-05-18 00:14:24,284 : INFO : EPOCH 10 - PROGRESS: at 34.34% examples, 222257 words/s, in_qsize 10, out_qsize 0\n",
      "2018-05-18 00:14:25,302 : INFO : EPOCH 10 - PROGRESS: at 35.74% examples, 220209 words/s, in_qsize 8, out_qsize 1\n",
      "2018-05-18 00:14:26,332 : INFO : EPOCH 10 - PROGRESS: at 38.46% examples, 225964 words/s, in_qsize 8, out_qsize 1\n",
      "2018-05-18 00:14:27,415 : INFO : EPOCH 10 - PROGRESS: at 41.04% examples, 229697 words/s, in_qsize 8, out_qsize 1\n",
      "2018-05-18 00:14:28,424 : INFO : EPOCH 10 - PROGRESS: at 43.08% examples, 231051 words/s, in_qsize 9, out_qsize 0\n",
      "2018-05-18 00:14:29,443 : INFO : EPOCH 10 - PROGRESS: at 44.53% examples, 228968 words/s, in_qsize 9, out_qsize 0\n",
      "2018-05-18 00:14:30,451 : INFO : EPOCH 10 - PROGRESS: at 46.34% examples, 229107 words/s, in_qsize 10, out_qsize 0\n",
      "2018-05-18 00:14:31,462 : INFO : EPOCH 10 - PROGRESS: at 47.94% examples, 228140 words/s, in_qsize 10, out_qsize 0\n",
      "2018-05-18 00:14:32,505 : INFO : EPOCH 10 - PROGRESS: at 50.02% examples, 229341 words/s, in_qsize 8, out_qsize 1\n",
      "2018-05-18 00:14:33,523 : INFO : EPOCH 10 - PROGRESS: at 52.15% examples, 230654 words/s, in_qsize 7, out_qsize 1\n",
      "2018-05-18 00:14:34,579 : INFO : EPOCH 10 - PROGRESS: at 54.35% examples, 232079 words/s, in_qsize 10, out_qsize 0\n",
      "2018-05-18 00:14:35,586 : INFO : EPOCH 10 - PROGRESS: at 56.92% examples, 235190 words/s, in_qsize 8, out_qsize 1\n",
      "2018-05-18 00:14:36,621 : INFO : EPOCH 10 - PROGRESS: at 60.00% examples, 240181 words/s, in_qsize 8, out_qsize 1\n",
      "2018-05-18 00:14:37,626 : INFO : EPOCH 10 - PROGRESS: at 62.37% examples, 241966 words/s, in_qsize 9, out_qsize 0\n",
      "2018-05-18 00:14:38,674 : INFO : EPOCH 10 - PROGRESS: at 64.55% examples, 242700 words/s, in_qsize 9, out_qsize 0\n",
      "2018-05-18 00:14:39,699 : INFO : EPOCH 10 - PROGRESS: at 66.74% examples, 243566 words/s, in_qsize 9, out_qsize 0\n",
      "2018-05-18 00:14:40,703 : INFO : EPOCH 10 - PROGRESS: at 68.91% examples, 244513 words/s, in_qsize 9, out_qsize 0\n",
      "2018-05-18 00:14:41,727 : INFO : EPOCH 10 - PROGRESS: at 71.92% examples, 248233 words/s, in_qsize 10, out_qsize 0\n",
      "2018-05-18 00:14:42,758 : INFO : EPOCH 10 - PROGRESS: at 74.88% examples, 251540 words/s, in_qsize 9, out_qsize 0\n"
     ]
    },
    {
     "name": "stderr",
     "output_type": "stream",
     "text": [
      "2018-05-18 00:14:43,773 : INFO : EPOCH 10 - PROGRESS: at 77.96% examples, 255129 words/s, in_qsize 10, out_qsize 0\n",
      "2018-05-18 00:14:44,804 : INFO : EPOCH 10 - PROGRESS: at 79.39% examples, 253159 words/s, in_qsize 9, out_qsize 0\n",
      "2018-05-18 00:14:45,877 : INFO : EPOCH 10 - PROGRESS: at 81.32% examples, 252629 words/s, in_qsize 9, out_qsize 0\n",
      "2018-05-18 00:14:46,877 : INFO : EPOCH 10 - PROGRESS: at 83.44% examples, 253073 words/s, in_qsize 8, out_qsize 1\n",
      "2018-05-18 00:14:47,913 : INFO : EPOCH 10 - PROGRESS: at 85.66% examples, 253641 words/s, in_qsize 10, out_qsize 0\n",
      "2018-05-18 00:14:48,919 : INFO : EPOCH 10 - PROGRESS: at 87.99% examples, 254662 words/s, in_qsize 9, out_qsize 0\n",
      "2018-05-18 00:14:49,992 : INFO : EPOCH 10 - PROGRESS: at 90.03% examples, 254468 words/s, in_qsize 10, out_qsize 0\n",
      "2018-05-18 00:14:51,091 : INFO : EPOCH 10 - PROGRESS: at 91.75% examples, 253193 words/s, in_qsize 10, out_qsize 0\n",
      "2018-05-18 00:14:52,125 : INFO : EPOCH 10 - PROGRESS: at 94.73% examples, 255712 words/s, in_qsize 9, out_qsize 0\n",
      "2018-05-18 00:14:53,131 : INFO : EPOCH 10 - PROGRESS: at 96.86% examples, 255998 words/s, in_qsize 9, out_qsize 0\n",
      "2018-05-18 00:14:54,141 : INFO : EPOCH 10 - PROGRESS: at 98.93% examples, 256272 words/s, in_qsize 9, out_qsize 0\n",
      "2018-05-18 00:14:54,576 : INFO : worker thread finished; awaiting finish of 4 more threads\n",
      "2018-05-18 00:14:54,623 : INFO : worker thread finished; awaiting finish of 3 more threads\n",
      "2018-05-18 00:14:54,627 : INFO : worker thread finished; awaiting finish of 2 more threads\n",
      "2018-05-18 00:14:54,658 : INFO : worker thread finished; awaiting finish of 1 more threads\n",
      "2018-05-18 00:14:54,669 : INFO : worker thread finished; awaiting finish of 0 more threads\n",
      "2018-05-18 00:14:54,675 : INFO : EPOCH - 10 : training on 17503976 raw words (12865958 effective words) took 50.2s, 256274 effective words/s\n",
      "2018-05-18 00:14:55,717 : INFO : EPOCH 11 - PROGRESS: at 2.26% examples, 292093 words/s, in_qsize 9, out_qsize 0\n",
      "2018-05-18 00:14:56,719 : INFO : EPOCH 11 - PROGRESS: at 4.20% examples, 270738 words/s, in_qsize 9, out_qsize 0\n",
      "2018-05-18 00:14:57,769 : INFO : EPOCH 11 - PROGRESS: at 6.19% examples, 261848 words/s, in_qsize 9, out_qsize 0\n",
      "2018-05-18 00:14:58,795 : INFO : EPOCH 11 - PROGRESS: at 8.54% examples, 269754 words/s, in_qsize 9, out_qsize 0\n",
      "2018-05-18 00:14:59,806 : INFO : EPOCH 11 - PROGRESS: at 10.97% examples, 278250 words/s, in_qsize 9, out_qsize 0\n",
      "2018-05-18 00:15:00,845 : INFO : EPOCH 11 - PROGRESS: at 13.22% examples, 277854 words/s, in_qsize 9, out_qsize 0\n",
      "2018-05-18 00:15:01,870 : INFO : EPOCH 11 - PROGRESS: at 15.33% examples, 276033 words/s, in_qsize 10, out_qsize 0\n",
      "2018-05-18 00:15:02,895 : INFO : EPOCH 11 - PROGRESS: at 17.96% examples, 282671 words/s, in_qsize 10, out_qsize 0\n",
      "2018-05-18 00:15:03,982 : INFO : EPOCH 11 - PROGRESS: at 20.08% examples, 278823 words/s, in_qsize 9, out_qsize 0\n",
      "2018-05-18 00:15:05,003 : INFO : EPOCH 11 - PROGRESS: at 22.22% examples, 277598 words/s, in_qsize 9, out_qsize 0\n",
      "2018-05-18 00:15:06,022 : INFO : EPOCH 11 - PROGRESS: at 23.76% examples, 270154 words/s, in_qsize 8, out_qsize 1\n",
      "2018-05-18 00:15:07,045 : INFO : EPOCH 11 - PROGRESS: at 24.56% examples, 256048 words/s, in_qsize 10, out_qsize 0\n",
      "2018-05-18 00:15:08,078 : INFO : EPOCH 11 - PROGRESS: at 26.00% examples, 249968 words/s, in_qsize 9, out_qsize 1\n",
      "2018-05-18 00:15:09,096 : INFO : EPOCH 11 - PROGRESS: at 28.11% examples, 251147 words/s, in_qsize 10, out_qsize 0\n",
      "2018-05-18 00:15:10,112 : INFO : EPOCH 11 - PROGRESS: at 29.99% examples, 250311 words/s, in_qsize 9, out_qsize 0\n",
      "2018-05-18 00:15:11,178 : INFO : EPOCH 11 - PROGRESS: at 31.59% examples, 246150 words/s, in_qsize 10, out_qsize 0\n",
      "2018-05-18 00:15:12,204 : INFO : EPOCH 11 - PROGRESS: at 33.20% examples, 243464 words/s, in_qsize 7, out_qsize 2\n",
      "2018-05-18 00:15:13,206 : INFO : EPOCH 11 - PROGRESS: at 35.17% examples, 244151 words/s, in_qsize 10, out_qsize 0\n",
      "2018-05-18 00:15:14,252 : INFO : EPOCH 11 - PROGRESS: at 37.27% examples, 244998 words/s, in_qsize 8, out_qsize 1\n",
      "2018-05-18 00:15:15,287 : INFO : EPOCH 11 - PROGRESS: at 39.33% examples, 245527 words/s, in_qsize 10, out_qsize 0\n",
      "2018-05-18 00:15:16,350 : INFO : EPOCH 11 - PROGRESS: at 41.61% examples, 247022 words/s, in_qsize 10, out_qsize 0\n",
      "2018-05-18 00:15:17,369 : INFO : EPOCH 11 - PROGRESS: at 43.77% examples, 248226 words/s, in_qsize 9, out_qsize 3\n",
      "2018-05-18 00:15:18,411 : INFO : EPOCH 11 - PROGRESS: at 46.00% examples, 249394 words/s, in_qsize 9, out_qsize 0\n",
      "2018-05-18 00:15:19,419 : INFO : EPOCH 11 - PROGRESS: at 48.37% examples, 251678 words/s, in_qsize 9, out_qsize 0\n",
      "2018-05-18 00:15:20,452 : INFO : EPOCH 11 - PROGRESS: at 50.65% examples, 252997 words/s, in_qsize 10, out_qsize 0\n",
      "2018-05-18 00:15:21,455 : INFO : EPOCH 11 - PROGRESS: at 52.49% examples, 252287 words/s, in_qsize 9, out_qsize 0\n",
      "2018-05-18 00:15:22,504 : INFO : EPOCH 11 - PROGRESS: at 54.63% examples, 252784 words/s, in_qsize 10, out_qsize 1\n",
      "2018-05-18 00:15:23,537 : INFO : EPOCH 11 - PROGRESS: at 57.03% examples, 254412 words/s, in_qsize 9, out_qsize 0\n",
      "2018-05-18 00:15:24,659 : INFO : EPOCH 11 - PROGRESS: at 59.38% examples, 255210 words/s, in_qsize 9, out_qsize 3\n",
      "2018-05-18 00:15:25,670 : INFO : EPOCH 11 - PROGRESS: at 62.25% examples, 258702 words/s, in_qsize 10, out_qsize 0\n",
      "2018-05-18 00:15:26,678 : INFO : EPOCH 11 - PROGRESS: at 64.56% examples, 259721 words/s, in_qsize 9, out_qsize 0\n",
      "2018-05-18 00:15:27,720 : INFO : EPOCH 11 - PROGRESS: at 66.95% examples, 260887 words/s, in_qsize 10, out_qsize 0\n",
      "2018-05-18 00:15:28,731 : INFO : EPOCH 11 - PROGRESS: at 69.70% examples, 263486 words/s, in_qsize 9, out_qsize 0\n",
      "2018-05-18 00:15:29,733 : INFO : EPOCH 11 - PROGRESS: at 71.97% examples, 264344 words/s, in_qsize 10, out_qsize 1\n",
      "2018-05-18 00:15:30,749 : INFO : EPOCH 11 - PROGRESS: at 74.36% examples, 265447 words/s, in_qsize 10, out_qsize 0\n",
      "2018-05-18 00:15:31,754 : INFO : EPOCH 11 - PROGRESS: at 76.60% examples, 265972 words/s, in_qsize 10, out_qsize 0\n",
      "2018-05-18 00:15:32,764 : INFO : EPOCH 11 - PROGRESS: at 78.83% examples, 266451 words/s, in_qsize 9, out_qsize 0\n",
      "2018-05-18 00:15:33,781 : INFO : EPOCH 11 - PROGRESS: at 80.93% examples, 266454 words/s, in_qsize 10, out_qsize 0\n",
      "2018-05-18 00:15:34,796 : INFO : EPOCH 11 - PROGRESS: at 83.44% examples, 267773 words/s, in_qsize 10, out_qsize 0\n",
      "2018-05-18 00:15:35,867 : INFO : EPOCH 11 - PROGRESS: at 85.61% examples, 267590 words/s, in_qsize 10, out_qsize 0\n",
      "2018-05-18 00:15:36,868 : INFO : EPOCH 11 - PROGRESS: at 87.99% examples, 268537 words/s, in_qsize 10, out_qsize 0\n",
      "2018-05-18 00:15:37,870 : INFO : EPOCH 11 - PROGRESS: at 89.93% examples, 268087 words/s, in_qsize 10, out_qsize 0\n",
      "2018-05-18 00:15:38,895 : INFO : EPOCH 11 - PROGRESS: at 92.32% examples, 268843 words/s, in_qsize 9, out_qsize 0\n",
      "2018-05-18 00:15:39,918 : INFO : EPOCH 11 - PROGRESS: at 94.73% examples, 269569 words/s, in_qsize 10, out_qsize 0\n",
      "2018-05-18 00:15:40,931 : INFO : EPOCH 11 - PROGRESS: at 97.48% examples, 271281 words/s, in_qsize 8, out_qsize 1\n",
      "2018-05-18 00:15:41,840 : INFO : worker thread finished; awaiting finish of 4 more threads\n",
      "2018-05-18 00:15:41,852 : INFO : worker thread finished; awaiting finish of 3 more threads\n",
      "2018-05-18 00:15:41,869 : INFO : worker thread finished; awaiting finish of 2 more threads\n",
      "2018-05-18 00:15:41,919 : INFO : worker thread finished; awaiting finish of 1 more threads\n",
      "2018-05-18 00:15:41,922 : INFO : worker thread finished; awaiting finish of 0 more threads\n",
      "2018-05-18 00:15:41,926 : INFO : EPOCH - 11 : training on 17503976 raw words (12866144 effective words) took 47.2s, 272505 effective words/s\n",
      "2018-05-18 00:15:42,974 : INFO : EPOCH 12 - PROGRESS: at 2.37% examples, 307283 words/s, in_qsize 9, out_qsize 1\n",
      "2018-05-18 00:15:44,007 : INFO : EPOCH 12 - PROGRESS: at 4.93% examples, 313605 words/s, in_qsize 10, out_qsize 0\n",
      "2018-05-18 00:15:45,025 : INFO : EPOCH 12 - PROGRESS: at 7.78% examples, 329377 words/s, in_qsize 10, out_qsize 0\n",
      "2018-05-18 00:15:46,028 : INFO : EPOCH 12 - PROGRESS: at 9.38% examples, 298640 words/s, in_qsize 10, out_qsize 0\n",
      "2018-05-18 00:15:47,052 : INFO : EPOCH 12 - PROGRESS: at 11.09% examples, 281814 words/s, in_qsize 10, out_qsize 1\n",
      "2018-05-18 00:15:48,095 : INFO : EPOCH 12 - PROGRESS: at 12.93% examples, 272216 words/s, in_qsize 10, out_qsize 0\n"
     ]
    },
    {
     "name": "stderr",
     "output_type": "stream",
     "text": [
      "2018-05-18 00:15:49,111 : INFO : EPOCH 12 - PROGRESS: at 14.88% examples, 268476 words/s, in_qsize 9, out_qsize 0\n",
      "2018-05-18 00:15:50,134 : INFO : EPOCH 12 - PROGRESS: at 16.99% examples, 268101 words/s, in_qsize 10, out_qsize 0\n",
      "2018-05-18 00:15:51,141 : INFO : EPOCH 12 - PROGRESS: at 19.23% examples, 269907 words/s, in_qsize 10, out_qsize 0\n",
      "2018-05-18 00:15:52,166 : INFO : EPOCH 12 - PROGRESS: at 21.76% examples, 274492 words/s, in_qsize 9, out_qsize 1\n",
      "2018-05-18 00:15:53,200 : INFO : EPOCH 12 - PROGRESS: at 24.10% examples, 276057 words/s, in_qsize 9, out_qsize 0\n",
      "2018-05-18 00:15:54,308 : INFO : EPOCH 12 - PROGRESS: at 26.28% examples, 273851 words/s, in_qsize 7, out_qsize 2\n",
      "2018-05-18 00:15:55,346 : INFO : EPOCH 12 - PROGRESS: at 28.57% examples, 274499 words/s, in_qsize 9, out_qsize 1\n",
      "2018-05-18 00:15:56,373 : INFO : EPOCH 12 - PROGRESS: at 31.06% examples, 276874 words/s, in_qsize 10, out_qsize 1\n",
      "2018-05-18 00:15:57,420 : INFO : EPOCH 12 - PROGRESS: at 33.66% examples, 279428 words/s, in_qsize 7, out_qsize 2\n",
      "2018-05-18 00:15:58,438 : INFO : EPOCH 12 - PROGRESS: at 36.30% examples, 283126 words/s, in_qsize 9, out_qsize 0\n",
      "2018-05-18 00:15:59,444 : INFO : EPOCH 12 - PROGRESS: at 38.23% examples, 281094 words/s, in_qsize 9, out_qsize 1\n",
      "2018-05-18 00:16:00,484 : INFO : EPOCH 12 - PROGRESS: at 40.82% examples, 283166 words/s, in_qsize 9, out_qsize 0\n",
      "2018-05-18 00:16:01,609 : INFO : EPOCH 12 - PROGRESS: at 43.77% examples, 286383 words/s, in_qsize 7, out_qsize 2\n",
      "2018-05-18 00:16:02,612 : INFO : EPOCH 12 - PROGRESS: at 45.94% examples, 285959 words/s, in_qsize 10, out_qsize 0\n",
      "2018-05-18 00:16:03,682 : INFO : EPOCH 12 - PROGRESS: at 48.55% examples, 287431 words/s, in_qsize 9, out_qsize 0\n",
      "2018-05-18 00:16:04,711 : INFO : EPOCH 12 - PROGRESS: at 50.87% examples, 287661 words/s, in_qsize 10, out_qsize 1\n",
      "2018-05-18 00:16:05,720 : INFO : EPOCH 12 - PROGRESS: at 53.29% examples, 288432 words/s, in_qsize 10, out_qsize 1\n",
      "2018-05-18 00:16:06,741 : INFO : EPOCH 12 - PROGRESS: at 54.75% examples, 284233 words/s, in_qsize 10, out_qsize 0\n",
      "2018-05-18 00:16:07,745 : INFO : EPOCH 12 - PROGRESS: at 56.64% examples, 282558 words/s, in_qsize 9, out_qsize 0\n",
      "2018-05-18 00:16:08,764 : INFO : EPOCH 12 - PROGRESS: at 58.88% examples, 282764 words/s, in_qsize 10, out_qsize 0\n",
      "2018-05-18 00:16:09,772 : INFO : EPOCH 12 - PROGRESS: at 61.22% examples, 283333 words/s, in_qsize 10, out_qsize 0\n",
      "2018-05-18 00:16:10,801 : INFO : EPOCH 12 - PROGRESS: at 63.80% examples, 284693 words/s, in_qsize 10, out_qsize 0\n",
      "2018-05-18 00:16:11,822 : INFO : EPOCH 12 - PROGRESS: at 66.26% examples, 285541 words/s, in_qsize 8, out_qsize 1\n",
      "2018-05-18 00:16:12,826 : INFO : EPOCH 12 - PROGRESS: at 68.75% examples, 286480 words/s, in_qsize 9, out_qsize 0\n",
      "2018-05-18 00:16:13,874 : INFO : EPOCH 12 - PROGRESS: at 71.69% examples, 289048 words/s, in_qsize 8, out_qsize 1\n",
      "2018-05-18 00:16:14,877 : INFO : EPOCH 12 - PROGRESS: at 74.65% examples, 291849 words/s, in_qsize 9, out_qsize 0\n",
      "2018-05-18 00:16:15,902 : INFO : EPOCH 12 - PROGRESS: at 76.88% examples, 291466 words/s, in_qsize 9, out_qsize 0\n",
      "2018-05-18 00:16:16,906 : INFO : EPOCH 12 - PROGRESS: at 79.57% examples, 292987 words/s, in_qsize 10, out_qsize 1\n",
      "2018-05-18 00:16:17,909 : INFO : EPOCH 12 - PROGRESS: at 82.19% examples, 294203 words/s, in_qsize 10, out_qsize 0\n",
      "2018-05-18 00:16:19,002 : INFO : EPOCH 12 - PROGRESS: at 84.64% examples, 294056 words/s, in_qsize 9, out_qsize 0\n",
      "2018-05-18 00:16:20,009 : INFO : EPOCH 12 - PROGRESS: at 87.20% examples, 294945 words/s, in_qsize 9, out_qsize 0\n",
      "2018-05-18 00:16:21,173 : INFO : EPOCH 12 - PROGRESS: at 90.27% examples, 296312 words/s, in_qsize 8, out_qsize 1\n",
      "2018-05-18 00:16:22,221 : INFO : EPOCH 12 - PROGRESS: at 92.56% examples, 295878 words/s, in_qsize 10, out_qsize 0\n",
      "2018-05-18 00:16:23,225 : INFO : EPOCH 12 - PROGRESS: at 94.45% examples, 294545 words/s, in_qsize 8, out_qsize 1\n",
      "2018-05-18 00:16:24,226 : INFO : EPOCH 12 - PROGRESS: at 96.58% examples, 294004 words/s, in_qsize 10, out_qsize 0\n",
      "2018-05-18 00:16:25,245 : INFO : EPOCH 12 - PROGRESS: at 98.64% examples, 293361 words/s, in_qsize 9, out_qsize 0\n",
      "2018-05-18 00:16:25,886 : INFO : worker thread finished; awaiting finish of 4 more threads\n",
      "2018-05-18 00:16:25,889 : INFO : worker thread finished; awaiting finish of 3 more threads\n",
      "2018-05-18 00:16:25,925 : INFO : worker thread finished; awaiting finish of 2 more threads\n",
      "2018-05-18 00:16:25,946 : INFO : worker thread finished; awaiting finish of 1 more threads\n",
      "2018-05-18 00:16:25,951 : INFO : worker thread finished; awaiting finish of 0 more threads\n",
      "2018-05-18 00:16:25,954 : INFO : EPOCH - 12 : training on 17503976 raw words (12868502 effective words) took 44.0s, 292586 effective words/s\n",
      "2018-05-18 00:16:27,025 : INFO : EPOCH 13 - PROGRESS: at 2.53% examples, 326545 words/s, in_qsize 9, out_qsize 0\n",
      "2018-05-18 00:16:28,053 : INFO : EPOCH 13 - PROGRESS: at 4.93% examples, 313312 words/s, in_qsize 9, out_qsize 0\n",
      "2018-05-18 00:16:29,056 : INFO : EPOCH 13 - PROGRESS: at 7.78% examples, 330554 words/s, in_qsize 10, out_qsize 0\n",
      "2018-05-18 00:16:30,064 : INFO : EPOCH 13 - PROGRESS: at 10.52% examples, 335520 words/s, in_qsize 9, out_qsize 0\n",
      "2018-05-18 00:16:31,136 : INFO : EPOCH 13 - PROGRESS: at 12.99% examples, 326989 words/s, in_qsize 9, out_qsize 1\n",
      "2018-05-18 00:16:32,138 : INFO : EPOCH 13 - PROGRESS: at 15.34% examples, 322576 words/s, in_qsize 10, out_qsize 0\n",
      "2018-05-18 00:16:33,142 : INFO : EPOCH 13 - PROGRESS: at 18.19% examples, 328708 words/s, in_qsize 9, out_qsize 0\n",
      "2018-05-18 00:16:34,169 : INFO : EPOCH 13 - PROGRESS: at 20.49% examples, 323349 words/s, in_qsize 9, out_qsize 0\n",
      "2018-05-18 00:16:35,200 : INFO : EPOCH 13 - PROGRESS: at 23.14% examples, 323902 words/s, in_qsize 10, out_qsize 0\n",
      "2018-05-18 00:16:36,203 : INFO : EPOCH 13 - PROGRESS: at 25.54% examples, 322263 words/s, in_qsize 10, out_qsize 1\n",
      "2018-05-18 00:16:37,203 : INFO : EPOCH 13 - PROGRESS: at 28.34% examples, 325583 words/s, in_qsize 9, out_qsize 0\n",
      "2018-05-18 00:16:38,203 : INFO : EPOCH 13 - PROGRESS: at 30.52% examples, 321764 words/s, in_qsize 10, out_qsize 0\n",
      "2018-05-18 00:16:39,206 : INFO : EPOCH 13 - PROGRESS: at 32.61% examples, 317357 words/s, in_qsize 9, out_qsize 0\n",
      "2018-05-18 00:16:40,263 : INFO : EPOCH 13 - PROGRESS: at 34.78% examples, 313387 words/s, in_qsize 10, out_qsize 1\n",
      "2018-05-18 00:16:41,264 : INFO : EPOCH 13 - PROGRESS: at 37.33% examples, 314478 words/s, in_qsize 10, out_qsize 0\n",
      "2018-05-18 00:16:42,359 : INFO : EPOCH 13 - PROGRESS: at 39.50% examples, 310460 words/s, in_qsize 8, out_qsize 1\n",
      "2018-05-18 00:16:43,380 : INFO : EPOCH 13 - PROGRESS: at 41.56% examples, 307426 words/s, in_qsize 10, out_qsize 0\n",
      "2018-05-18 00:16:44,381 : INFO : EPOCH 13 - PROGRESS: at 43.65% examples, 305475 words/s, in_qsize 10, out_qsize 0\n",
      "2018-05-18 00:16:45,410 : INFO : EPOCH 13 - PROGRESS: at 46.23% examples, 306273 words/s, in_qsize 9, out_qsize 1\n",
      "2018-05-18 00:16:46,442 : INFO : EPOCH 13 - PROGRESS: at 48.77% examples, 306992 words/s, in_qsize 9, out_qsize 1\n",
      "2018-05-18 00:16:47,492 : INFO : EPOCH 13 - PROGRESS: at 51.63% examples, 309073 words/s, in_qsize 9, out_qsize 1\n",
      "2018-05-18 00:16:48,556 : INFO : EPOCH 13 - PROGRESS: at 54.25% examples, 309469 words/s, in_qsize 10, out_qsize 0\n",
      "2018-05-18 00:16:49,615 : INFO : EPOCH 13 - PROGRESS: at 57.25% examples, 312071 words/s, in_qsize 9, out_qsize 0\n",
      "2018-05-18 00:16:50,747 : INFO : EPOCH 13 - PROGRESS: at 59.60% examples, 310235 words/s, in_qsize 9, out_qsize 0\n",
      "2018-05-18 00:16:51,760 : INFO : EPOCH 13 - PROGRESS: at 62.61% examples, 312860 words/s, in_qsize 8, out_qsize 1\n",
      "2018-05-18 00:16:52,781 : INFO : EPOCH 13 - PROGRESS: at 65.59% examples, 315195 words/s, in_qsize 9, out_qsize 0\n",
      "2018-05-18 00:16:53,788 : INFO : EPOCH 13 - PROGRESS: at 68.75% examples, 318309 words/s, in_qsize 8, out_qsize 1\n",
      "2018-05-18 00:16:54,833 : INFO : EPOCH 13 - PROGRESS: at 71.24% examples, 317987 words/s, in_qsize 8, out_qsize 1\n",
      "2018-05-18 00:16:55,864 : INFO : EPOCH 13 - PROGRESS: at 73.40% examples, 316352 words/s, in_qsize 9, out_qsize 0\n",
      "2018-05-18 00:16:56,879 : INFO : EPOCH 13 - PROGRESS: at 75.11% examples, 313078 words/s, in_qsize 9, out_qsize 0\n",
      "2018-05-18 00:16:57,928 : INFO : EPOCH 13 - PROGRESS: at 76.54% examples, 308535 words/s, in_qsize 9, out_qsize 1\n"
     ]
    },
    {
     "name": "stderr",
     "output_type": "stream",
     "text": [
      "2018-05-18 00:16:58,931 : INFO : EPOCH 13 - PROGRESS: at 78.18% examples, 305620 words/s, in_qsize 9, out_qsize 0\n",
      "2018-05-18 00:16:59,948 : INFO : EPOCH 13 - PROGRESS: at 80.25% examples, 304253 words/s, in_qsize 9, out_qsize 0\n",
      "2018-05-18 00:17:00,973 : INFO : EPOCH 13 - PROGRESS: at 82.07% examples, 302051 words/s, in_qsize 9, out_qsize 0\n",
      "2018-05-18 00:17:01,986 : INFO : EPOCH 13 - PROGRESS: at 83.84% examples, 299889 words/s, in_qsize 10, out_qsize 1\n",
      "2018-05-18 00:17:03,129 : INFO : EPOCH 13 - PROGRESS: at 85.72% examples, 297179 words/s, in_qsize 9, out_qsize 0\n",
      "2018-05-18 00:17:04,134 : INFO : EPOCH 13 - PROGRESS: at 87.60% examples, 295692 words/s, in_qsize 10, out_qsize 0\n",
      "2018-05-18 00:17:05,145 : INFO : EPOCH 13 - PROGRESS: at 90.39% examples, 297244 words/s, in_qsize 10, out_qsize 0\n",
      "2018-05-18 00:17:06,157 : INFO : EPOCH 13 - PROGRESS: at 93.02% examples, 298160 words/s, in_qsize 10, out_qsize 0\n",
      "2018-05-18 00:17:07,181 : INFO : EPOCH 13 - PROGRESS: at 95.56% examples, 298579 words/s, in_qsize 10, out_qsize 0\n",
      "2018-05-18 00:17:08,232 : INFO : EPOCH 13 - PROGRESS: at 98.32% examples, 299672 words/s, in_qsize 10, out_qsize 0\n",
      "2018-05-18 00:17:08,898 : INFO : worker thread finished; awaiting finish of 4 more threads\n",
      "2018-05-18 00:17:08,903 : INFO : worker thread finished; awaiting finish of 3 more threads\n",
      "2018-05-18 00:17:08,906 : INFO : worker thread finished; awaiting finish of 2 more threads\n",
      "2018-05-18 00:17:08,942 : INFO : worker thread finished; awaiting finish of 1 more threads\n",
      "2018-05-18 00:17:08,995 : INFO : worker thread finished; awaiting finish of 0 more threads\n",
      "2018-05-18 00:17:08,998 : INFO : EPOCH - 13 : training on 17503976 raw words (12869019 effective words) took 43.0s, 299399 effective words/s\n",
      "2018-05-18 00:17:10,076 : INFO : EPOCH 14 - PROGRESS: at 2.09% examples, 258748 words/s, in_qsize 9, out_qsize 0\n",
      "2018-05-18 00:17:11,080 : INFO : EPOCH 14 - PROGRESS: at 3.62% examples, 228928 words/s, in_qsize 9, out_qsize 0\n",
      "2018-05-18 00:17:12,103 : INFO : EPOCH 14 - PROGRESS: at 5.68% examples, 238637 words/s, in_qsize 9, out_qsize 0\n",
      "2018-05-18 00:17:13,110 : INFO : EPOCH 14 - PROGRESS: at 7.08% examples, 224701 words/s, in_qsize 9, out_qsize 0\n",
      "2018-05-18 00:17:14,203 : INFO : EPOCH 14 - PROGRESS: at 8.76% examples, 218436 words/s, in_qsize 10, out_qsize 2\n",
      "2018-05-18 00:17:15,323 : INFO : EPOCH 14 - PROGRESS: at 10.30% examples, 211073 words/s, in_qsize 9, out_qsize 0\n",
      "2018-05-18 00:17:16,533 : INFO : EPOCH 14 - PROGRESS: at 12.19% examples, 209317 words/s, in_qsize 8, out_qsize 1\n",
      "2018-05-18 00:17:17,545 : INFO : EPOCH 14 - PROGRESS: at 13.86% examples, 209469 words/s, in_qsize 9, out_qsize 0\n",
      "2018-05-18 00:17:18,548 : INFO : EPOCH 14 - PROGRESS: at 15.16% examples, 205133 words/s, in_qsize 6, out_qsize 3\n",
      "2018-05-18 00:17:19,567 : INFO : EPOCH 14 - PROGRESS: at 16.94% examples, 206917 words/s, in_qsize 9, out_qsize 0\n",
      "2018-05-18 00:17:20,578 : INFO : EPOCH 14 - PROGRESS: at 18.64% examples, 207858 words/s, in_qsize 8, out_qsize 1\n",
      "2018-05-18 00:17:21,629 : INFO : EPOCH 14 - PROGRESS: at 20.60% examples, 210338 words/s, in_qsize 9, out_qsize 0\n",
      "2018-05-18 00:17:22,777 : INFO : EPOCH 14 - PROGRESS: at 22.69% examples, 212025 words/s, in_qsize 9, out_qsize 0\n",
      "2018-05-18 00:17:23,778 : INFO : EPOCH 14 - PROGRESS: at 24.16% examples, 210584 words/s, in_qsize 8, out_qsize 1\n",
      "2018-05-18 00:17:24,816 : INFO : EPOCH 14 - PROGRESS: at 26.62% examples, 216725 words/s, in_qsize 10, out_qsize 0\n",
      "2018-05-18 00:17:25,833 : INFO : EPOCH 14 - PROGRESS: at 28.86% examples, 220642 words/s, in_qsize 9, out_qsize 0\n",
      "2018-05-18 00:17:26,865 : INFO : EPOCH 14 - PROGRESS: at 32.21% examples, 231739 words/s, in_qsize 10, out_qsize 0\n",
      "2018-05-18 00:17:27,871 : INFO : EPOCH 14 - PROGRESS: at 34.39% examples, 234146 words/s, in_qsize 10, out_qsize 0\n",
      "2018-05-18 00:17:28,898 : INFO : EPOCH 14 - PROGRESS: at 36.24% examples, 234251 words/s, in_qsize 10, out_qsize 0\n",
      "2018-05-18 00:17:29,950 : INFO : EPOCH 14 - PROGRESS: at 38.13% examples, 234048 words/s, in_qsize 8, out_qsize 1\n",
      "2018-05-18 00:17:31,089 : INFO : EPOCH 14 - PROGRESS: at 40.24% examples, 234299 words/s, in_qsize 8, out_qsize 1\n",
      "2018-05-18 00:17:32,160 : INFO : EPOCH 14 - PROGRESS: at 42.01% examples, 233270 words/s, in_qsize 8, out_qsize 1\n",
      "2018-05-18 00:17:33,175 : INFO : EPOCH 14 - PROGRESS: at 43.95% examples, 233808 words/s, in_qsize 9, out_qsize 1\n",
      "2018-05-18 00:17:34,214 : INFO : EPOCH 14 - PROGRESS: at 47.37% examples, 241652 words/s, in_qsize 10, out_qsize 0\n",
      "2018-05-18 00:17:35,222 : INFO : EPOCH 14 - PROGRESS: at 50.37% examples, 247207 words/s, in_qsize 10, out_qsize 0\n",
      "2018-05-18 00:17:36,227 : INFO : EPOCH 14 - PROGRESS: at 52.43% examples, 247769 words/s, in_qsize 10, out_qsize 0\n",
      "2018-05-18 00:17:37,249 : INFO : EPOCH 14 - PROGRESS: at 55.68% examples, 253649 words/s, in_qsize 10, out_qsize 0\n",
      "2018-05-18 00:17:38,285 : INFO : EPOCH 14 - PROGRESS: at 57.43% examples, 252423 words/s, in_qsize 10, out_qsize 0\n",
      "2018-05-18 00:17:39,297 : INFO : EPOCH 14 - PROGRESS: at 59.22% examples, 251742 words/s, in_qsize 10, out_qsize 0\n",
      "2018-05-18 00:17:40,311 : INFO : EPOCH 14 - PROGRESS: at 61.05% examples, 251086 words/s, in_qsize 9, out_qsize 0\n",
      "2018-05-18 00:17:41,383 : INFO : EPOCH 14 - PROGRESS: at 63.23% examples, 251394 words/s, in_qsize 10, out_qsize 0\n",
      "2018-05-18 00:17:42,398 : INFO : EPOCH 14 - PROGRESS: at 66.49% examples, 256291 words/s, in_qsize 10, out_qsize 0\n",
      "2018-05-18 00:17:43,413 : INFO : EPOCH 14 - PROGRESS: at 69.82% examples, 261103 words/s, in_qsize 10, out_qsize 0\n",
      "2018-05-18 00:17:44,415 : INFO : EPOCH 14 - PROGRESS: at 73.18% examples, 265963 words/s, in_qsize 9, out_qsize 0\n",
      "2018-05-18 00:17:45,427 : INFO : EPOCH 14 - PROGRESS: at 75.86% examples, 268046 words/s, in_qsize 9, out_qsize 0\n",
      "2018-05-18 00:17:46,432 : INFO : EPOCH 14 - PROGRESS: at 79.28% examples, 272635 words/s, in_qsize 9, out_qsize 0\n",
      "2018-05-18 00:17:47,454 : INFO : EPOCH 14 - PROGRESS: at 82.47% examples, 276092 words/s, in_qsize 10, out_qsize 0\n",
      "2018-05-18 00:17:48,479 : INFO : EPOCH 14 - PROGRESS: at 85.72% examples, 279535 words/s, in_qsize 8, out_qsize 1\n",
      "2018-05-18 00:17:49,519 : INFO : EPOCH 14 - PROGRESS: at 87.82% examples, 279059 words/s, in_qsize 9, out_qsize 0\n",
      "2018-05-18 00:17:50,534 : INFO : EPOCH 14 - PROGRESS: at 90.09% examples, 279313 words/s, in_qsize 10, out_qsize 0\n",
      "2018-05-18 00:17:51,585 : INFO : EPOCH 14 - PROGRESS: at 92.62% examples, 280001 words/s, in_qsize 9, out_qsize 0\n",
      "2018-05-18 00:17:52,600 : INFO : EPOCH 14 - PROGRESS: at 94.56% examples, 279205 words/s, in_qsize 9, out_qsize 0\n",
      "2018-05-18 00:17:53,628 : INFO : EPOCH 14 - PROGRESS: at 97.69% examples, 281809 words/s, in_qsize 9, out_qsize 0\n",
      "2018-05-18 00:17:54,461 : INFO : worker thread finished; awaiting finish of 4 more threads\n",
      "2018-05-18 00:17:54,508 : INFO : worker thread finished; awaiting finish of 3 more threads\n",
      "2018-05-18 00:17:54,511 : INFO : worker thread finished; awaiting finish of 2 more threads\n",
      "2018-05-18 00:17:54,526 : INFO : worker thread finished; awaiting finish of 1 more threads\n",
      "2018-05-18 00:17:54,547 : INFO : worker thread finished; awaiting finish of 0 more threads\n",
      "2018-05-18 00:17:54,550 : INFO : EPOCH - 14 : training on 17503976 raw words (12868230 effective words) took 45.5s, 282678 effective words/s\n",
      "2018-05-18 00:17:55,615 : INFO : EPOCH 15 - PROGRESS: at 3.85% examples, 477219 words/s, in_qsize 10, out_qsize 0\n",
      "2018-05-18 00:17:56,616 : INFO : EPOCH 15 - PROGRESS: at 6.86% examples, 433955 words/s, in_qsize 10, out_qsize 0\n",
      "2018-05-18 00:17:57,626 : INFO : EPOCH 15 - PROGRESS: at 9.91% examples, 417712 words/s, in_qsize 10, out_qsize 1\n",
      "2018-05-18 00:17:58,646 : INFO : EPOCH 15 - PROGRESS: at 13.29% examples, 419534 words/s, in_qsize 9, out_qsize 0\n",
      "2018-05-18 00:17:59,653 : INFO : EPOCH 15 - PROGRESS: at 16.08% examples, 407208 words/s, in_qsize 9, out_qsize 0\n",
      "2018-05-18 00:18:00,671 : INFO : EPOCH 15 - PROGRESS: at 19.50% examples, 411411 words/s, in_qsize 9, out_qsize 0\n",
      "2018-05-18 00:18:01,686 : INFO : EPOCH 15 - PROGRESS: at 22.06% examples, 398241 words/s, in_qsize 9, out_qsize 0\n",
      "2018-05-18 00:18:02,703 : INFO : EPOCH 15 - PROGRESS: at 24.39% examples, 385399 words/s, in_qsize 10, out_qsize 0\n",
      "2018-05-18 00:18:03,720 : INFO : EPOCH 15 - PROGRESS: at 27.26% examples, 382725 words/s, in_qsize 10, out_qsize 0\n"
     ]
    },
    {
     "name": "stderr",
     "output_type": "stream",
     "text": [
      "2018-05-18 00:18:04,725 : INFO : EPOCH 15 - PROGRESS: at 29.35% examples, 371577 words/s, in_qsize 9, out_qsize 0\n",
      "2018-05-18 00:18:05,744 : INFO : EPOCH 15 - PROGRESS: at 31.98% examples, 367250 words/s, in_qsize 9, out_qsize 1\n",
      "2018-05-18 00:18:06,744 : INFO : EPOCH 15 - PROGRESS: at 34.45% examples, 362991 words/s, in_qsize 9, out_qsize 0\n",
      "2018-05-18 00:18:07,745 : INFO : EPOCH 15 - PROGRESS: at 35.85% examples, 349338 words/s, in_qsize 9, out_qsize 0\n",
      "2018-05-18 00:18:08,784 : INFO : EPOCH 15 - PROGRESS: at 38.29% examples, 346021 words/s, in_qsize 8, out_qsize 1\n",
      "2018-05-18 00:18:09,800 : INFO : EPOCH 15 - PROGRESS: at 40.13% examples, 338369 words/s, in_qsize 9, out_qsize 0\n",
      "2018-05-18 00:18:10,807 : INFO : EPOCH 15 - PROGRESS: at 42.13% examples, 333203 words/s, in_qsize 10, out_qsize 0\n",
      "2018-05-18 00:18:11,814 : INFO : EPOCH 15 - PROGRESS: at 44.70% examples, 332866 words/s, in_qsize 9, out_qsize 0\n",
      "2018-05-18 00:18:12,856 : INFO : EPOCH 15 - PROGRESS: at 46.62% examples, 327526 words/s, in_qsize 9, out_qsize 1\n",
      "2018-05-18 00:18:13,873 : INFO : EPOCH 15 - PROGRESS: at 49.00% examples, 326242 words/s, in_qsize 9, out_qsize 0\n",
      "2018-05-18 00:18:14,931 : INFO : EPOCH 15 - PROGRESS: at 51.39% examples, 324436 words/s, in_qsize 10, out_qsize 0\n",
      "2018-05-18 00:18:15,937 : INFO : EPOCH 15 - PROGRESS: at 53.75% examples, 323235 words/s, in_qsize 10, out_qsize 0\n",
      "2018-05-18 00:18:16,973 : INFO : EPOCH 15 - PROGRESS: at 56.18% examples, 322373 words/s, in_qsize 10, out_qsize 1\n",
      "2018-05-18 00:18:18,087 : INFO : EPOCH 15 - PROGRESS: at 58.50% examples, 319892 words/s, in_qsize 9, out_qsize 0\n",
      "2018-05-18 00:18:19,092 : INFO : EPOCH 15 - PROGRESS: at 61.28% examples, 321445 words/s, in_qsize 10, out_qsize 0\n",
      "2018-05-18 00:18:20,105 : INFO : EPOCH 15 - PROGRESS: at 64.03% examples, 322493 words/s, in_qsize 10, out_qsize 0\n",
      "2018-05-18 00:18:21,114 : INFO : EPOCH 15 - PROGRESS: at 66.68% examples, 322965 words/s, in_qsize 8, out_qsize 1\n",
      "2018-05-18 00:18:22,116 : INFO : EPOCH 15 - PROGRESS: at 69.13% examples, 322670 words/s, in_qsize 10, out_qsize 1\n",
      "2018-05-18 00:18:23,123 : INFO : EPOCH 15 - PROGRESS: at 71.64% examples, 322600 words/s, in_qsize 9, out_qsize 0\n",
      "2018-05-18 00:18:24,151 : INFO : EPOCH 15 - PROGRESS: at 74.93% examples, 325800 words/s, in_qsize 9, out_qsize 0\n",
      "2018-05-18 00:18:25,154 : INFO : EPOCH 15 - PROGRESS: at 77.90% examples, 327601 words/s, in_qsize 9, out_qsize 0\n",
      "2018-05-18 00:18:26,180 : INFO : EPOCH 15 - PROGRESS: at 80.71% examples, 328357 words/s, in_qsize 9, out_qsize 0\n",
      "2018-05-18 00:18:27,243 : INFO : EPOCH 15 - PROGRESS: at 83.21% examples, 327569 words/s, in_qsize 8, out_qsize 1\n",
      "2018-05-18 00:18:28,246 : INFO : EPOCH 15 - PROGRESS: at 85.21% examples, 325442 words/s, in_qsize 10, out_qsize 0\n",
      "2018-05-18 00:18:29,318 : INFO : EPOCH 15 - PROGRESS: at 87.88% examples, 325339 words/s, in_qsize 8, out_qsize 2\n",
      "2018-05-18 00:18:30,326 : INFO : EPOCH 15 - PROGRESS: at 91.25% examples, 328287 words/s, in_qsize 10, out_qsize 1\n",
      "2018-05-18 00:18:31,329 : INFO : EPOCH 15 - PROGRESS: at 94.45% examples, 330520 words/s, in_qsize 9, out_qsize 1\n",
      "2018-05-18 00:18:32,350 : INFO : EPOCH 15 - PROGRESS: at 97.52% examples, 332081 words/s, in_qsize 10, out_qsize 0\n",
      "2018-05-18 00:18:33,121 : INFO : worker thread finished; awaiting finish of 4 more threads\n",
      "2018-05-18 00:18:33,151 : INFO : worker thread finished; awaiting finish of 3 more threads\n",
      "2018-05-18 00:18:33,169 : INFO : worker thread finished; awaiting finish of 2 more threads\n",
      "2018-05-18 00:18:33,172 : INFO : worker thread finished; awaiting finish of 1 more threads\n",
      "2018-05-18 00:18:33,184 : INFO : worker thread finished; awaiting finish of 0 more threads\n",
      "2018-05-18 00:18:33,189 : INFO : EPOCH - 15 : training on 17503976 raw words (12867182 effective words) took 38.6s, 333180 effective words/s\n",
      "2018-05-18 00:18:34,235 : INFO : EPOCH 16 - PROGRESS: at 2.48% examples, 319322 words/s, in_qsize 9, out_qsize 0\n",
      "2018-05-18 00:18:35,242 : INFO : EPOCH 16 - PROGRESS: at 3.74% examples, 240076 words/s, in_qsize 9, out_qsize 0\n",
      "2018-05-18 00:18:36,273 : INFO : EPOCH 16 - PROGRESS: at 5.10% examples, 216639 words/s, in_qsize 9, out_qsize 0\n",
      "2018-05-18 00:18:37,285 : INFO : EPOCH 16 - PROGRESS: at 7.61% examples, 242117 words/s, in_qsize 9, out_qsize 0\n",
      "2018-05-18 00:18:38,326 : INFO : EPOCH 16 - PROGRESS: at 10.07% examples, 254589 words/s, in_qsize 10, out_qsize 1\n",
      "2018-05-18 00:18:39,336 : INFO : EPOCH 16 - PROGRESS: at 13.05% examples, 275046 words/s, in_qsize 10, out_qsize 0\n",
      "2018-05-18 00:18:40,346 : INFO : EPOCH 16 - PROGRESS: at 16.37% examples, 295875 words/s, in_qsize 10, out_qsize 0\n",
      "2018-05-18 00:18:41,352 : INFO : EPOCH 16 - PROGRESS: at 19.79% examples, 313395 words/s, in_qsize 8, out_qsize 1\n",
      "2018-05-18 00:18:42,379 : INFO : EPOCH 16 - PROGRESS: at 23.20% examples, 325616 words/s, in_qsize 10, out_qsize 0\n",
      "2018-05-18 00:18:43,436 : INFO : EPOCH 16 - PROGRESS: at 25.88% examples, 325665 words/s, in_qsize 8, out_qsize 1\n",
      "2018-05-18 00:18:44,451 : INFO : EPOCH 16 - PROGRESS: at 28.74% examples, 328903 words/s, in_qsize 10, out_qsize 0\n",
      "2018-05-18 00:18:45,488 : INFO : EPOCH 16 - PROGRESS: at 31.98% examples, 334594 words/s, in_qsize 10, out_qsize 0\n",
      "2018-05-18 00:18:46,492 : INFO : EPOCH 16 - PROGRESS: at 34.61% examples, 334728 words/s, in_qsize 8, out_qsize 1\n",
      "2018-05-18 00:18:47,516 : INFO : EPOCH 16 - PROGRESS: at 37.33% examples, 335417 words/s, in_qsize 8, out_qsize 1\n",
      "2018-05-18 00:18:48,523 : INFO : EPOCH 16 - PROGRESS: at 40.07% examples, 336391 words/s, in_qsize 9, out_qsize 0\n",
      "2018-05-18 00:18:49,524 : INFO : EPOCH 16 - PROGRESS: at 43.03% examples, 339153 words/s, in_qsize 10, out_qsize 0\n",
      "2018-05-18 00:18:50,538 : INFO : EPOCH 16 - PROGRESS: at 45.94% examples, 340889 words/s, in_qsize 10, out_qsize 0\n",
      "2018-05-18 00:18:51,550 : INFO : EPOCH 16 - PROGRESS: at 48.66% examples, 341319 words/s, in_qsize 10, out_qsize 0\n",
      "2018-05-18 00:18:52,557 : INFO : EPOCH 16 - PROGRESS: at 51.40% examples, 341779 words/s, in_qsize 8, out_qsize 1\n",
      "2018-05-18 00:18:53,580 : INFO : EPOCH 16 - PROGRESS: at 54.13% examples, 341898 words/s, in_qsize 7, out_qsize 2\n",
      "2018-05-18 00:18:54,642 : INFO : EPOCH 16 - PROGRESS: at 56.87% examples, 341387 words/s, in_qsize 10, out_qsize 1\n",
      "2018-05-18 00:18:55,651 : INFO : EPOCH 16 - PROGRESS: at 59.16% examples, 339435 words/s, in_qsize 10, out_qsize 0\n",
      "2018-05-18 00:18:56,663 : INFO : EPOCH 16 - PROGRESS: at 61.56% examples, 337942 words/s, in_qsize 9, out_qsize 1\n",
      "2018-05-18 00:18:57,675 : INFO : EPOCH 16 - PROGRESS: at 63.91% examples, 336256 words/s, in_qsize 9, out_qsize 1\n",
      "2018-05-18 00:18:58,694 : INFO : EPOCH 16 - PROGRESS: at 66.43% examples, 335495 words/s, in_qsize 10, out_qsize 1\n",
      "2018-05-18 00:18:59,737 : INFO : EPOCH 16 - PROGRESS: at 69.36% examples, 336420 words/s, in_qsize 9, out_qsize 0\n",
      "2018-05-18 00:19:00,866 : INFO : EPOCH 16 - PROGRESS: at 72.14% examples, 335680 words/s, in_qsize 10, out_qsize 2\n",
      "2018-05-18 00:19:01,890 : INFO : EPOCH 16 - PROGRESS: at 74.94% examples, 336231 words/s, in_qsize 10, out_qsize 0\n",
      "2018-05-18 00:19:02,912 : INFO : EPOCH 16 - PROGRESS: at 77.90% examples, 337515 words/s, in_qsize 8, out_qsize 1\n",
      "2018-05-18 00:19:03,930 : INFO : EPOCH 16 - PROGRESS: at 80.99% examples, 339229 words/s, in_qsize 10, out_qsize 0\n",
      "2018-05-18 00:19:04,933 : INFO : EPOCH 16 - PROGRESS: at 83.62% examples, 339152 words/s, in_qsize 10, out_qsize 0\n",
      "2018-05-18 00:19:05,943 : INFO : EPOCH 16 - PROGRESS: at 86.40% examples, 339682 words/s, in_qsize 10, out_qsize 0\n",
      "2018-05-18 00:19:07,011 : INFO : EPOCH 16 - PROGRESS: at 89.63% examples, 341331 words/s, in_qsize 9, out_qsize 0\n",
      "2018-05-18 00:19:08,030 : INFO : EPOCH 16 - PROGRESS: at 92.14% examples, 340614 words/s, in_qsize 8, out_qsize 1\n",
      "2018-05-18 00:19:09,123 : INFO : EPOCH 16 - PROGRESS: at 94.96% examples, 340271 words/s, in_qsize 9, out_qsize 0\n",
      "2018-05-18 00:19:10,131 : INFO : EPOCH 16 - PROGRESS: at 97.74% examples, 340732 words/s, in_qsize 9, out_qsize 0\n",
      "2018-05-18 00:19:11,013 : INFO : worker thread finished; awaiting finish of 4 more threads\n",
      "2018-05-18 00:19:11,037 : INFO : worker thread finished; awaiting finish of 3 more threads\n",
      "2018-05-18 00:19:11,042 : INFO : worker thread finished; awaiting finish of 2 more threads\n",
      "2018-05-18 00:19:11,061 : INFO : worker thread finished; awaiting finish of 1 more threads\n"
     ]
    },
    {
     "name": "stderr",
     "output_type": "stream",
     "text": [
      "2018-05-18 00:19:11,075 : INFO : worker thread finished; awaiting finish of 0 more threads\n",
      "2018-05-18 00:19:11,079 : INFO : EPOCH - 16 : training on 17503976 raw words (12866047 effective words) took 37.9s, 339895 effective words/s\n",
      "2018-05-18 00:19:12,138 : INFO : EPOCH 17 - PROGRESS: at 3.40% examples, 429487 words/s, in_qsize 8, out_qsize 1\n",
      "2018-05-18 00:19:13,225 : INFO : EPOCH 17 - PROGRESS: at 6.64% examples, 406442 words/s, in_qsize 8, out_qsize 1\n",
      "2018-05-18 00:19:14,237 : INFO : EPOCH 17 - PROGRESS: at 9.55% examples, 394686 words/s, in_qsize 10, out_qsize 0\n",
      "2018-05-18 00:19:15,244 : INFO : EPOCH 17 - PROGRESS: at 12.64% examples, 394381 words/s, in_qsize 10, out_qsize 0\n",
      "2018-05-18 00:19:16,280 : INFO : EPOCH 17 - PROGRESS: at 16.03% examples, 399210 words/s, in_qsize 10, out_qsize 0\n",
      "2018-05-18 00:19:17,295 : INFO : EPOCH 17 - PROGRESS: at 18.46% examples, 384641 words/s, in_qsize 10, out_qsize 1\n",
      "2018-05-18 00:19:18,318 : INFO : EPOCH 17 - PROGRESS: at 20.25% examples, 361633 words/s, in_qsize 8, out_qsize 1\n",
      "2018-05-18 00:19:19,350 : INFO : EPOCH 17 - PROGRESS: at 22.92% examples, 357381 words/s, in_qsize 10, out_qsize 0\n",
      "2018-05-18 00:19:20,363 : INFO : EPOCH 17 - PROGRESS: at 25.18% examples, 349974 words/s, in_qsize 8, out_qsize 1\n",
      "2018-05-18 00:19:21,386 : INFO : EPOCH 17 - PROGRESS: at 27.27% examples, 340829 words/s, in_qsize 8, out_qsize 1\n",
      "2018-05-18 00:19:22,409 : INFO : EPOCH 17 - PROGRESS: at 31.06% examples, 352825 words/s, in_qsize 8, out_qsize 1\n",
      "2018-05-18 00:19:23,416 : INFO : EPOCH 17 - PROGRESS: at 33.43% examples, 348393 words/s, in_qsize 9, out_qsize 0\n",
      "2018-05-18 00:19:24,419 : INFO : EPOCH 17 - PROGRESS: at 36.08% examples, 348082 words/s, in_qsize 9, out_qsize 1\n",
      "2018-05-18 00:19:25,422 : INFO : EPOCH 17 - PROGRESS: at 39.04% examples, 350378 words/s, in_qsize 9, out_qsize 0\n",
      "2018-05-18 00:19:26,426 : INFO : EPOCH 17 - PROGRESS: at 41.27% examples, 346075 words/s, in_qsize 9, out_qsize 1\n",
      "2018-05-18 00:19:27,435 : INFO : EPOCH 17 - PROGRESS: at 44.71% examples, 351679 words/s, in_qsize 10, out_qsize 0\n",
      "2018-05-18 00:19:28,441 : INFO : EPOCH 17 - PROGRESS: at 47.37% examples, 351136 words/s, in_qsize 10, out_qsize 0\n",
      "2018-05-18 00:19:29,443 : INFO : EPOCH 17 - PROGRESS: at 50.25% examples, 352384 words/s, in_qsize 9, out_qsize 0\n",
      "2018-05-18 00:19:30,469 : INFO : EPOCH 17 - PROGRESS: at 53.53% examples, 355344 words/s, in_qsize 10, out_qsize 0\n",
      "2018-05-18 00:19:31,490 : INFO : EPOCH 17 - PROGRESS: at 56.12% examples, 354103 words/s, in_qsize 9, out_qsize 0\n",
      "2018-05-18 00:19:32,497 : INFO : EPOCH 17 - PROGRESS: at 58.55% examples, 352197 words/s, in_qsize 9, out_qsize 0\n",
      "2018-05-18 00:19:33,522 : INFO : EPOCH 17 - PROGRESS: at 61.85% examples, 355082 words/s, in_qsize 8, out_qsize 1\n",
      "2018-05-18 00:19:34,527 : INFO : EPOCH 17 - PROGRESS: at 65.42% examples, 359294 words/s, in_qsize 10, out_qsize 0\n",
      "2018-05-18 00:19:35,560 : INFO : EPOCH 17 - PROGRESS: at 69.08% examples, 363341 words/s, in_qsize 9, out_qsize 0\n",
      "2018-05-18 00:19:36,585 : INFO : EPOCH 17 - PROGRESS: at 72.55% examples, 366304 words/s, in_qsize 8, out_qsize 1\n",
      "2018-05-18 00:19:37,588 : INFO : EPOCH 17 - PROGRESS: at 75.86% examples, 368522 words/s, in_qsize 10, out_qsize 1\n",
      "2018-05-18 00:19:38,593 : INFO : EPOCH 17 - PROGRESS: at 78.82% examples, 368954 words/s, in_qsize 8, out_qsize 0\n",
      "2018-05-18 00:19:39,605 : INFO : EPOCH 17 - PROGRESS: at 81.66% examples, 368717 words/s, in_qsize 9, out_qsize 0\n",
      "2018-05-18 00:19:40,613 : INFO : EPOCH 17 - PROGRESS: at 84.06% examples, 366584 words/s, in_qsize 8, out_qsize 1\n",
      "2018-05-18 00:19:41,637 : INFO : EPOCH 17 - PROGRESS: at 87.14% examples, 367274 words/s, in_qsize 9, out_qsize 0\n",
      "2018-05-18 00:19:42,649 : INFO : EPOCH 17 - PROGRESS: at 89.87% examples, 366675 words/s, in_qsize 9, out_qsize 0\n",
      "2018-05-18 00:19:43,651 : INFO : EPOCH 17 - PROGRESS: at 92.79% examples, 366879 words/s, in_qsize 9, out_qsize 0\n",
      "2018-05-18 00:19:44,669 : INFO : EPOCH 17 - PROGRESS: at 96.24% examples, 368888 words/s, in_qsize 10, out_qsize 0\n",
      "2018-05-18 00:19:45,678 : INFO : EPOCH 17 - PROGRESS: at 99.72% examples, 371265 words/s, in_qsize 5, out_qsize 0\n",
      "2018-05-18 00:19:45,681 : INFO : worker thread finished; awaiting finish of 4 more threads\n",
      "2018-05-18 00:19:45,690 : INFO : worker thread finished; awaiting finish of 3 more threads\n",
      "2018-05-18 00:19:45,717 : INFO : worker thread finished; awaiting finish of 2 more threads\n",
      "2018-05-18 00:19:45,721 : INFO : worker thread finished; awaiting finish of 1 more threads\n",
      "2018-05-18 00:19:45,725 : INFO : worker thread finished; awaiting finish of 0 more threads\n",
      "2018-05-18 00:19:45,729 : INFO : EPOCH - 17 : training on 17503976 raw words (12866871 effective words) took 34.6s, 371720 effective words/s\n",
      "2018-05-18 00:19:46,801 : INFO : EPOCH 18 - PROGRESS: at 3.68% examples, 460231 words/s, in_qsize 9, out_qsize 0\n",
      "2018-05-18 00:19:47,801 : INFO : EPOCH 18 - PROGRESS: at 7.15% examples, 453855 words/s, in_qsize 9, out_qsize 0\n",
      "2018-05-18 00:19:48,811 : INFO : EPOCH 18 - PROGRESS: at 9.32% examples, 395047 words/s, in_qsize 9, out_qsize 0\n",
      "2018-05-18 00:19:49,844 : INFO : EPOCH 18 - PROGRESS: at 11.79% examples, 372473 words/s, in_qsize 8, out_qsize 1\n",
      "2018-05-18 00:19:50,858 : INFO : EPOCH 18 - PROGRESS: at 14.53% examples, 367527 words/s, in_qsize 8, out_qsize 1\n",
      "2018-05-18 00:19:51,858 : INFO : EPOCH 18 - PROGRESS: at 17.79% examples, 375918 words/s, in_qsize 9, out_qsize 0\n",
      "2018-05-18 00:19:52,948 : INFO : EPOCH 18 - PROGRESS: at 20.26% examples, 362769 words/s, in_qsize 10, out_qsize 2\n",
      "2018-05-18 00:19:53,956 : INFO : EPOCH 18 - PROGRESS: at 23.53% examples, 369316 words/s, in_qsize 10, out_qsize 0\n",
      "2018-05-18 00:19:54,962 : INFO : EPOCH 18 - PROGRESS: at 26.11% examples, 364875 words/s, in_qsize 10, out_qsize 0\n",
      "2018-05-18 00:19:55,969 : INFO : EPOCH 18 - PROGRESS: at 29.65% examples, 373406 words/s, in_qsize 9, out_qsize 0\n",
      "2018-05-18 00:19:56,970 : INFO : EPOCH 18 - PROGRESS: at 32.85% examples, 376037 words/s, in_qsize 9, out_qsize 0\n",
      "2018-05-18 00:19:57,971 : INFO : EPOCH 18 - PROGRESS: at 36.41% examples, 383083 words/s, in_qsize 10, out_qsize 0\n",
      "2018-05-18 00:19:58,983 : INFO : EPOCH 18 - PROGRESS: at 40.19% examples, 390433 words/s, in_qsize 10, out_qsize 0\n",
      "2018-05-18 00:19:59,994 : INFO : EPOCH 18 - PROGRESS: at 43.65% examples, 394180 words/s, in_qsize 10, out_qsize 0\n",
      "2018-05-18 00:20:01,028 : INFO : EPOCH 18 - PROGRESS: at 46.17% examples, 388599 words/s, in_qsize 7, out_qsize 2\n",
      "2018-05-18 00:20:02,031 : INFO : EPOCH 18 - PROGRESS: at 48.49% examples, 383134 words/s, in_qsize 8, out_qsize 1\n",
      "2018-05-18 00:20:03,048 : INFO : EPOCH 18 - PROGRESS: at 51.51% examples, 383098 words/s, in_qsize 10, out_qsize 0\n",
      "2018-05-18 00:20:04,082 : INFO : EPOCH 18 - PROGRESS: at 55.10% examples, 386710 words/s, in_qsize 10, out_qsize 0\n",
      "2018-05-18 00:20:05,084 : INFO : EPOCH 18 - PROGRESS: at 57.92% examples, 385655 words/s, in_qsize 10, out_qsize 0\n",
      "2018-05-18 00:20:06,146 : INFO : EPOCH 18 - PROGRESS: at 61.85% examples, 390437 words/s, in_qsize 8, out_qsize 1\n",
      "2018-05-18 00:20:07,200 : INFO : EPOCH 18 - PROGRESS: at 64.20% examples, 385272 words/s, in_qsize 7, out_qsize 2\n",
      "2018-05-18 00:20:08,205 : INFO : EPOCH 18 - PROGRESS: at 66.95% examples, 383735 words/s, in_qsize 8, out_qsize 1\n",
      "2018-05-18 00:20:09,246 : INFO : EPOCH 18 - PROGRESS: at 69.48% examples, 380492 words/s, in_qsize 8, out_qsize 1\n",
      "2018-05-18 00:20:10,256 : INFO : EPOCH 18 - PROGRESS: at 71.92% examples, 377691 words/s, in_qsize 10, out_qsize 0\n",
      "2018-05-18 00:20:11,287 : INFO : EPOCH 18 - PROGRESS: at 74.25% examples, 374227 words/s, in_qsize 10, out_qsize 0\n",
      "2018-05-18 00:20:12,317 : INFO : EPOCH 18 - PROGRESS: at 76.54% examples, 370767 words/s, in_qsize 7, out_qsize 2\n",
      "2018-05-18 00:20:13,361 : INFO : EPOCH 18 - PROGRESS: at 79.28% examples, 369537 words/s, in_qsize 9, out_qsize 1\n",
      "2018-05-18 00:20:14,377 : INFO : EPOCH 18 - PROGRESS: at 82.13% examples, 369236 words/s, in_qsize 8, out_qsize 1\n",
      "2018-05-18 00:20:15,398 : INFO : EPOCH 18 - PROGRESS: at 85.38% examples, 370661 words/s, in_qsize 10, out_qsize 0\n",
      "2018-05-18 00:20:16,423 : INFO : EPOCH 18 - PROGRESS: at 87.99% examples, 369276 words/s, in_qsize 9, out_qsize 1\n",
      "2018-05-18 00:20:17,428 : INFO : EPOCH 18 - PROGRESS: at 91.47% examples, 371712 words/s, in_qsize 10, out_qsize 0\n"
     ]
    },
    {
     "name": "stderr",
     "output_type": "stream",
     "text": [
      "2018-05-18 00:20:18,431 : INFO : EPOCH 18 - PROGRESS: at 94.73% examples, 373118 words/s, in_qsize 9, out_qsize 0\n",
      "2018-05-18 00:20:19,437 : INFO : EPOCH 18 - PROGRESS: at 98.26% examples, 375476 words/s, in_qsize 10, out_qsize 1\n",
      "2018-05-18 00:20:19,844 : INFO : worker thread finished; awaiting finish of 4 more threads\n",
      "2018-05-18 00:20:19,880 : INFO : worker thread finished; awaiting finish of 3 more threads\n",
      "2018-05-18 00:20:19,890 : INFO : worker thread finished; awaiting finish of 2 more threads\n",
      "2018-05-18 00:20:19,894 : INFO : worker thread finished; awaiting finish of 1 more threads\n",
      "2018-05-18 00:20:19,910 : INFO : worker thread finished; awaiting finish of 0 more threads\n",
      "2018-05-18 00:20:19,913 : INFO : EPOCH - 18 : training on 17503976 raw words (12868225 effective words) took 34.1s, 376836 effective words/s\n",
      "2018-05-18 00:20:20,952 : INFO : EPOCH 19 - PROGRESS: at 3.17% examples, 403694 words/s, in_qsize 9, out_qsize 0\n",
      "2018-05-18 00:20:21,970 : INFO : EPOCH 19 - PROGRESS: at 6.41% examples, 407456 words/s, in_qsize 9, out_qsize 0\n",
      "2018-05-18 00:20:23,025 : INFO : EPOCH 19 - PROGRESS: at 9.49% examples, 396797 words/s, in_qsize 8, out_qsize 1\n",
      "2018-05-18 00:20:24,068 : INFO : EPOCH 19 - PROGRESS: at 11.96% examples, 373015 words/s, in_qsize 10, out_qsize 1\n",
      "2018-05-18 00:20:25,075 : INFO : EPOCH 19 - PROGRESS: at 14.93% examples, 374189 words/s, in_qsize 8, out_qsize 1\n",
      "2018-05-18 00:20:26,118 : INFO : EPOCH 19 - PROGRESS: at 18.64% examples, 388225 words/s, in_qsize 9, out_qsize 0\n",
      "2018-05-18 00:20:27,133 : INFO : EPOCH 19 - PROGRESS: at 22.11% examples, 394726 words/s, in_qsize 8, out_qsize 1\n",
      "2018-05-18 00:20:28,146 : INFO : EPOCH 19 - PROGRESS: at 24.84% examples, 388952 words/s, in_qsize 10, out_qsize 1\n",
      "2018-05-18 00:20:29,162 : INFO : EPOCH 19 - PROGRESS: at 28.00% examples, 389846 words/s, in_qsize 8, out_qsize 1\n",
      "2018-05-18 00:20:30,175 : INFO : EPOCH 19 - PROGRESS: at 31.41% examples, 393596 words/s, in_qsize 10, out_qsize 0\n",
      "2018-05-18 00:20:31,203 : INFO : EPOCH 19 - PROGRESS: at 34.55% examples, 393494 words/s, in_qsize 9, out_qsize 1\n",
      "2018-05-18 00:20:32,204 : INFO : EPOCH 19 - PROGRESS: at 37.61% examples, 393733 words/s, in_qsize 10, out_qsize 0\n",
      "2018-05-18 00:20:33,220 : INFO : EPOCH 19 - PROGRESS: at 40.88% examples, 395115 words/s, in_qsize 10, out_qsize 0\n",
      "2018-05-18 00:20:34,236 : INFO : EPOCH 19 - PROGRESS: at 43.15% examples, 387557 words/s, in_qsize 9, out_qsize 0\n",
      "2018-05-18 00:20:35,305 : INFO : EPOCH 19 - PROGRESS: at 46.45% examples, 388286 words/s, in_qsize 9, out_qsize 1\n",
      "2018-05-18 00:20:36,321 : INFO : EPOCH 19 - PROGRESS: at 49.85% examples, 391105 words/s, in_qsize 10, out_qsize 1\n",
      "2018-05-18 00:20:37,329 : INFO : EPOCH 19 - PROGRESS: at 52.72% examples, 389538 words/s, in_qsize 9, out_qsize 0\n",
      "2018-05-18 00:20:38,334 : INFO : EPOCH 19 - PROGRESS: at 55.67% examples, 389051 words/s, in_qsize 9, out_qsize 0\n",
      "2018-05-18 00:20:39,337 : INFO : EPOCH 19 - PROGRESS: at 59.28% examples, 393147 words/s, in_qsize 9, out_qsize 0\n",
      "2018-05-18 00:20:40,418 : INFO : EPOCH 19 - PROGRESS: at 61.80% examples, 388161 words/s, in_qsize 8, out_qsize 1\n",
      "2018-05-18 00:20:41,423 : INFO : EPOCH 19 - PROGRESS: at 64.90% examples, 388469 words/s, in_qsize 9, out_qsize 1\n",
      "2018-05-18 00:20:42,458 : INFO : EPOCH 19 - PROGRESS: at 67.59% examples, 385930 words/s, in_qsize 10, out_qsize 2\n",
      "2018-05-18 00:20:43,466 : INFO : EPOCH 19 - PROGRESS: at 70.79% examples, 386893 words/s, in_qsize 10, out_qsize 1\n",
      "2018-05-18 00:20:44,507 : INFO : EPOCH 19 - PROGRESS: at 73.75% examples, 386051 words/s, in_qsize 9, out_qsize 0\n",
      "2018-05-18 00:20:45,530 : INFO : EPOCH 19 - PROGRESS: at 76.54% examples, 384685 words/s, in_qsize 10, out_qsize 1\n",
      "2018-05-18 00:20:46,558 : INFO : EPOCH 19 - PROGRESS: at 80.14% examples, 387209 words/s, in_qsize 9, out_qsize 0\n",
      "2018-05-18 00:20:47,563 : INFO : EPOCH 19 - PROGRESS: at 83.21% examples, 387476 words/s, in_qsize 10, out_qsize 0\n",
      "2018-05-18 00:20:48,571 : INFO : EPOCH 19 - PROGRESS: at 86.63% examples, 389217 words/s, in_qsize 10, out_qsize 1\n",
      "2018-05-18 00:20:49,606 : INFO : EPOCH 19 - PROGRESS: at 89.63% examples, 388744 words/s, in_qsize 10, out_qsize 0\n",
      "2018-05-18 00:20:50,630 : INFO : EPOCH 19 - PROGRESS: at 91.75% examples, 384631 words/s, in_qsize 10, out_qsize 0\n",
      "2018-05-18 00:20:51,630 : INFO : EPOCH 19 - PROGRESS: at 94.34% examples, 382902 words/s, in_qsize 8, out_qsize 1\n",
      "2018-05-18 00:20:52,647 : INFO : EPOCH 19 - PROGRESS: at 96.97% examples, 381329 words/s, in_qsize 9, out_qsize 0\n",
      "2018-05-18 00:20:53,658 : INFO : EPOCH 19 - PROGRESS: at 99.61% examples, 380129 words/s, in_qsize 7, out_qsize 0\n",
      "2018-05-18 00:20:53,724 : INFO : worker thread finished; awaiting finish of 4 more threads\n",
      "2018-05-18 00:20:53,729 : INFO : worker thread finished; awaiting finish of 3 more threads\n",
      "2018-05-18 00:20:53,744 : INFO : worker thread finished; awaiting finish of 2 more threads\n",
      "2018-05-18 00:20:53,762 : INFO : worker thread finished; awaiting finish of 1 more threads\n",
      "2018-05-18 00:20:53,774 : INFO : worker thread finished; awaiting finish of 0 more threads\n",
      "2018-05-18 00:20:53,778 : INFO : EPOCH - 19 : training on 17503976 raw words (12868455 effective words) took 33.8s, 380236 effective words/s\n",
      "2018-05-18 00:20:54,819 : INFO : EPOCH 20 - PROGRESS: at 3.17% examples, 411234 words/s, in_qsize 9, out_qsize 0\n",
      "2018-05-18 00:20:55,841 : INFO : EPOCH 20 - PROGRESS: at 5.62% examples, 359465 words/s, in_qsize 10, out_qsize 0\n",
      "2018-05-18 00:20:56,870 : INFO : EPOCH 20 - PROGRESS: at 8.42% examples, 356220 words/s, in_qsize 9, out_qsize 0\n",
      "2018-05-18 00:20:57,876 : INFO : EPOCH 20 - PROGRESS: at 11.09% examples, 352825 words/s, in_qsize 10, out_qsize 0\n",
      "2018-05-18 00:20:58,898 : INFO : EPOCH 20 - PROGRESS: at 14.09% examples, 356999 words/s, in_qsize 10, out_qsize 0\n",
      "2018-05-18 00:20:59,908 : INFO : EPOCH 20 - PROGRESS: at 16.14% examples, 341258 words/s, in_qsize 7, out_qsize 2\n",
      "2018-05-18 00:21:00,940 : INFO : EPOCH 20 - PROGRESS: at 18.07% examples, 326832 words/s, in_qsize 10, out_qsize 0\n",
      "2018-05-18 00:21:01,962 : INFO : EPOCH 20 - PROGRESS: at 19.91% examples, 314666 words/s, in_qsize 9, out_qsize 0\n",
      "2018-05-18 00:21:02,981 : INFO : EPOCH 20 - PROGRESS: at 23.20% examples, 325414 words/s, in_qsize 9, out_qsize 1\n",
      "2018-05-18 00:21:04,038 : INFO : EPOCH 20 - PROGRESS: at 25.88% examples, 325478 words/s, in_qsize 9, out_qsize 0\n",
      "2018-05-18 00:21:05,085 : INFO : EPOCH 20 - PROGRESS: at 28.80% examples, 328457 words/s, in_qsize 8, out_qsize 2\n",
      "2018-05-18 00:21:06,142 : INFO : EPOCH 20 - PROGRESS: at 32.10% examples, 334227 words/s, in_qsize 10, out_qsize 0\n",
      "2018-05-18 00:21:07,147 : INFO : EPOCH 20 - PROGRESS: at 35.06% examples, 337639 words/s, in_qsize 10, out_qsize 1\n",
      "2018-05-18 00:21:08,200 : INFO : EPOCH 20 - PROGRESS: at 37.50% examples, 334887 words/s, in_qsize 7, out_qsize 2\n",
      "2018-05-18 00:21:09,215 : INFO : EPOCH 20 - PROGRESS: at 40.01% examples, 333807 words/s, in_qsize 10, out_qsize 0\n",
      "2018-05-18 00:21:10,245 : INFO : EPOCH 20 - PROGRESS: at 42.92% examples, 335656 words/s, in_qsize 9, out_qsize 0\n",
      "2018-05-18 00:21:11,262 : INFO : EPOCH 20 - PROGRESS: at 45.54% examples, 335406 words/s, in_qsize 9, out_qsize 0\n",
      "2018-05-18 00:21:12,288 : INFO : EPOCH 20 - PROGRESS: at 48.38% examples, 336623 words/s, in_qsize 9, out_qsize 0\n",
      "2018-05-18 00:21:13,392 : INFO : EPOCH 20 - PROGRESS: at 51.05% examples, 335274 words/s, in_qsize 10, out_qsize 0\n",
      "2018-05-18 00:21:14,456 : INFO : EPOCH 20 - PROGRESS: at 53.69% examples, 334362 words/s, in_qsize 10, out_qsize 2\n",
      "2018-05-18 00:21:15,490 : INFO : EPOCH 20 - PROGRESS: at 56.86% examples, 337391 words/s, in_qsize 9, out_qsize 0\n",
      "2018-05-18 00:21:16,500 : INFO : EPOCH 20 - PROGRESS: at 59.77% examples, 339190 words/s, in_qsize 8, out_qsize 1\n",
      "2018-05-18 00:21:17,501 : INFO : EPOCH 20 - PROGRESS: at 62.89% examples, 341581 words/s, in_qsize 8, out_qsize 1\n",
      "2018-05-18 00:21:18,529 : INFO : EPOCH 20 - PROGRESS: at 66.49% examples, 346110 words/s, in_qsize 9, out_qsize 1\n",
      "2018-05-18 00:21:19,540 : INFO : EPOCH 20 - PROGRESS: at 70.23% examples, 351078 words/s, in_qsize 10, out_qsize 0\n",
      "2018-05-18 00:21:20,554 : INFO : EPOCH 20 - PROGRESS: at 73.86% examples, 355341 words/s, in_qsize 10, out_qsize 0\n",
      "2018-05-18 00:21:21,567 : INFO : EPOCH 20 - PROGRESS: at 77.45% examples, 359042 words/s, in_qsize 9, out_qsize 0\n"
     ]
    },
    {
     "name": "stderr",
     "output_type": "stream",
     "text": [
      "2018-05-18 00:21:22,572 : INFO : EPOCH 20 - PROGRESS: at 80.88% examples, 361818 words/s, in_qsize 7, out_qsize 2\n",
      "2018-05-18 00:21:23,627 : INFO : EPOCH 20 - PROGRESS: at 84.64% examples, 365287 words/s, in_qsize 9, out_qsize 0\n",
      "2018-05-18 00:21:24,652 : INFO : EPOCH 20 - PROGRESS: at 87.43% examples, 364792 words/s, in_qsize 9, out_qsize 0\n",
      "2018-05-18 00:21:25,692 : INFO : EPOCH 20 - PROGRESS: at 90.62% examples, 365804 words/s, in_qsize 9, out_qsize 0\n",
      "2018-05-18 00:21:26,698 : INFO : EPOCH 20 - PROGRESS: at 93.65% examples, 366441 words/s, in_qsize 9, out_qsize 0\n",
      "2018-05-18 00:21:27,720 : INFO : EPOCH 20 - PROGRESS: at 96.58% examples, 366431 words/s, in_qsize 9, out_qsize 2\n",
      "2018-05-18 00:21:28,515 : INFO : worker thread finished; awaiting finish of 4 more threads\n",
      "2018-05-18 00:21:28,524 : INFO : worker thread finished; awaiting finish of 3 more threads\n",
      "2018-05-18 00:21:28,541 : INFO : worker thread finished; awaiting finish of 2 more threads\n",
      "2018-05-18 00:21:28,562 : INFO : worker thread finished; awaiting finish of 1 more threads\n",
      "2018-05-18 00:21:28,573 : INFO : worker thread finished; awaiting finish of 0 more threads\n",
      "2018-05-18 00:21:28,576 : INFO : EPOCH - 20 : training on 17503976 raw words (12867508 effective words) took 34.8s, 370219 effective words/s\n",
      "2018-05-18 00:21:28,583 : INFO : training on a 350079520 raw words (257358885 effective words) took 851.8s, 302134 effective words/s\n"
     ]
    }
   ],
   "source": [
    "num_feature = 50\n",
    "min_word_count = 20\n",
    "num_thread = 5\n",
    "window_size = 10\n",
    "down_sampling = 0.001\n",
    "iteration = 20\n",
    "\n",
    "logging.basicConfig(format='%(asctime)s : %(levelname)s : %(message)s', level=logging.INFO)\n",
    "model = word2vec.Word2Vec(sentences, \n",
    "                          iter = iteration,\n",
    "                          size=num_feature, \n",
    "                          min_count = min_word_count, \n",
    "                          window = window_size, \n",
    "                          sample = down_sampling, \n",
    "                          workers=num_thread)"
   ]
  },
  {
   "cell_type": "markdown",
   "metadata": {},
   "source": [
    "Total training time for `word2vec` embeddings is 851.8s.\n",
    "Let's save model for backing up purposes."
   ]
  },
  {
   "cell_type": "code",
   "execution_count": 46,
   "metadata": {},
   "outputs": [
    {
     "name": "stderr",
     "output_type": "stream",
     "text": [
      "2018-05-18 13:55:07,623 : INFO : saving Word2Vec object under ./data/gensim_word2vec_model_180518, separately None\n",
      "2018-05-18 13:55:07,634 : INFO : not storing attribute vectors_norm\n",
      "2018-05-18 13:55:07,639 : INFO : not storing attribute cum_table\n",
      "2018-05-18 13:55:08,800 : INFO : saved ./data/gensim_word2vec_model_180518\n"
     ]
    }
   ],
   "source": [
    "model.save(\"./data/gensim_word2vec_model_180518\")"
   ]
  },
  {
   "cell_type": "markdown",
   "metadata": {},
   "source": [
    "To load the saved model, we use below code:"
   ]
  },
  {
   "cell_type": "code",
   "execution_count": 11,
   "metadata": {
    "collapsed": true
   },
   "outputs": [],
   "source": [
    "model = Word2Vec.load(\"./data/gensim_word2vec_model_180518\")"
   ]
  },
  {
   "cell_type": "markdown",
   "metadata": {},
   "source": [
    "### Model checking\n",
    "\n",
    "Our embedding is ready now. Let's perform some NLP task with the model. There are about 24,800 words in our vocabulary."
   ]
  },
  {
   "cell_type": "code",
   "execution_count": 12,
   "metadata": {},
   "outputs": [
    {
     "name": "stdout",
     "output_type": "stream",
     "text": [
      "Total of words: 24800\n"
     ]
    }
   ],
   "source": [
    "print(\"Total of words: {}\".format(len(model.wv.vocab)))"
   ]
  },
  {
   "cell_type": "markdown",
   "metadata": {},
   "source": [
    "#### Word similarity\n",
    "\n",
    "In the example below, we can easily see that numbers `1` and `2` tend to stay near each other than the words `apple` and `weather`."
   ]
  },
  {
   "cell_type": "code",
   "execution_count": 13,
   "metadata": {},
   "outputs": [
    {
     "name": "stdout",
     "output_type": "stream",
     "text": [
      "0.776723224032\n"
     ]
    }
   ],
   "source": [
    "print(model.wv.similarity('1', '2'))"
   ]
  },
  {
   "cell_type": "code",
   "execution_count": 14,
   "metadata": {},
   "outputs": [
    {
     "name": "stdout",
     "output_type": "stream",
     "text": [
      "0.193279800243\n"
     ]
    }
   ],
   "source": [
    "print(model.wv.similarity('apple', 'weather'))"
   ]
  },
  {
   "cell_type": "code",
   "execution_count": 15,
   "metadata": {},
   "outputs": [
    {
     "data": {
      "text/plain": [
       "[('protagonist', 0.7609272003173828),\n",
       " ('role', 0.7386566996574402),\n",
       " ('personality', 0.7352930307388306),\n",
       " ('villain', 0.6820997595787048),\n",
       " ('persona', 0.6581060886383057),\n",
       " ('antagonist', 0.6566777229309082),\n",
       " ('attraction', 0.6436684131622314),\n",
       " ('rapport', 0.6315550208091736),\n",
       " ('relationship', 0.6272909641265869),\n",
       " ('presence', 0.6150318384170532)]"
      ]
     },
     "execution_count": 15,
     "metadata": {},
     "output_type": "execute_result"
    }
   ],
   "source": [
    "model.wv.most_similar('character')"
   ]
  },
  {
   "cell_type": "markdown",
   "metadata": {},
   "source": [
    "If we have `good:best :: bad:?` and we want to find the missing word (which is `worse`). We have to look for  vector(x) such that it is close to:\n",
    "    \n",
    "    vector(`best`) - vector(`good`) + vector(`bad`)"
   ]
  },
  {
   "cell_type": "code",
   "execution_count": 16,
   "metadata": {},
   "outputs": [
    {
     "data": {
      "text/plain": [
       "[('worst', 0.8797682523727417),\n",
       " ('funniest', 0.771563708782196),\n",
       " ('stupidest', 0.7688117027282715),\n",
       " ('poorest', 0.7639316916465759),\n",
       " ('cheesiest', 0.7318538427352905),\n",
       " ('finest', 0.7109623551368713),\n",
       " ('weakest', 0.6855686902999878),\n",
       " ('greatest', 0.6832293272018433),\n",
       " ('lamest', 0.6801236867904663),\n",
       " ('dullest', 0.6715612411499023)]"
      ]
     },
     "execution_count": 16,
     "metadata": {},
     "output_type": "execute_result"
    }
   ],
   "source": [
    "model.wv.most_similar(positive=['best','bad'],negative=['good'])"
   ]
  },
  {
   "cell_type": "markdown",
   "metadata": {},
   "source": [
    "Below is another example. The output is exactly as in our expectation - the word `paris`."
   ]
  },
  {
   "cell_type": "code",
   "execution_count": 17,
   "metadata": {},
   "outputs": [
    {
     "data": {
      "text/plain": [
       "[('paris', 0.7609268426895142),\n",
       " ('margo', 0.7574951648712158),\n",
       " ('du', 0.7245261073112488),\n",
       " ('vienna', 0.7232941389083862),\n",
       " ('pierre', 0.7172746062278748),\n",
       " ('clair', 0.7013946771621704),\n",
       " ('eleni', 0.6924647092819214),\n",
       " ('villa', 0.6900115013122559),\n",
       " ('belle', 0.6767010688781738),\n",
       " ('venice', 0.6763746738433838)]"
      ]
     },
     "execution_count": 17,
     "metadata": {},
     "output_type": "execute_result"
    }
   ],
   "source": [
    "model.wv.most_similar(positive=['berlin','france'],negative=['germany'])"
   ]
  },
  {
   "cell_type": "markdown",
   "metadata": {},
   "source": [
    "#### Different from the group\n",
    "\n",
    "By using `doesnt_match` function, we can find out which word does not belong to the group of words. Since 3 out of 4 are negative words, leaving `good` the only positive word."
   ]
  },
  {
   "cell_type": "code",
   "execution_count": 18,
   "metadata": {},
   "outputs": [
    {
     "name": "stdout",
     "output_type": "stream",
     "text": [
      "good\n"
     ]
    }
   ],
   "source": [
    "print(model.wv.doesnt_match(\"terrible bad horrible good\".split()))"
   ]
  },
  {
   "cell_type": "markdown",
   "metadata": {},
   "source": [
    "#### Word vectors\n",
    "\n",
    "We can get vector representations of a specific word easily by using the function `get_vector`. Below are some vectors as examples:"
   ]
  },
  {
   "cell_type": "code",
   "execution_count": 19,
   "metadata": {},
   "outputs": [
    {
     "name": "stdout",
     "output_type": "stream",
     "text": [
      "Vector for word 'film': \n",
      "[-2.26498747  0.59922707 -5.11942196 -2.86017013 -1.70951402  0.84601313\n",
      " -1.06525266  4.49640226  4.57102489  3.69904923  1.4661808   0.78479469\n",
      "  0.70178229  1.55773318 -3.21934795  0.53184873 -5.91274118 -4.79618073\n",
      " -2.17931485 -1.01804733  4.69565201 -1.75921273 -1.93044889 -4.00331783\n",
      " -1.81263435 -2.60498953 -4.44695473 -0.77245116  1.8795706  -1.26255\n",
      " -4.07912254  2.29629445  3.18819356  6.95551157 -2.86236167  4.5243454\n",
      " -0.4579851  -1.42139578  6.93507481 -4.84183931 -0.88582969 -2.39337063\n",
      " -1.08843029 -3.75431132 -0.25205219 -4.76414824 -3.94741678 -1.41823518\n",
      "  0.39292559 -1.12679636]\n"
     ]
    }
   ],
   "source": [
    "print(\"Vector for word 'film': \\n{}\".format(model.wv.get_vector('film')))"
   ]
  },
  {
   "cell_type": "code",
   "execution_count": 20,
   "metadata": {},
   "outputs": [
    {
     "name": "stdout",
     "output_type": "stream",
     "text": [
      "Vector for word 'movie': \n",
      "[-2.78263164  2.90011311 -4.97895622 -1.87051165  0.61191779  0.10896216\n",
      " -4.27431345  3.89203548  4.72996855  2.96508002  0.89933449  1.81341279\n",
      "  1.32129169  1.44068658 -3.42293787  0.49027845 -3.87458372 -4.89371157\n",
      " -2.96179509  0.64510381  4.7046051  -1.42691004 -0.36782303 -5.17180538\n",
      " -0.8367576  -5.06912422 -5.59841299 -2.08465052  1.37301195 -0.82797796\n",
      " -4.32099485  3.36242175  2.25995493  6.93139076 -1.24982738  4.21200705\n",
      "  0.46820539 -1.62913144  6.4912262  -4.05751276 -1.26376617 -3.03613043\n",
      " -3.47508025 -4.51454163  1.68685043 -4.90973186 -4.11981916 -0.05337746\n",
      "  0.70520127 -2.7952342 ]\n"
     ]
    }
   ],
   "source": [
    "print(\"Vector for word 'movie': \\n{}\".format(model.wv['movie']))"
   ]
  },
  {
   "cell_type": "markdown",
   "metadata": {},
   "source": [
    "#### Word index\n",
    "\n",
    "Another useful function named `index2word` can help us find the word at specific index."
   ]
  },
  {
   "cell_type": "code",
   "execution_count": 21,
   "metadata": {},
   "outputs": [
    {
     "name": "stdout",
     "output_type": "stream",
     "text": [
      "At index 15 is the word: movie\n"
     ]
    }
   ],
   "source": [
    "print(\"At index 15 is the word: {}\".format(model.wv.index2word[15]))"
   ]
  },
  {
   "cell_type": "markdown",
   "metadata": {},
   "source": [
    "#### Index of word\n",
    "\n",
    "By looking up a word in the vocabulary, we can get its index."
   ]
  },
  {
   "cell_type": "code",
   "execution_count": 22,
   "metadata": {},
   "outputs": [
    {
     "name": "stdout",
     "output_type": "stream",
     "text": [
      "Index of word 'movie' is: 15\n"
     ]
    }
   ],
   "source": [
    "print(\"Index of word 'movie' is: {}\".format(model.wv.vocab['movie'].index))"
   ]
  },
  {
   "cell_type": "markdown",
   "metadata": {},
   "source": [
    "#### Saving model into array of words and vectors\n",
    "\n",
    "In order to make it easier for us to manipulate with the words in vocab and their vectors, we will save them into 2 seperate arrays, one for words and one for vectors.\n",
    "\n",
    "First, create a zero array with same dimension with our embedding (50), but the number of rows will be increased by 2 because we need 1 row for padding character '-' at the beginning and another for 'unk' (use for unknown word) at the end. The reason of doing this is to limit the length of the sequence and anything less than our max length will be padded with '-' with 0 vector values, we choose '-' because in our vocab there is no character like that, causing no confusion with other words when training the RNN model. For 'unk', any words that is not found in the list will take index of 'unk' also have 0 vector value.\n",
    "\n",
    "Then looping through all vocabulary and add corresponding word into `word_list` and vector into `word_vector`."
   ]
  },
  {
   "cell_type": "code",
   "execution_count": 23,
   "metadata": {
    "collapsed": true
   },
   "outputs": [],
   "source": [
    "vec_dim = 50\n",
    "word_list = []\n",
    "word_vector = np.zeros((len(model.wv.vocab)+2, vec_dim)) # add '-' as padding and 'unk' as unknown\n",
    "word_list.append('-') # padding value\n",
    "for i in range (len(model.wv.vocab)):\n",
    "    word = model.wv.index2word[i]\n",
    "    vector = model.wv[word]\n",
    "    word_vector[i+1] = vector\n",
    "    word_list.append(word)\n",
    "word_list.append('unk')"
   ]
  },
  {
   "cell_type": "code",
   "execution_count": 24,
   "metadata": {},
   "outputs": [
    {
     "name": "stdout",
     "output_type": "stream",
     "text": [
      "Number of words in list: 24802\n",
      "Shape of word vector: (24802, 50)\n"
     ]
    }
   ],
   "source": [
    "print(\"Number of words in list: {}\".format(len(word_list)))\n",
    "print(\"Shape of word vector: {}\".format(word_vector.shape))"
   ]
  },
  {
   "cell_type": "code",
   "execution_count": 25,
   "metadata": {},
   "outputs": [
    {
     "name": "stdout",
     "output_type": "stream",
     "text": [
      "First word in our vocab: -\n",
      "\n",
      "Its vector values: \n",
      "[ 0.  0.  0.  0.  0.  0.  0.  0.  0.  0.  0.  0.  0.  0.  0.  0.  0.  0.\n",
      "  0.  0.  0.  0.  0.  0.  0.  0.  0.  0.  0.  0.  0.  0.  0.  0.  0.  0.\n",
      "  0.  0.  0.  0.  0.  0.  0.  0.  0.  0.  0.  0.  0.  0.]\n"
     ]
    }
   ],
   "source": [
    "print(\"First word in our vocab: {}\\n\".format(word_list[0]))\n",
    "print(\"Its vector values: \\n{}\".format(word_vector[0]))"
   ]
  },
  {
   "cell_type": "code",
   "execution_count": 26,
   "metadata": {},
   "outputs": [
    {
     "name": "stdout",
     "output_type": "stream",
     "text": [
      "Last word in our vocab: unk\n",
      "Its vector values: \n",
      "[ 0.  0.  0.  0.  0.  0.  0.  0.  0.  0.  0.  0.  0.  0.  0.  0.  0.  0.\n",
      "  0.  0.  0.  0.  0.  0.  0.  0.  0.  0.  0.  0.  0.  0.  0.  0.  0.  0.\n",
      "  0.  0.  0.  0.  0.  0.  0.  0.  0.  0.  0.  0.  0.  0.]\n"
     ]
    }
   ],
   "source": [
    "print(\"Last word in our vocab: {}\".format(word_list[-1]))\n",
    "print(\"Its vector values: \\n{}\".format(word_vector[-1]))"
   ]
  },
  {
   "cell_type": "markdown",
   "metadata": {},
   "source": [
    "Use the code below to save them for later use. (We already saved them into `data` folder.)"
   ]
  },
  {
   "cell_type": "markdown",
   "metadata": {
    "collapsed": true
   },
   "source": [
    "np.save('./data/word_list_gensim_w2v', word_list)\n",
    "np.save('./data/word_vector_gensim_w2v', word_vector)"
   ]
  },
  {
   "cell_type": "markdown",
   "metadata": {},
   "source": [
    "To load them, we use below code:"
   ]
  },
  {
   "cell_type": "code",
   "execution_count": 27,
   "metadata": {
    "collapsed": true
   },
   "outputs": [],
   "source": [
    "load_word_list = np.load('./data/word_list_gensim_w2v.npy')\n",
    "load_word_vector = np.load('./data/word_vector_gensim_w2v.npy')\n",
    "\n",
    "load_word_list = load_word_list.tolist()"
   ]
  },
  {
   "cell_type": "markdown",
   "metadata": {},
   "source": [
    "Now, let's try to check if our saved values are consistent with the original model."
   ]
  },
  {
   "cell_type": "markdown",
   "metadata": {},
   "source": [
    "Let's get the vector of the word 'movie' in our model and try to compare them with the same word in our saved list:"
   ]
  },
  {
   "cell_type": "code",
   "execution_count": 41,
   "metadata": {},
   "outputs": [
    {
     "name": "stdout",
     "output_type": "stream",
     "text": [
      "Index of word 'movie' in word_list: 16\n",
      "Vector of word 'movie':\n",
      "[-2.78263164  2.90011311 -4.97895622 -1.87051165  0.61191779  0.10896216\n",
      " -4.27431345  3.89203548  4.72996855  2.96508002  0.89933449  1.81341279\n",
      "  1.32129169  1.44068658 -3.42293787  0.49027845 -3.87458372 -4.89371157\n",
      " -2.96179509  0.64510381  4.7046051  -1.42691004 -0.36782303 -5.17180538\n",
      " -0.8367576  -5.06912422 -5.59841299 -2.08465052  1.37301195 -0.82797796\n",
      " -4.32099485  3.36242175  2.25995493  6.93139076 -1.24982738  4.21200705\n",
      "  0.46820539 -1.62913144  6.4912262  -4.05751276 -1.26376617 -3.03613043\n",
      " -3.47508025 -4.51454163  1.68685043 -4.90973186 -4.11981916 -0.05337746\n",
      "  0.70520127 -2.7952342 ]\n"
     ]
    }
   ],
   "source": [
    "print(\"Index of word 'movie' in word_list: {}\".format(load_word_list.index(\"movie\")))\n",
    "print(\"Vector of word 'movie':\\n{}\".format(load_word_vector[16]))"
   ]
  },
  {
   "cell_type": "markdown",
   "metadata": {},
   "source": [
    "If vector of word `movie` in the model is the same with vector in our `word_vector` list, the expected result of the subtraction will be 0 since they are the same which also means that our list is correct."
   ]
  },
  {
   "cell_type": "code",
   "execution_count": 29,
   "metadata": {},
   "outputs": [
    {
     "name": "stdout",
     "output_type": "stream",
     "text": [
      "Result: \n",
      "[ 0.  0.  0.  0.  0.  0.  0.  0.  0.  0.  0.  0.  0.  0.  0.  0.  0.  0.\n",
      "  0.  0.  0.  0.  0.  0.  0.  0.  0.  0.  0.  0.  0.  0.  0.  0.  0.  0.\n",
      "  0.  0.  0.  0.  0.  0.  0.  0.  0.  0.  0.  0.  0.  0.]\n"
     ]
    }
   ],
   "source": [
    "print(\"Result: \\n{}\".format(model.wv.word_vec('movie') - load_word_vector[16]))"
   ]
  },
  {
   "cell_type": "markdown",
   "metadata": {
    "collapsed": true
   },
   "source": [
    "## `fastText` embedding\n",
    "\n",
    "Next, let's try to learn embedding using `fastText` algorithm with Gensim. We will use the same data prepared above and train the embedding."
   ]
  },
  {
   "cell_type": "markdown",
   "metadata": {},
   "source": [
    "### Training word embeddings"
   ]
  },
  {
   "cell_type": "code",
   "execution_count": 23,
   "metadata": {
    "scrolled": true
   },
   "outputs": [
    {
     "name": "stderr",
     "output_type": "stream",
     "text": [
      "2018-05-19 21:31:43,342 : WARNING : consider setting layer size to a multiple of 4 for greater performance\n",
      "2018-05-19 21:31:43,353 : INFO : collecting all words and their counts\n",
      "2018-05-19 21:31:43,355 : INFO : PROGRESS: at sentence #0, processed 0 words, keeping 0 word types\n",
      "2018-05-19 21:31:43,480 : INFO : PROGRESS: at sentence #10000, processed 185521 words, keeping 17175 word types\n",
      "2018-05-19 21:31:43,570 : INFO : PROGRESS: at sentence #20000, processed 367101 words, keeping 24423 word types\n",
      "2018-05-19 21:31:43,658 : INFO : PROGRESS: at sentence #30000, processed 551281 words, keeping 29689 word types\n",
      "2018-05-19 21:31:43,722 : INFO : PROGRESS: at sentence #40000, processed 733293 words, keeping 34309 word types\n",
      "2018-05-19 21:31:43,791 : INFO : PROGRESS: at sentence #50000, processed 917534 words, keeping 38241 word types\n",
      "2018-05-19 21:31:43,856 : INFO : PROGRESS: at sentence #60000, processed 1097938 words, keeping 41448 word types\n",
      "2018-05-19 21:31:43,929 : INFO : PROGRESS: at sentence #70000, processed 1281359 words, keeping 44467 word types\n",
      "2018-05-19 21:31:43,992 : INFO : PROGRESS: at sentence #80000, processed 1460910 words, keeping 47038 word types\n",
      "2018-05-19 21:31:44,058 : INFO : PROGRESS: at sentence #90000, processed 1644558 words, keeping 49608 word types\n",
      "2018-05-19 21:31:44,116 : INFO : PROGRESS: at sentence #100000, processed 1826582 words, keeping 52036 word types\n",
      "2018-05-19 21:31:44,167 : INFO : PROGRESS: at sentence #110000, processed 2007409 words, keeping 54453 word types\n",
      "2018-05-19 21:31:44,233 : INFO : PROGRESS: at sentence #120000, processed 2190231 words, keeping 56598 word types\n",
      "2018-05-19 21:31:44,294 : INFO : PROGRESS: at sentence #130000, processed 2367529 words, keeping 58516 word types\n",
      "2018-05-19 21:31:44,353 : INFO : PROGRESS: at sentence #140000, processed 2550831 words, keeping 60666 word types\n",
      "2018-05-19 21:31:44,411 : INFO : PROGRESS: at sentence #150000, processed 2731528 words, keeping 62672 word types\n",
      "2018-05-19 21:31:44,476 : INFO : PROGRESS: at sentence #160000, processed 2913850 words, keeping 64389 word types\n",
      "2018-05-19 21:31:44,541 : INFO : PROGRESS: at sentence #170000, processed 3096426 words, keeping 66034 word types\n",
      "2018-05-19 21:31:44,601 : INFO : PROGRESS: at sentence #180000, processed 3279121 words, keeping 67774 word types\n",
      "2018-05-19 21:31:44,656 : INFO : PROGRESS: at sentence #190000, processed 3459618 words, keeping 69482 word types\n",
      "2018-05-19 21:31:44,722 : INFO : PROGRESS: at sentence #200000, processed 3639713 words, keeping 71125 word types\n",
      "2018-05-19 21:31:44,779 : INFO : PROGRESS: at sentence #210000, processed 3818622 words, keeping 72616 word types\n",
      "2018-05-19 21:31:44,836 : INFO : PROGRESS: at sentence #220000, processed 3999038 words, keeping 74120 word types\n",
      "2018-05-19 21:31:44,898 : INFO : PROGRESS: at sentence #230000, processed 4183911 words, keeping 75596 word types\n",
      "2018-05-19 21:31:44,968 : INFO : PROGRESS: at sentence #240000, processed 4366067 words, keeping 77072 word types\n",
      "2018-05-19 21:31:45,032 : INFO : PROGRESS: at sentence #250000, processed 4544568 words, keeping 78528 word types\n",
      "2018-05-19 21:31:45,091 : INFO : PROGRESS: at sentence #260000, processed 4725793 words, keeping 79966 word types\n",
      "2018-05-19 21:31:45,147 : INFO : PROGRESS: at sentence #270000, processed 4907996 words, keeping 81373 word types\n",
      "2018-05-19 21:31:45,210 : INFO : PROGRESS: at sentence #280000, processed 5090806 words, keeping 82702 word types\n",
      "2018-05-19 21:31:45,270 : INFO : PROGRESS: at sentence #290000, processed 5272895 words, keeping 84007 word types\n",
      "2018-05-19 21:31:45,331 : INFO : PROGRESS: at sentence #300000, processed 5447266 words, keeping 85349 word types\n",
      "2018-05-19 21:31:45,392 : INFO : PROGRESS: at sentence #310000, processed 5628653 words, keeping 86621 word types\n",
      "2018-05-19 21:31:45,459 : INFO : PROGRESS: at sentence #320000, processed 5806854 words, keeping 87885 word types\n",
      "2018-05-19 21:31:45,512 : INFO : PROGRESS: at sentence #330000, processed 5989628 words, keeping 89475 word types\n",
      "2018-05-19 21:31:45,572 : INFO : PROGRESS: at sentence #340000, processed 6175538 words, keeping 91192 word types\n",
      "2018-05-19 21:31:45,658 : INFO : PROGRESS: at sentence #350000, processed 6360445 words, keeping 92874 word types\n",
      "2018-05-19 21:31:45,720 : INFO : PROGRESS: at sentence #360000, processed 6541617 words, keeping 94404 word types\n",
      "2018-05-19 21:31:45,779 : INFO : PROGRESS: at sentence #370000, processed 6724386 words, keeping 95864 word types\n",
      "2018-05-19 21:31:45,830 : INFO : PROGRESS: at sentence #380000, processed 6904942 words, keeping 97434 word types\n",
      "2018-05-19 21:31:45,899 : INFO : PROGRESS: at sentence #390000, processed 7087018 words, keeping 98789 word types\n",
      "2018-05-19 21:31:45,964 : INFO : PROGRESS: at sentence #400000, processed 7268566 words, keeping 100173 word types\n",
      "2018-05-19 21:31:46,020 : INFO : PROGRESS: at sentence #410000, processed 7453004 words, keeping 101640 word types\n",
      "2018-05-19 21:31:46,092 : INFO : PROGRESS: at sentence #420000, processed 7634893 words, keeping 102983 word types\n",
      "2018-05-19 21:31:46,150 : INFO : PROGRESS: at sentence #430000, processed 7813275 words, keeping 104242 word types\n",
      "2018-05-19 21:31:46,218 : INFO : PROGRESS: at sentence #440000, processed 7997375 words, keeping 105515 word types\n",
      "2018-05-19 21:31:46,290 : INFO : PROGRESS: at sentence #450000, processed 8182902 words, keeping 106905 word types\n",
      "2018-05-19 21:31:46,354 : INFO : PROGRESS: at sentence #460000, processed 8362135 words, keeping 108176 word types\n",
      "2018-05-19 21:31:46,412 : INFO : PROGRESS: at sentence #470000, processed 8548261 words, keeping 109424 word types\n",
      "2018-05-19 21:31:46,476 : INFO : PROGRESS: at sentence #480000, processed 8732553 words, keeping 110649 word types\n",
      "2018-05-19 21:31:46,538 : INFO : PROGRESS: at sentence #490000, processed 8913727 words, keeping 111781 word types\n",
      "2018-05-19 21:31:46,602 : INFO : PROGRESS: at sentence #500000, processed 9093678 words, keeping 112945 word types\n",
      "2018-05-19 21:31:46,661 : INFO : PROGRESS: at sentence #510000, processed 9275388 words, keeping 114137 word types\n",
      "2018-05-19 21:31:46,720 : INFO : PROGRESS: at sentence #520000, processed 9459363 words, keeping 115295 word types\n",
      "2018-05-19 21:31:46,778 : INFO : PROGRESS: at sentence #530000, processed 9640712 words, keeping 116368 word types\n",
      "2018-05-19 21:31:46,846 : INFO : PROGRESS: at sentence #540000, processed 9824624 words, keeping 117620 word types\n",
      "2018-05-19 21:31:46,913 : INFO : PROGRESS: at sentence #550000, processed 10007708 words, keeping 118796 word types\n",
      "2018-05-19 21:31:46,973 : INFO : PROGRESS: at sentence #560000, processed 10192698 words, keeping 120041 word types\n",
      "2018-05-19 21:31:47,041 : INFO : PROGRESS: at sentence #570000, processed 10378220 words, keeping 121100 word types\n",
      "2018-05-19 21:31:47,102 : INFO : PROGRESS: at sentence #580000, processed 10558932 words, keeping 122144 word types\n",
      "2018-05-19 21:31:47,166 : INFO : PROGRESS: at sentence #590000, processed 10740393 words, keeping 123302 word types\n",
      "2018-05-19 21:31:47,227 : INFO : PROGRESS: at sentence #600000, processed 10920250 words, keeping 124439 word types\n",
      "2018-05-19 21:31:47,286 : INFO : PROGRESS: at sentence #610000, processed 11101433 words, keeping 125610 word types\n",
      "2018-05-19 21:31:47,358 : INFO : PROGRESS: at sentence #620000, processed 11283479 words, keeping 126608 word types\n",
      "2018-05-19 21:31:47,442 : INFO : PROGRESS: at sentence #630000, processed 11462684 words, keeping 127680 word types\n",
      "2018-05-19 21:31:47,528 : INFO : PROGRESS: at sentence #640000, processed 11646591 words, keeping 128706 word types\n",
      "2018-05-19 21:31:47,616 : INFO : PROGRESS: at sentence #650000, processed 11826796 words, keeping 129800 word types\n",
      "2018-05-19 21:31:47,731 : INFO : PROGRESS: at sentence #660000, processed 12005740 words, keeping 130780 word types\n",
      "2018-05-19 21:31:47,867 : INFO : PROGRESS: at sentence #670000, processed 12190664 words, keeping 131820 word types\n",
      "2018-05-19 21:31:47,960 : INFO : PROGRESS: at sentence #680000, processed 12371704 words, keeping 132796 word types\n",
      "2018-05-19 21:31:48,059 : INFO : PROGRESS: at sentence #690000, processed 12555525 words, keeping 133882 word types\n",
      "2018-05-19 21:31:48,163 : INFO : PROGRESS: at sentence #700000, processed 12738032 words, keeping 134918 word types\n"
     ]
    },
    {
     "name": "stderr",
     "output_type": "stream",
     "text": [
      "2018-05-19 21:31:48,240 : INFO : PROGRESS: at sentence #710000, processed 12919593 words, keeping 135944 word types\n",
      "2018-05-19 21:31:48,323 : INFO : PROGRESS: at sentence #720000, processed 13103676 words, keeping 136863 word types\n",
      "2018-05-19 21:31:48,414 : INFO : PROGRESS: at sentence #730000, processed 13283040 words, keeping 137837 word types\n",
      "2018-05-19 21:31:48,507 : INFO : PROGRESS: at sentence #740000, processed 13468256 words, keeping 138924 word types\n",
      "2018-05-19 21:31:48,596 : INFO : PROGRESS: at sentence #750000, processed 13650003 words, keeping 139879 word types\n",
      "2018-05-19 21:31:48,688 : INFO : PROGRESS: at sentence #760000, processed 13830700 words, keeping 140743 word types\n",
      "2018-05-19 21:31:48,784 : INFO : PROGRESS: at sentence #770000, processed 14012331 words, keeping 141698 word types\n",
      "2018-05-19 21:31:48,881 : INFO : PROGRESS: at sentence #780000, processed 14195449 words, keeping 142712 word types\n",
      "2018-05-19 21:31:48,966 : INFO : PROGRESS: at sentence #790000, processed 14377292 words, keeping 143597 word types\n",
      "2018-05-19 21:31:49,059 : INFO : PROGRESS: at sentence #800000, processed 14560190 words, keeping 144603 word types\n",
      "2018-05-19 21:31:49,144 : INFO : PROGRESS: at sentence #810000, processed 14742207 words, keeping 145472 word types\n",
      "2018-05-19 21:31:49,231 : INFO : PROGRESS: at sentence #820000, processed 14924339 words, keeping 146391 word types\n",
      "2018-05-19 21:31:49,325 : INFO : PROGRESS: at sentence #830000, processed 15105644 words, keeping 147244 word types\n",
      "2018-05-19 21:31:49,404 : INFO : PROGRESS: at sentence #840000, processed 15288834 words, keeping 148197 word types\n",
      "2018-05-19 21:31:49,475 : INFO : PROGRESS: at sentence #850000, processed 15473736 words, keeping 149124 word types\n",
      "2018-05-19 21:31:49,549 : INFO : PROGRESS: at sentence #860000, processed 15653321 words, keeping 150082 word types\n",
      "2018-05-19 21:31:49,622 : INFO : PROGRESS: at sentence #870000, processed 15836176 words, keeping 150825 word types\n",
      "2018-05-19 21:31:49,733 : INFO : PROGRESS: at sentence #880000, processed 16018615 words, keeping 151770 word types\n",
      "2018-05-19 21:31:49,827 : INFO : PROGRESS: at sentence #890000, processed 16199816 words, keeping 152639 word types\n",
      "2018-05-19 21:31:49,920 : INFO : PROGRESS: at sentence #900000, processed 16380672 words, keeping 153519 word types\n",
      "2018-05-19 21:31:49,996 : INFO : PROGRESS: at sentence #910000, processed 16563464 words, keeping 154383 word types\n",
      "2018-05-19 21:31:50,054 : INFO : PROGRESS: at sentence #920000, processed 16739039 words, keeping 155211 word types\n",
      "2018-05-19 21:31:50,121 : INFO : PROGRESS: at sentence #930000, processed 16923180 words, keeping 156148 word types\n",
      "2018-05-19 21:31:50,180 : INFO : PROGRESS: at sentence #940000, processed 17111407 words, keeping 157042 word types\n",
      "2018-05-19 21:31:50,251 : INFO : PROGRESS: at sentence #950000, processed 17295627 words, keeping 157868 word types\n",
      "2018-05-19 21:31:50,322 : INFO : PROGRESS: at sentence #960000, processed 17477970 words, keeping 158789 word types\n",
      "2018-05-19 21:31:50,338 : INFO : collected 158916 word types from a corpus of 17503976 raw words and 961472 sentences\n",
      "2018-05-19 21:31:50,341 : INFO : Loading a fresh vocabulary\n",
      "2018-05-19 21:31:50,520 : INFO : min_count=20 retains 24800 unique words (15% of original 158916, drops 134116)\n",
      "2018-05-19 21:31:50,521 : INFO : min_count=20 leaves 17100338 word corpus (97% of original 17503976, drops 403638)\n",
      "2018-05-19 21:31:50,621 : INFO : deleting the raw counts dictionary of 158916 items\n",
      "2018-05-19 21:31:50,637 : INFO : sample=0.001 downsamples 47 most-common words\n",
      "2018-05-19 21:31:50,639 : INFO : downsampling leaves estimated 12868120 word corpus (75.3% of prior 17100338)\n",
      "2018-05-19 21:31:52,960 : INFO : estimated required memory for 24800 words, 128869 buckets and 50 dimensions: 53660264 bytes\n",
      "2018-05-19 21:31:52,969 : INFO : resetting layer weights\n",
      "2018-05-19 21:31:54,525 : INFO : Total number of ngrams is 128869\n",
      "2018-05-19 21:31:56,191 : INFO : training model with 5 workers on 24800 vocabulary and 50 features, using sg=0 hs=0 sample=0.001 negative=5 window=10\n",
      "2018-05-19 21:31:57,363 : INFO : EPOCH 1 - PROGRESS: at 1.18% examples, 140579 words/s, in_qsize 8, out_qsize 1\n",
      "2018-05-19 21:31:58,388 : INFO : EPOCH 1 - PROGRESS: at 2.42% examples, 148897 words/s, in_qsize 9, out_qsize 0\n",
      "2018-05-19 21:31:59,484 : INFO : EPOCH 1 - PROGRESS: at 3.68% examples, 148393 words/s, in_qsize 10, out_qsize 0\n",
      "2018-05-19 21:32:00,499 : INFO : EPOCH 1 - PROGRESS: at 4.87% examples, 149245 words/s, in_qsize 9, out_qsize 0\n",
      "2018-05-19 21:32:01,656 : INFO : EPOCH 1 - PROGRESS: at 6.13% examples, 147151 words/s, in_qsize 9, out_qsize 0\n",
      "2018-05-19 21:32:02,659 : INFO : EPOCH 1 - PROGRESS: at 7.44% examples, 150411 words/s, in_qsize 9, out_qsize 0\n",
      "2018-05-19 21:32:03,762 : INFO : EPOCH 1 - PROGRESS: at 8.48% examples, 145899 words/s, in_qsize 9, out_qsize 0\n",
      "2018-05-19 21:32:04,780 : INFO : EPOCH 1 - PROGRESS: at 9.49% examples, 143977 words/s, in_qsize 9, out_qsize 0\n",
      "2018-05-19 21:32:05,913 : INFO : EPOCH 1 - PROGRESS: at 10.69% examples, 143079 words/s, in_qsize 9, out_qsize 0\n",
      "2018-05-19 21:32:06,953 : INFO : EPOCH 1 - PROGRESS: at 11.90% examples, 143593 words/s, in_qsize 9, out_qsize 0\n",
      "2018-05-19 21:32:08,030 : INFO : EPOCH 1 - PROGRESS: at 13.17% examples, 144196 words/s, in_qsize 8, out_qsize 1\n",
      "2018-05-19 21:32:09,036 : INFO : EPOCH 1 - PROGRESS: at 14.26% examples, 143787 words/s, in_qsize 7, out_qsize 2\n",
      "2018-05-19 21:32:10,102 : INFO : EPOCH 1 - PROGRESS: at 15.57% examples, 144901 words/s, in_qsize 8, out_qsize 1\n",
      "2018-05-19 21:32:11,181 : INFO : EPOCH 1 - PROGRESS: at 16.88% examples, 145762 words/s, in_qsize 8, out_qsize 1\n",
      "2018-05-19 21:32:12,220 : INFO : EPOCH 1 - PROGRESS: at 18.02% examples, 145453 words/s, in_qsize 9, out_qsize 0\n",
      "2018-05-19 21:32:13,246 : INFO : EPOCH 1 - PROGRESS: at 19.23% examples, 145744 words/s, in_qsize 8, out_qsize 1\n",
      "2018-05-19 21:32:14,254 : INFO : EPOCH 1 - PROGRESS: at 20.49% examples, 146544 words/s, in_qsize 8, out_qsize 1\n",
      "2018-05-19 21:32:15,255 : INFO : EPOCH 1 - PROGRESS: at 21.76% examples, 147352 words/s, in_qsize 9, out_qsize 0\n",
      "2018-05-19 21:32:16,263 : INFO : EPOCH 1 - PROGRESS: at 22.92% examples, 147267 words/s, in_qsize 9, out_qsize 0\n",
      "2018-05-19 21:32:17,351 : INFO : EPOCH 1 - PROGRESS: at 24.10% examples, 146987 words/s, in_qsize 8, out_qsize 1\n",
      "2018-05-19 21:32:18,398 : INFO : EPOCH 1 - PROGRESS: at 25.36% examples, 147308 words/s, in_qsize 8, out_qsize 1\n",
      "2018-05-19 21:32:19,519 : INFO : EPOCH 1 - PROGRESS: at 26.44% examples, 146218 words/s, in_qsize 8, out_qsize 1\n",
      "2018-05-19 21:32:20,538 : INFO : EPOCH 1 - PROGRESS: at 27.54% examples, 145816 words/s, in_qsize 9, out_qsize 0\n",
      "2018-05-19 21:32:21,633 : INFO : EPOCH 1 - PROGRESS: at 28.56% examples, 144737 words/s, in_qsize 7, out_qsize 2\n",
      "2018-05-19 21:32:22,635 : INFO : EPOCH 1 - PROGRESS: at 29.77% examples, 145083 words/s, in_qsize 10, out_qsize 0\n",
      "2018-05-19 21:32:23,638 : INFO : EPOCH 1 - PROGRESS: at 31.06% examples, 145672 words/s, in_qsize 9, out_qsize 0\n",
      "2018-05-19 21:32:24,681 : INFO : EPOCH 1 - PROGRESS: at 32.27% examples, 145752 words/s, in_qsize 7, out_qsize 2\n",
      "2018-05-19 21:32:25,716 : INFO : EPOCH 1 - PROGRESS: at 33.37% examples, 145356 words/s, in_qsize 10, out_qsize 1\n",
      "2018-05-19 21:32:26,818 : INFO : EPOCH 1 - PROGRESS: at 34.73% examples, 145876 words/s, in_qsize 9, out_qsize 0\n",
      "2018-05-19 21:32:27,873 : INFO : EPOCH 1 - PROGRESS: at 35.96% examples, 146123 words/s, in_qsize 7, out_qsize 2\n",
      "2018-05-19 21:32:28,929 : INFO : EPOCH 1 - PROGRESS: at 37.22% examples, 146341 words/s, in_qsize 8, out_qsize 1\n",
      "2018-05-19 21:32:30,029 : INFO : EPOCH 1 - PROGRESS: at 38.40% examples, 146146 words/s, in_qsize 9, out_qsize 0\n",
      "2018-05-19 21:32:31,094 : INFO : EPOCH 1 - PROGRESS: at 39.72% examples, 146530 words/s, in_qsize 9, out_qsize 0\n",
      "2018-05-19 21:32:32,131 : INFO : EPOCH 1 - PROGRESS: at 40.93% examples, 146580 words/s, in_qsize 8, out_qsize 1\n",
      "2018-05-19 21:32:33,227 : INFO : EPOCH 1 - PROGRESS: at 42.18% examples, 146597 words/s, in_qsize 8, out_qsize 1\n",
      "2018-05-19 21:32:34,263 : INFO : EPOCH 1 - PROGRESS: at 43.36% examples, 146667 words/s, in_qsize 8, out_qsize 1\n",
      "2018-05-19 21:32:35,286 : INFO : EPOCH 1 - PROGRESS: at 44.53% examples, 146581 words/s, in_qsize 7, out_qsize 2\n"
     ]
    },
    {
     "name": "stderr",
     "output_type": "stream",
     "text": [
      "2018-05-19 21:32:36,320 : INFO : EPOCH 1 - PROGRESS: at 45.72% examples, 146637 words/s, in_qsize 10, out_qsize 0\n",
      "2018-05-19 21:32:37,385 : INFO : EPOCH 1 - PROGRESS: at 46.91% examples, 146584 words/s, in_qsize 8, out_qsize 1\n",
      "2018-05-19 21:32:38,388 : INFO : EPOCH 1 - PROGRESS: at 48.15% examples, 146926 words/s, in_qsize 10, out_qsize 0\n",
      "2018-05-19 21:32:39,445 : INFO : EPOCH 1 - PROGRESS: at 49.17% examples, 146397 words/s, in_qsize 8, out_qsize 1\n",
      "2018-05-19 21:32:40,513 : INFO : EPOCH 1 - PROGRESS: at 50.19% examples, 145851 words/s, in_qsize 10, out_qsize 2\n",
      "2018-05-19 21:32:41,651 : INFO : EPOCH 1 - PROGRESS: at 51.51% examples, 145914 words/s, in_qsize 8, out_qsize 1\n",
      "2018-05-19 21:32:42,685 : INFO : EPOCH 1 - PROGRESS: at 52.55% examples, 145516 words/s, in_qsize 8, out_qsize 1\n",
      "2018-05-19 21:32:43,814 : INFO : EPOCH 1 - PROGRESS: at 53.85% examples, 145606 words/s, in_qsize 9, out_qsize 0\n",
      "2018-05-19 21:32:44,816 : INFO : EPOCH 1 - PROGRESS: at 55.05% examples, 145773 words/s, in_qsize 10, out_qsize 0\n",
      "2018-05-19 21:32:45,888 : INFO : EPOCH 1 - PROGRESS: at 56.30% examples, 145879 words/s, in_qsize 9, out_qsize 0\n",
      "2018-05-19 21:32:46,896 : INFO : EPOCH 1 - PROGRESS: at 57.48% examples, 146013 words/s, in_qsize 9, out_qsize 0\n",
      "2018-05-19 21:32:47,933 : INFO : EPOCH 1 - PROGRESS: at 58.61% examples, 145924 words/s, in_qsize 8, out_qsize 1\n",
      "2018-05-19 21:32:48,937 : INFO : EPOCH 1 - PROGRESS: at 59.79% examples, 146066 words/s, in_qsize 8, out_qsize 1\n",
      "2018-05-19 21:32:50,035 : INFO : EPOCH 1 - PROGRESS: at 60.93% examples, 145817 words/s, in_qsize 10, out_qsize 1\n",
      "2018-05-19 21:32:51,184 : INFO : EPOCH 1 - PROGRESS: at 61.97% examples, 145177 words/s, in_qsize 9, out_qsize 0\n",
      "2018-05-19 21:32:52,316 : INFO : EPOCH 1 - PROGRESS: at 63.18% examples, 144995 words/s, in_qsize 8, out_qsize 1\n",
      "2018-05-19 21:32:53,332 : INFO : EPOCH 1 - PROGRESS: at 64.04% examples, 144344 words/s, in_qsize 10, out_qsize 0\n",
      "2018-05-19 21:32:54,347 : INFO : EPOCH 1 - PROGRESS: at 65.30% examples, 144603 words/s, in_qsize 9, out_qsize 0\n",
      "2018-05-19 21:32:55,396 : INFO : EPOCH 1 - PROGRESS: at 66.38% examples, 144399 words/s, in_qsize 9, out_qsize 0\n",
      "2018-05-19 21:32:56,397 : INFO : EPOCH 1 - PROGRESS: at 67.65% examples, 144681 words/s, in_qsize 9, out_qsize 0\n",
      "2018-05-19 21:32:57,426 : INFO : EPOCH 1 - PROGRESS: at 68.86% examples, 144770 words/s, in_qsize 9, out_qsize 0\n",
      "2018-05-19 21:32:58,537 : INFO : EPOCH 1 - PROGRESS: at 70.16% examples, 144898 words/s, in_qsize 9, out_qsize 0\n",
      "2018-05-19 21:32:59,568 : INFO : EPOCH 1 - PROGRESS: at 71.35% examples, 144973 words/s, in_qsize 8, out_qsize 1\n",
      "2018-05-19 21:33:00,633 : INFO : EPOCH 1 - PROGRESS: at 72.49% examples, 144855 words/s, in_qsize 9, out_qsize 0\n",
      "2018-05-19 21:33:01,651 : INFO : EPOCH 1 - PROGRESS: at 73.58% examples, 144738 words/s, in_qsize 10, out_qsize 1\n",
      "2018-05-19 21:33:02,686 : INFO : EPOCH 1 - PROGRESS: at 74.77% examples, 144804 words/s, in_qsize 9, out_qsize 0\n",
      "2018-05-19 21:33:03,716 : INFO : EPOCH 1 - PROGRESS: at 76.03% examples, 144987 words/s, in_qsize 9, out_qsize 0\n",
      "2018-05-19 21:33:04,754 : INFO : EPOCH 1 - PROGRESS: at 77.22% examples, 145039 words/s, in_qsize 8, out_qsize 1\n",
      "2018-05-19 21:33:05,780 : INFO : EPOCH 1 - PROGRESS: at 78.41% examples, 145121 words/s, in_qsize 9, out_qsize 0\n",
      "2018-05-19 21:33:06,871 : INFO : EPOCH 1 - PROGRESS: at 79.63% examples, 145061 words/s, in_qsize 9, out_qsize 0\n",
      "2018-05-19 21:33:07,880 : INFO : EPOCH 1 - PROGRESS: at 80.88% examples, 145272 words/s, in_qsize 9, out_qsize 0\n",
      "2018-05-19 21:33:08,953 : INFO : EPOCH 1 - PROGRESS: at 81.89% examples, 144950 words/s, in_qsize 9, out_qsize 0\n",
      "2018-05-19 21:33:10,057 : INFO : EPOCH 1 - PROGRESS: at 83.04% examples, 144769 words/s, in_qsize 8, out_qsize 1\n",
      "2018-05-19 21:33:11,090 : INFO : EPOCH 1 - PROGRESS: at 84.12% examples, 144637 words/s, in_qsize 8, out_qsize 1\n",
      "2018-05-19 21:33:12,135 : INFO : EPOCH 1 - PROGRESS: at 85.21% examples, 144485 words/s, in_qsize 9, out_qsize 0\n",
      "2018-05-19 21:33:13,237 : INFO : EPOCH 1 - PROGRESS: at 86.41% examples, 144419 words/s, in_qsize 9, out_qsize 0\n",
      "2018-05-19 21:33:14,244 : INFO : EPOCH 1 - PROGRESS: at 87.59% examples, 144529 words/s, in_qsize 9, out_qsize 0\n",
      "2018-05-19 21:33:15,307 : INFO : EPOCH 1 - PROGRESS: at 88.85% examples, 144629 words/s, in_qsize 9, out_qsize 0\n",
      "2018-05-19 21:33:16,342 : INFO : EPOCH 1 - PROGRESS: at 90.04% examples, 144688 words/s, in_qsize 9, out_qsize 0\n",
      "2018-05-19 21:33:17,356 : INFO : EPOCH 1 - PROGRESS: at 91.25% examples, 144780 words/s, in_qsize 9, out_qsize 0\n",
      "2018-05-19 21:33:18,419 : INFO : EPOCH 1 - PROGRESS: at 92.45% examples, 144785 words/s, in_qsize 8, out_qsize 1\n",
      "2018-05-19 21:33:19,481 : INFO : EPOCH 1 - PROGRESS: at 93.65% examples, 144788 words/s, in_qsize 7, out_qsize 2\n",
      "2018-05-19 21:33:20,506 : INFO : EPOCH 1 - PROGRESS: at 94.91% examples, 144944 words/s, in_qsize 9, out_qsize 0\n",
      "2018-05-19 21:33:21,573 : INFO : EPOCH 1 - PROGRESS: at 96.07% examples, 144851 words/s, in_qsize 8, out_qsize 1\n",
      "2018-05-19 21:33:22,638 : INFO : EPOCH 1 - PROGRESS: at 97.25% examples, 144847 words/s, in_qsize 9, out_qsize 0\n",
      "2018-05-19 21:33:23,689 : INFO : EPOCH 1 - PROGRESS: at 98.43% examples, 144871 words/s, in_qsize 9, out_qsize 0\n",
      "2018-05-19 21:33:24,782 : INFO : EPOCH 1 - PROGRESS: at 99.72% examples, 144986 words/s, in_qsize 4, out_qsize 2\n",
      "2018-05-19 21:33:24,785 : INFO : worker thread finished; awaiting finish of 4 more threads\n",
      "2018-05-19 21:33:24,892 : INFO : worker thread finished; awaiting finish of 3 more threads\n",
      "2018-05-19 21:33:24,894 : INFO : worker thread finished; awaiting finish of 2 more threads\n",
      "2018-05-19 21:33:24,938 : INFO : worker thread finished; awaiting finish of 1 more threads\n",
      "2018-05-19 21:33:24,975 : INFO : worker thread finished; awaiting finish of 0 more threads\n",
      "2018-05-19 21:33:24,978 : INFO : EPOCH - 1 : training on 17503976 raw words (12867710 effective words) took 88.7s, 145056 effective words/s\n",
      "2018-05-19 21:33:25,991 : INFO : EPOCH 2 - PROGRESS: at 1.06% examples, 139183 words/s, in_qsize 8, out_qsize 1\n",
      "2018-05-19 21:33:27,080 : INFO : EPOCH 2 - PROGRESS: at 2.31% examples, 143879 words/s, in_qsize 10, out_qsize 1\n",
      "2018-05-19 21:33:28,154 : INFO : EPOCH 2 - PROGRESS: at 3.62% examples, 148553 words/s, in_qsize 10, out_qsize 0\n",
      "2018-05-19 21:33:29,205 : INFO : EPOCH 2 - PROGRESS: at 4.76% examples, 146332 words/s, in_qsize 8, out_qsize 1\n",
      "2018-05-19 21:33:30,256 : INFO : EPOCH 2 - PROGRESS: at 5.80% examples, 142177 words/s, in_qsize 7, out_qsize 2\n",
      "2018-05-19 21:33:31,268 : INFO : EPOCH 2 - PROGRESS: at 6.86% examples, 141459 words/s, in_qsize 9, out_qsize 0\n",
      "2018-05-19 21:33:32,383 : INFO : EPOCH 2 - PROGRESS: at 7.96% examples, 138961 words/s, in_qsize 8, out_qsize 1\n",
      "2018-05-19 21:33:33,389 : INFO : EPOCH 2 - PROGRESS: at 9.21% examples, 141581 words/s, in_qsize 9, out_qsize 0\n",
      "2018-05-19 21:33:34,419 : INFO : EPOCH 2 - PROGRESS: at 10.35% examples, 141692 words/s, in_qsize 9, out_qsize 0\n",
      "2018-05-19 21:33:35,499 : INFO : EPOCH 2 - PROGRESS: at 11.62% examples, 142504 words/s, in_qsize 9, out_qsize 0\n",
      "2018-05-19 21:33:36,588 : INFO : EPOCH 2 - PROGRESS: at 12.82% examples, 142431 words/s, in_qsize 9, out_qsize 0\n",
      "2018-05-19 21:33:37,655 : INFO : EPOCH 2 - PROGRESS: at 14.02% examples, 142622 words/s, in_qsize 8, out_qsize 1\n",
      "2018-05-19 21:33:38,670 : INFO : EPOCH 2 - PROGRESS: at 15.22% examples, 143298 words/s, in_qsize 9, out_qsize 0\n",
      "2018-05-19 21:33:39,735 : INFO : EPOCH 2 - PROGRESS: at 16.31% examples, 142430 words/s, in_qsize 8, out_qsize 1\n",
      "2018-05-19 21:33:40,849 : INFO : EPOCH 2 - PROGRESS: at 17.52% examples, 142143 words/s, in_qsize 9, out_qsize 0\n",
      "2018-05-19 21:33:41,955 : INFO : EPOCH 2 - PROGRESS: at 18.58% examples, 141105 words/s, in_qsize 9, out_qsize 0\n",
      "2018-05-19 21:33:43,064 : INFO : EPOCH 2 - PROGRESS: at 19.73% examples, 140549 words/s, in_qsize 8, out_qsize 1\n",
      "2018-05-19 21:33:44,145 : INFO : EPOCH 2 - PROGRESS: at 21.00% examples, 141069 words/s, in_qsize 8, out_qsize 1\n",
      "2018-05-19 21:33:45,223 : INFO : EPOCH 2 - PROGRESS: at 22.22% examples, 141186 words/s, in_qsize 9, out_qsize 0\n",
      "2018-05-19 21:33:46,230 : INFO : EPOCH 2 - PROGRESS: at 22.80% examples, 137960 words/s, in_qsize 10, out_qsize 1\n",
      "2018-05-19 21:33:47,311 : INFO : EPOCH 2 - PROGRESS: at 23.70% examples, 136537 words/s, in_qsize 9, out_qsize 0\n"
     ]
    },
    {
     "name": "stderr",
     "output_type": "stream",
     "text": [
      "2018-05-19 21:33:48,423 : INFO : EPOCH 2 - PROGRESS: at 24.45% examples, 134128 words/s, in_qsize 8, out_qsize 1\n",
      "2018-05-19 21:33:49,437 : INFO : EPOCH 2 - PROGRESS: at 25.71% examples, 135175 words/s, in_qsize 9, out_qsize 0\n",
      "2018-05-19 21:33:50,501 : INFO : EPOCH 2 - PROGRESS: at 26.98% examples, 135871 words/s, in_qsize 9, out_qsize 0\n",
      "2018-05-19 21:33:51,533 : INFO : EPOCH 2 - PROGRESS: at 28.17% examples, 136392 words/s, in_qsize 9, out_qsize 0\n",
      "2018-05-19 21:33:52,624 : INFO : EPOCH 2 - PROGRESS: at 29.42% examples, 136857 words/s, in_qsize 8, out_qsize 1\n",
      "2018-05-19 21:33:53,633 : INFO : EPOCH 2 - PROGRESS: at 30.58% examples, 137152 words/s, in_qsize 8, out_qsize 1\n",
      "2018-05-19 21:33:54,705 : INFO : EPOCH 2 - PROGRESS: at 31.87% examples, 137640 words/s, in_qsize 9, out_qsize 0\n",
      "2018-05-19 21:33:55,878 : INFO : EPOCH 2 - PROGRESS: at 33.08% examples, 137395 words/s, in_qsize 9, out_qsize 1\n",
      "2018-05-19 21:33:56,880 : INFO : EPOCH 2 - PROGRESS: at 34.22% examples, 137688 words/s, in_qsize 8, out_qsize 1\n",
      "2018-05-19 21:33:57,919 : INFO : EPOCH 2 - PROGRESS: at 35.12% examples, 136912 words/s, in_qsize 9, out_qsize 0\n",
      "2018-05-19 21:33:59,020 : INFO : EPOCH 2 - PROGRESS: at 36.08% examples, 136145 words/s, in_qsize 9, out_qsize 0\n",
      "2018-05-19 21:34:00,076 : INFO : EPOCH 2 - PROGRESS: at 37.11% examples, 135816 words/s, in_qsize 8, out_qsize 1\n",
      "2018-05-19 21:34:01,316 : INFO : EPOCH 2 - PROGRESS: at 37.73% examples, 133402 words/s, in_qsize 8, out_qsize 1\n",
      "2018-05-19 21:34:02,342 : INFO : EPOCH 2 - PROGRESS: at 38.46% examples, 132293 words/s, in_qsize 10, out_qsize 2\n",
      "2018-05-19 21:34:03,364 : INFO : EPOCH 2 - PROGRESS: at 39.67% examples, 132782 words/s, in_qsize 9, out_qsize 0\n",
      "2018-05-19 21:34:04,412 : INFO : EPOCH 2 - PROGRESS: at 40.76% examples, 132792 words/s, in_qsize 7, out_qsize 2\n",
      "2018-05-19 21:34:05,474 : INFO : EPOCH 2 - PROGRESS: at 41.78% examples, 132567 words/s, in_qsize 10, out_qsize 1\n",
      "2018-05-19 21:34:06,476 : INFO : EPOCH 2 - PROGRESS: at 42.92% examples, 132910 words/s, in_qsize 8, out_qsize 1\n",
      "2018-05-19 21:34:07,582 : INFO : EPOCH 2 - PROGRESS: at 44.12% examples, 133080 words/s, in_qsize 8, out_qsize 1\n",
      "2018-05-19 21:34:08,631 : INFO : EPOCH 2 - PROGRESS: at 45.05% examples, 132568 words/s, in_qsize 8, out_qsize 1\n",
      "2018-05-19 21:34:09,665 : INFO : EPOCH 2 - PROGRESS: at 45.77% examples, 131630 words/s, in_qsize 9, out_qsize 0\n",
      "2018-05-19 21:34:10,806 : INFO : EPOCH 2 - PROGRESS: at 46.68% examples, 130918 words/s, in_qsize 8, out_qsize 1\n",
      "2018-05-19 21:34:11,815 : INFO : EPOCH 2 - PROGRESS: at 47.43% examples, 130135 words/s, in_qsize 8, out_qsize 1\n",
      "2018-05-19 21:34:12,946 : INFO : EPOCH 2 - PROGRESS: at 48.43% examples, 129823 words/s, in_qsize 8, out_qsize 1\n",
      "2018-05-19 21:34:14,146 : INFO : EPOCH 2 - PROGRESS: at 49.10% examples, 128450 words/s, in_qsize 8, out_qsize 1\n",
      "2018-05-19 21:34:15,218 : INFO : EPOCH 2 - PROGRESS: at 50.13% examples, 128341 words/s, in_qsize 8, out_qsize 1\n",
      "2018-05-19 21:34:16,254 : INFO : EPOCH 2 - PROGRESS: at 51.11% examples, 128183 words/s, in_qsize 10, out_qsize 4\n",
      "2018-05-19 21:34:17,287 : INFO : EPOCH 2 - PROGRESS: at 52.43% examples, 128879 words/s, in_qsize 9, out_qsize 0\n",
      "2018-05-19 21:34:18,405 : INFO : EPOCH 2 - PROGRESS: at 53.53% examples, 128793 words/s, in_qsize 8, out_qsize 1\n",
      "2018-05-19 21:34:19,469 : INFO : EPOCH 2 - PROGRESS: at 54.63% examples, 128974 words/s, in_qsize 9, out_qsize 0\n",
      "2018-05-19 21:34:20,490 : INFO : EPOCH 2 - PROGRESS: at 55.67% examples, 128985 words/s, in_qsize 7, out_qsize 2\n",
      "2018-05-19 21:34:21,668 : INFO : EPOCH 2 - PROGRESS: at 56.92% examples, 129149 words/s, in_qsize 9, out_qsize 0\n",
      "2018-05-19 21:34:22,838 : INFO : EPOCH 2 - PROGRESS: at 58.15% examples, 129325 words/s, in_qsize 8, out_qsize 1\n",
      "2018-05-19 21:34:23,862 : INFO : EPOCH 2 - PROGRESS: at 59.22% examples, 129444 words/s, in_qsize 8, out_qsize 1\n",
      "2018-05-19 21:34:24,889 : INFO : EPOCH 2 - PROGRESS: at 60.30% examples, 129552 words/s, in_qsize 8, out_qsize 1\n",
      "2018-05-19 21:34:25,892 : INFO : EPOCH 2 - PROGRESS: at 61.28% examples, 129466 words/s, in_qsize 9, out_qsize 0\n",
      "2018-05-19 21:34:27,010 : INFO : EPOCH 2 - PROGRESS: at 62.31% examples, 129264 words/s, in_qsize 8, out_qsize 1\n",
      "2018-05-19 21:34:28,053 : INFO : EPOCH 2 - PROGRESS: at 63.29% examples, 129106 words/s, in_qsize 9, out_qsize 0\n",
      "2018-05-19 21:34:29,138 : INFO : EPOCH 2 - PROGRESS: at 64.38% examples, 129098 words/s, in_qsize 8, out_qsize 1\n",
      "2018-05-19 21:34:30,139 : INFO : EPOCH 2 - PROGRESS: at 65.36% examples, 129030 words/s, in_qsize 10, out_qsize 2\n",
      "2018-05-19 21:34:31,230 : INFO : EPOCH 2 - PROGRESS: at 66.61% examples, 129347 words/s, in_qsize 9, out_qsize 0\n",
      "2018-05-19 21:34:32,323 : INFO : EPOCH 2 - PROGRESS: at 67.71% examples, 129320 words/s, in_qsize 9, out_qsize 2\n",
      "2018-05-19 21:34:33,351 : INFO : EPOCH 2 - PROGRESS: at 68.86% examples, 129523 words/s, in_qsize 9, out_qsize 0\n",
      "2018-05-19 21:34:34,501 : INFO : EPOCH 2 - PROGRESS: at 70.00% examples, 129492 words/s, in_qsize 10, out_qsize 1\n",
      "2018-05-19 21:34:35,584 : INFO : EPOCH 2 - PROGRESS: at 71.30% examples, 129906 words/s, in_qsize 9, out_qsize 0\n",
      "2018-05-19 21:34:36,601 : INFO : EPOCH 2 - PROGRESS: at 72.31% examples, 129906 words/s, in_qsize 8, out_qsize 1\n",
      "2018-05-19 21:34:37,607 : INFO : EPOCH 2 - PROGRESS: at 73.51% examples, 130237 words/s, in_qsize 9, out_qsize 0\n",
      "2018-05-19 21:34:38,620 : INFO : EPOCH 2 - PROGRESS: at 74.48% examples, 130139 words/s, in_qsize 8, out_qsize 1\n",
      "2018-05-19 21:34:39,708 : INFO : EPOCH 2 - PROGRESS: at 75.69% examples, 130311 words/s, in_qsize 9, out_qsize 0\n",
      "2018-05-19 21:34:40,723 : INFO : EPOCH 2 - PROGRESS: at 76.77% examples, 130400 words/s, in_qsize 9, out_qsize 0\n",
      "2018-05-19 21:34:41,785 : INFO : EPOCH 2 - PROGRESS: at 77.91% examples, 130512 words/s, in_qsize 8, out_qsize 1\n",
      "2018-05-19 21:34:42,850 : INFO : EPOCH 2 - PROGRESS: at 79.05% examples, 130619 words/s, in_qsize 8, out_qsize 1\n",
      "2018-05-19 21:34:43,863 : INFO : EPOCH 2 - PROGRESS: at 80.08% examples, 130613 words/s, in_qsize 7, out_qsize 2\n",
      "2018-05-19 21:34:44,950 : INFO : EPOCH 2 - PROGRESS: at 81.22% examples, 130675 words/s, in_qsize 10, out_qsize 0\n",
      "2018-05-19 21:34:45,961 : INFO : EPOCH 2 - PROGRESS: at 82.18% examples, 130582 words/s, in_qsize 8, out_qsize 1\n",
      "2018-05-19 21:34:46,997 : INFO : EPOCH 2 - PROGRESS: at 83.15% examples, 130455 words/s, in_qsize 10, out_qsize 2\n",
      "2018-05-19 21:34:48,005 : INFO : EPOCH 2 - PROGRESS: at 84.12% examples, 130376 words/s, in_qsize 9, out_qsize 0\n",
      "2018-05-19 21:34:49,075 : INFO : EPOCH 2 - PROGRESS: at 85.21% examples, 130377 words/s, in_qsize 8, out_qsize 1\n",
      "2018-05-19 21:34:50,145 : INFO : EPOCH 2 - PROGRESS: at 86.17% examples, 130209 words/s, in_qsize 10, out_qsize 0\n",
      "2018-05-19 21:34:51,170 : INFO : EPOCH 2 - PROGRESS: at 87.26% examples, 130273 words/s, in_qsize 9, out_qsize 0\n",
      "2018-05-19 21:34:52,222 : INFO : EPOCH 2 - PROGRESS: at 88.32% examples, 130300 words/s, in_qsize 9, out_qsize 0\n",
      "2018-05-19 21:34:53,318 : INFO : EPOCH 2 - PROGRESS: at 89.48% examples, 130346 words/s, in_qsize 10, out_qsize 2\n",
      "2018-05-19 21:34:54,433 : INFO : EPOCH 2 - PROGRESS: at 90.73% examples, 130528 words/s, in_qsize 8, out_qsize 1\n",
      "2018-05-19 21:34:55,521 : INFO : EPOCH 2 - PROGRESS: at 91.91% examples, 130661 words/s, in_qsize 8, out_qsize 1\n",
      "2018-05-19 21:34:56,615 : INFO : EPOCH 2 - PROGRESS: at 93.14% examples, 130780 words/s, in_qsize 8, out_qsize 1\n",
      "2018-05-19 21:34:57,670 : INFO : EPOCH 2 - PROGRESS: at 94.18% examples, 130717 words/s, in_qsize 8, out_qsize 1\n",
      "2018-05-19 21:34:58,788 : INFO : EPOCH 2 - PROGRESS: at 95.38% examples, 130803 words/s, in_qsize 8, out_qsize 1\n",
      "2018-05-19 21:34:59,913 : INFO : EPOCH 2 - PROGRESS: at 96.58% examples, 130877 words/s, in_qsize 7, out_qsize 2\n",
      "2018-05-19 21:35:00,928 : INFO : EPOCH 2 - PROGRESS: at 97.58% examples, 130869 words/s, in_qsize 8, out_qsize 1\n",
      "2018-05-19 21:35:02,000 : INFO : EPOCH 2 - PROGRESS: at 98.59% examples, 130785 words/s, in_qsize 9, out_qsize 0\n",
      "2018-05-19 21:35:03,182 : INFO : EPOCH 2 - PROGRESS: at 99.60% examples, 130557 words/s, in_qsize 7, out_qsize 0\n",
      "2018-05-19 21:35:03,260 : INFO : worker thread finished; awaiting finish of 4 more threads\n",
      "2018-05-19 21:35:03,308 : INFO : worker thread finished; awaiting finish of 3 more threads\n"
     ]
    },
    {
     "name": "stderr",
     "output_type": "stream",
     "text": [
      "2018-05-19 21:35:03,347 : INFO : worker thread finished; awaiting finish of 2 more threads\n",
      "2018-05-19 21:35:03,410 : INFO : worker thread finished; awaiting finish of 1 more threads\n",
      "2018-05-19 21:35:03,418 : INFO : worker thread finished; awaiting finish of 0 more threads\n",
      "2018-05-19 21:35:03,420 : INFO : EPOCH - 2 : training on 17503976 raw words (12868553 effective words) took 98.4s, 130740 effective words/s\n",
      "2018-05-19 21:35:04,504 : INFO : EPOCH 3 - PROGRESS: at 0.89% examples, 115523 words/s, in_qsize 9, out_qsize 0\n",
      "2018-05-19 21:35:05,534 : INFO : EPOCH 3 - PROGRESS: at 2.03% examples, 128994 words/s, in_qsize 9, out_qsize 0\n",
      "2018-05-19 21:35:06,574 : INFO : EPOCH 3 - PROGRESS: at 3.11% examples, 130815 words/s, in_qsize 8, out_qsize 1\n",
      "2018-05-19 21:35:07,583 : INFO : EPOCH 3 - PROGRESS: at 4.20% examples, 132688 words/s, in_qsize 10, out_qsize 1\n",
      "2018-05-19 21:35:08,596 : INFO : EPOCH 3 - PROGRESS: at 5.27% examples, 133639 words/s, in_qsize 8, out_qsize 1\n",
      "2018-05-19 21:35:09,759 : INFO : EPOCH 3 - PROGRESS: at 6.41% examples, 132287 words/s, in_qsize 9, out_qsize 2\n",
      "2018-05-19 21:35:10,825 : INFO : EPOCH 3 - PROGRESS: at 7.67% examples, 135039 words/s, in_qsize 8, out_qsize 1\n",
      "2018-05-19 21:35:11,914 : INFO : EPOCH 3 - PROGRESS: at 8.65% examples, 132415 words/s, in_qsize 10, out_qsize 2\n",
      "2018-05-19 21:35:12,930 : INFO : EPOCH 3 - PROGRESS: at 9.85% examples, 134505 words/s, in_qsize 10, out_qsize 1\n",
      "2018-05-19 21:35:13,937 : INFO : EPOCH 3 - PROGRESS: at 10.97% examples, 135608 words/s, in_qsize 8, out_qsize 1\n",
      "2018-05-19 21:35:15,000 : INFO : EPOCH 3 - PROGRESS: at 12.13% examples, 135841 words/s, in_qsize 8, out_qsize 1\n",
      "2018-05-19 21:35:16,047 : INFO : EPOCH 3 - PROGRESS: at 13.22% examples, 135657 words/s, in_qsize 8, out_qsize 1\n",
      "2018-05-19 21:35:17,151 : INFO : EPOCH 3 - PROGRESS: at 14.37% examples, 135432 words/s, in_qsize 9, out_qsize 0\n",
      "2018-05-19 21:35:18,238 : INFO : EPOCH 3 - PROGRESS: at 15.57% examples, 135880 words/s, in_qsize 8, out_qsize 1\n",
      "2018-05-19 21:35:19,289 : INFO : EPOCH 3 - PROGRESS: at 16.54% examples, 134753 words/s, in_qsize 10, out_qsize 1\n",
      "2018-05-19 21:35:20,313 : INFO : EPOCH 3 - PROGRESS: at 17.68% examples, 135282 words/s, in_qsize 8, out_qsize 1\n",
      "2018-05-19 21:35:21,318 : INFO : EPOCH 3 - PROGRESS: at 18.76% examples, 135479 words/s, in_qsize 9, out_qsize 0\n",
      "2018-05-19 21:35:22,327 : INFO : EPOCH 3 - PROGRESS: at 19.61% examples, 134059 words/s, in_qsize 8, out_qsize 1\n",
      "2018-05-19 21:35:23,361 : INFO : EPOCH 3 - PROGRESS: at 20.60% examples, 133384 words/s, in_qsize 8, out_qsize 1\n",
      "2018-05-19 21:35:24,408 : INFO : EPOCH 3 - PROGRESS: at 21.58% examples, 132691 words/s, in_qsize 8, out_qsize 1\n",
      "2018-05-19 21:35:25,494 : INFO : EPOCH 3 - PROGRESS: at 22.57% examples, 131828 words/s, in_qsize 8, out_qsize 1\n",
      "2018-05-19 21:35:26,600 : INFO : EPOCH 3 - PROGRESS: at 23.64% examples, 131553 words/s, in_qsize 8, out_qsize 1\n",
      "2018-05-19 21:35:27,643 : INFO : EPOCH 3 - PROGRESS: at 24.73% examples, 131651 words/s, in_qsize 8, out_qsize 1\n",
      "2018-05-19 21:35:28,684 : INFO : EPOCH 3 - PROGRESS: at 25.77% examples, 131452 words/s, in_qsize 9, out_qsize 0\n",
      "2018-05-19 21:35:29,713 : INFO : EPOCH 3 - PROGRESS: at 26.80% examples, 131337 words/s, in_qsize 7, out_qsize 2\n",
      "2018-05-19 21:35:30,860 : INFO : EPOCH 3 - PROGRESS: at 28.00% examples, 131466 words/s, in_qsize 9, out_qsize 1\n",
      "2018-05-19 21:35:31,999 : INFO : EPOCH 3 - PROGRESS: at 29.24% examples, 131881 words/s, in_qsize 9, out_qsize 0\n",
      "2018-05-19 21:35:33,096 : INFO : EPOCH 3 - PROGRESS: at 30.29% examples, 131458 words/s, in_qsize 8, out_qsize 1\n",
      "2018-05-19 21:35:34,185 : INFO : EPOCH 3 - PROGRESS: at 31.46% examples, 131568 words/s, in_qsize 9, out_qsize 0\n",
      "2018-05-19 21:35:35,302 : INFO : EPOCH 3 - PROGRESS: at 32.44% examples, 130871 words/s, in_qsize 9, out_qsize 2\n",
      "2018-05-19 21:35:36,313 : INFO : EPOCH 3 - PROGRESS: at 33.38% examples, 130418 words/s, in_qsize 8, out_qsize 1\n",
      "2018-05-19 21:35:37,357 : INFO : EPOCH 3 - PROGRESS: at 34.66% examples, 131389 words/s, in_qsize 9, out_qsize 0\n",
      "2018-05-19 21:35:38,369 : INFO : EPOCH 3 - PROGRESS: at 35.69% examples, 131363 words/s, in_qsize 8, out_qsize 1\n",
      "2018-05-19 21:35:39,442 : INFO : EPOCH 3 - PROGRESS: at 36.82% examples, 131523 words/s, in_qsize 9, out_qsize 0\n",
      "2018-05-19 21:35:40,462 : INFO : EPOCH 3 - PROGRESS: at 37.89% examples, 131663 words/s, in_qsize 8, out_qsize 1\n",
      "2018-05-19 21:35:41,541 : INFO : EPOCH 3 - PROGRESS: at 39.10% examples, 131988 words/s, in_qsize 7, out_qsize 2\n",
      "2018-05-19 21:35:42,634 : INFO : EPOCH 3 - PROGRESS: at 40.30% examples, 132242 words/s, in_qsize 9, out_qsize 0\n",
      "2018-05-19 21:35:43,656 : INFO : EPOCH 3 - PROGRESS: at 41.39% examples, 132351 words/s, in_qsize 8, out_qsize 1\n",
      "2018-05-19 21:35:44,760 : INFO : EPOCH 3 - PROGRESS: at 42.52% examples, 132369 words/s, in_qsize 8, out_qsize 1\n",
      "2018-05-19 21:35:45,769 : INFO : EPOCH 3 - PROGRESS: at 43.59% examples, 132511 words/s, in_qsize 9, out_qsize 0\n",
      "2018-05-19 21:35:46,856 : INFO : EPOCH 3 - PROGRESS: at 44.70% examples, 132402 words/s, in_qsize 8, out_qsize 1\n",
      "2018-05-19 21:35:47,921 : INFO : EPOCH 3 - PROGRESS: at 45.94% examples, 132858 words/s, in_qsize 8, out_qsize 1\n",
      "2018-05-19 21:35:48,936 : INFO : EPOCH 3 - PROGRESS: at 46.91% examples, 132635 words/s, in_qsize 8, out_qsize 1\n",
      "2018-05-19 21:35:49,941 : INFO : EPOCH 3 - PROGRESS: at 48.04% examples, 132922 words/s, in_qsize 10, out_qsize 0\n",
      "2018-05-19 21:35:51,123 : INFO : EPOCH 3 - PROGRESS: at 49.22% examples, 132867 words/s, in_qsize 9, out_qsize 1\n",
      "2018-05-19 21:35:52,270 : INFO : EPOCH 3 - PROGRESS: at 50.48% examples, 133050 words/s, in_qsize 9, out_qsize 1\n",
      "2018-05-19 21:35:53,345 : INFO : EPOCH 3 - PROGRESS: at 51.57% examples, 132992 words/s, in_qsize 9, out_qsize 2\n",
      "2018-05-19 21:35:54,398 : INFO : EPOCH 3 - PROGRESS: at 52.61% examples, 132829 words/s, in_qsize 9, out_qsize 0\n",
      "2018-05-19 21:35:55,482 : INFO : EPOCH 3 - PROGRESS: at 53.64% examples, 132596 words/s, in_qsize 9, out_qsize 0\n",
      "2018-05-19 21:35:56,545 : INFO : EPOCH 3 - PROGRESS: at 54.58% examples, 132290 words/s, in_qsize 9, out_qsize 0\n",
      "2018-05-19 21:35:57,643 : INFO : EPOCH 3 - PROGRESS: at 55.79% examples, 132463 words/s, in_qsize 10, out_qsize 0\n",
      "2018-05-19 21:35:58,771 : INFO : EPOCH 3 - PROGRESS: at 57.03% examples, 132680 words/s, in_qsize 8, out_qsize 1\n",
      "2018-05-19 21:35:59,883 : INFO : EPOCH 3 - PROGRESS: at 58.16% examples, 132667 words/s, in_qsize 10, out_qsize 2\n",
      "2018-05-19 21:36:00,976 : INFO : EPOCH 3 - PROGRESS: at 59.39% examples, 132954 words/s, in_qsize 8, out_qsize 1\n",
      "2018-05-19 21:36:01,988 : INFO : EPOCH 3 - PROGRESS: at 60.47% examples, 133032 words/s, in_qsize 9, out_qsize 0\n",
      "2018-05-19 21:36:03,035 : INFO : EPOCH 3 - PROGRESS: at 61.57% examples, 133033 words/s, in_qsize 10, out_qsize 0\n",
      "2018-05-19 21:36:04,082 : INFO : EPOCH 3 - PROGRESS: at 62.72% examples, 133162 words/s, in_qsize 9, out_qsize 0\n",
      "2018-05-19 21:36:05,135 : INFO : EPOCH 3 - PROGRESS: at 63.80% examples, 133150 words/s, in_qsize 9, out_qsize 0\n",
      "2018-05-19 21:36:06,175 : INFO : EPOCH 3 - PROGRESS: at 64.73% examples, 132815 words/s, in_qsize 8, out_qsize 1\n",
      "2018-05-19 21:36:07,197 : INFO : EPOCH 3 - PROGRESS: at 65.76% examples, 132756 words/s, in_qsize 9, out_qsize 0\n",
      "2018-05-19 21:36:08,279 : INFO : EPOCH 3 - PROGRESS: at 66.55% examples, 132129 words/s, in_qsize 9, out_qsize 0\n",
      "2018-05-19 21:36:09,365 : INFO : EPOCH 3 - PROGRESS: at 67.83% examples, 132405 words/s, in_qsize 8, out_qsize 1\n",
      "2018-05-19 21:36:10,480 : INFO : EPOCH 3 - PROGRESS: at 68.97% examples, 132393 words/s, in_qsize 9, out_qsize 1\n",
      "2018-05-19 21:36:11,499 : INFO : EPOCH 3 - PROGRESS: at 69.93% examples, 132242 words/s, in_qsize 10, out_qsize 2\n",
      "2018-05-19 21:36:12,516 : INFO : EPOCH 3 - PROGRESS: at 71.13% examples, 132532 words/s, in_qsize 9, out_qsize 0\n",
      "2018-05-19 21:36:13,538 : INFO : EPOCH 3 - PROGRESS: at 72.31% examples, 132798 words/s, in_qsize 9, out_qsize 0\n",
      "2018-05-19 21:36:14,657 : INFO : EPOCH 3 - PROGRESS: at 73.40% examples, 132679 words/s, in_qsize 8, out_qsize 1\n",
      "2018-05-19 21:36:15,679 : INFO : EPOCH 3 - PROGRESS: at 74.54% examples, 132830 words/s, in_qsize 9, out_qsize 0\n",
      "2018-05-19 21:36:16,717 : INFO : EPOCH 3 - PROGRESS: at 75.44% examples, 132551 words/s, in_qsize 8, out_qsize 1\n"
     ]
    },
    {
     "name": "stderr",
     "output_type": "stream",
     "text": [
      "2018-05-19 21:36:17,788 : INFO : EPOCH 3 - PROGRESS: at 76.48% examples, 132414 words/s, in_qsize 9, out_qsize 0\n",
      "2018-05-19 21:36:18,797 : INFO : EPOCH 3 - PROGRESS: at 77.39% examples, 132203 words/s, in_qsize 9, out_qsize 0\n",
      "2018-05-19 21:36:19,838 : INFO : EPOCH 3 - PROGRESS: at 78.47% examples, 132228 words/s, in_qsize 8, out_qsize 1\n",
      "2018-05-19 21:36:20,945 : INFO : EPOCH 3 - PROGRESS: at 79.62% examples, 132235 words/s, in_qsize 8, out_qsize 1\n",
      "2018-05-19 21:36:22,024 : INFO : EPOCH 3 - PROGRESS: at 80.82% examples, 132376 words/s, in_qsize 9, out_qsize 0\n",
      "2018-05-19 21:36:23,107 : INFO : EPOCH 3 - PROGRESS: at 81.95% examples, 132421 words/s, in_qsize 7, out_qsize 2\n",
      "2018-05-19 21:36:24,337 : INFO : EPOCH 3 - PROGRESS: at 83.15% examples, 132314 words/s, in_qsize 10, out_qsize 2\n",
      "2018-05-19 21:36:25,398 : INFO : EPOCH 3 - PROGRESS: at 84.35% examples, 132485 words/s, in_qsize 9, out_qsize 0\n",
      "2018-05-19 21:36:26,461 : INFO : EPOCH 3 - PROGRESS: at 85.55% examples, 132652 words/s, in_qsize 9, out_qsize 0\n",
      "2018-05-19 21:36:27,524 : INFO : EPOCH 3 - PROGRESS: at 86.58% examples, 132545 words/s, in_qsize 10, out_qsize 2\n",
      "2018-05-19 21:36:28,564 : INFO : EPOCH 3 - PROGRESS: at 87.82% examples, 132825 words/s, in_qsize 9, out_qsize 0\n",
      "2018-05-19 21:36:29,671 : INFO : EPOCH 3 - PROGRESS: at 88.96% examples, 132906 words/s, in_qsize 9, out_qsize 2\n",
      "2018-05-19 21:36:30,659 : INFO : EPOCH 3 - PROGRESS: at 90.04% examples, 132919 words/s, in_qsize 8, out_qsize 1\n",
      "2018-05-19 21:36:31,736 : INFO : EPOCH 3 - PROGRESS: at 91.19% examples, 132959 words/s, in_qsize 9, out_qsize 0\n",
      "2018-05-19 21:36:32,865 : INFO : EPOCH 3 - PROGRESS: at 92.33% examples, 132923 words/s, in_qsize 8, out_qsize 1\n",
      "2018-05-19 21:36:33,901 : INFO : EPOCH 3 - PROGRESS: at 93.42% examples, 132945 words/s, in_qsize 9, out_qsize 0\n",
      "2018-05-19 21:36:34,921 : INFO : EPOCH 3 - PROGRESS: at 94.50% examples, 132987 words/s, in_qsize 8, out_qsize 1\n",
      "2018-05-19 21:36:35,934 : INFO : EPOCH 3 - PROGRESS: at 95.62% examples, 133041 words/s, in_qsize 9, out_qsize 0\n",
      "2018-05-19 21:36:36,956 : INFO : EPOCH 3 - PROGRESS: at 96.69% examples, 133076 words/s, in_qsize 9, out_qsize 0\n",
      "2018-05-19 21:36:37,958 : INFO : EPOCH 3 - PROGRESS: at 97.69% examples, 133063 words/s, in_qsize 9, out_qsize 0\n",
      "2018-05-19 21:36:38,965 : INFO : EPOCH 3 - PROGRESS: at 98.70% examples, 133046 words/s, in_qsize 8, out_qsize 1\n",
      "2018-05-19 21:36:39,850 : INFO : worker thread finished; awaiting finish of 4 more threads\n",
      "2018-05-19 21:36:39,857 : INFO : worker thread finished; awaiting finish of 3 more threads\n",
      "2018-05-19 21:36:39,978 : INFO : EPOCH 3 - PROGRESS: at 99.89% examples, 133243 words/s, in_qsize 2, out_qsize 1\n",
      "2018-05-19 21:36:39,981 : INFO : worker thread finished; awaiting finish of 2 more threads\n",
      "2018-05-19 21:36:39,989 : INFO : worker thread finished; awaiting finish of 1 more threads\n",
      "2018-05-19 21:36:39,995 : INFO : worker thread finished; awaiting finish of 0 more threads\n",
      "2018-05-19 21:36:39,998 : INFO : EPOCH - 3 : training on 17503976 raw words (12869424 effective words) took 96.5s, 133347 effective words/s\n",
      "2018-05-19 21:36:41,140 : INFO : EPOCH 4 - PROGRESS: at 0.89% examples, 107927 words/s, in_qsize 9, out_qsize 2\n",
      "2018-05-19 21:36:42,214 : INFO : EPOCH 4 - PROGRESS: at 2.14% examples, 128859 words/s, in_qsize 10, out_qsize 0\n",
      "2018-05-19 21:36:43,406 : INFO : EPOCH 4 - PROGRESS: at 3.45% examples, 133504 words/s, in_qsize 10, out_qsize 0\n",
      "2018-05-19 21:36:44,411 : INFO : EPOCH 4 - PROGRESS: at 4.59% examples, 136382 words/s, in_qsize 8, out_qsize 1\n",
      "2018-05-19 21:36:45,535 : INFO : EPOCH 4 - PROGRESS: at 5.79% examples, 136511 words/s, in_qsize 9, out_qsize 0\n",
      "2018-05-19 21:36:46,654 : INFO : EPOCH 4 - PROGRESS: at 6.97% examples, 136732 words/s, in_qsize 10, out_qsize 0\n",
      "2018-05-19 21:36:47,708 : INFO : EPOCH 4 - PROGRESS: at 8.13% examples, 137086 words/s, in_qsize 8, out_qsize 1\n",
      "2018-05-19 21:36:48,769 : INFO : EPOCH 4 - PROGRESS: at 9.27% examples, 137220 words/s, in_qsize 10, out_qsize 0\n",
      "2018-05-19 21:36:49,814 : INFO : EPOCH 4 - PROGRESS: at 10.29% examples, 136075 words/s, in_qsize 9, out_qsize 0\n",
      "2018-05-19 21:36:50,978 : INFO : EPOCH 4 - PROGRESS: at 11.38% examples, 134331 words/s, in_qsize 9, out_qsize 2\n",
      "2018-05-19 21:36:52,011 : INFO : EPOCH 4 - PROGRESS: at 12.46% examples, 134428 words/s, in_qsize 8, out_qsize 1\n",
      "2018-05-19 21:36:53,127 : INFO : EPOCH 4 - PROGRESS: at 13.57% examples, 133653 words/s, in_qsize 8, out_qsize 1\n",
      "2018-05-19 21:36:54,201 : INFO : EPOCH 4 - PROGRESS: at 14.65% examples, 133341 words/s, in_qsize 9, out_qsize 0\n",
      "2018-05-19 21:36:55,208 : INFO : EPOCH 4 - PROGRESS: at 15.74% examples, 133687 words/s, in_qsize 8, out_qsize 1\n",
      "2018-05-19 21:36:56,242 : INFO : EPOCH 4 - PROGRESS: at 16.88% examples, 134232 words/s, in_qsize 10, out_qsize 2\n",
      "2018-05-19 21:36:57,327 : INFO : EPOCH 4 - PROGRESS: at 18.07% examples, 134711 words/s, in_qsize 9, out_qsize 0\n",
      "2018-05-19 21:36:58,374 : INFO : EPOCH 4 - PROGRESS: at 19.28% examples, 135426 words/s, in_qsize 8, out_qsize 1\n",
      "2018-05-19 21:36:59,409 : INFO : EPOCH 4 - PROGRESS: at 20.43% examples, 135775 words/s, in_qsize 8, out_qsize 1\n",
      "2018-05-19 21:37:00,423 : INFO : EPOCH 4 - PROGRESS: at 21.53% examples, 135876 words/s, in_qsize 9, out_qsize 0\n",
      "2018-05-19 21:37:01,454 : INFO : EPOCH 4 - PROGRESS: at 22.57% examples, 135509 words/s, in_qsize 9, out_qsize 0\n",
      "2018-05-19 21:37:02,463 : INFO : EPOCH 4 - PROGRESS: at 23.65% examples, 135636 words/s, in_qsize 10, out_qsize 1\n",
      "2018-05-19 21:37:03,548 : INFO : EPOCH 4 - PROGRESS: at 24.79% examples, 135620 words/s, in_qsize 7, out_qsize 2\n",
      "2018-05-19 21:37:04,594 : INFO : EPOCH 4 - PROGRESS: at 26.00% examples, 136116 words/s, in_qsize 9, out_qsize 0\n",
      "2018-05-19 21:37:05,674 : INFO : EPOCH 4 - PROGRESS: at 27.09% examples, 135819 words/s, in_qsize 9, out_qsize 0\n",
      "2018-05-19 21:37:06,679 : INFO : EPOCH 4 - PROGRESS: at 28.23% examples, 136208 words/s, in_qsize 8, out_qsize 1\n",
      "2018-05-19 21:37:07,820 : INFO : EPOCH 4 - PROGRESS: at 29.36% examples, 135908 words/s, in_qsize 7, out_qsize 2\n",
      "2018-05-19 21:37:08,879 : INFO : EPOCH 4 - PROGRESS: at 30.52% examples, 136009 words/s, in_qsize 9, out_qsize 0\n",
      "2018-05-19 21:37:09,903 : INFO : EPOCH 4 - PROGRESS: at 31.71% examples, 136275 words/s, in_qsize 9, out_qsize 0\n",
      "2018-05-19 21:37:10,953 : INFO : EPOCH 4 - PROGRESS: at 32.85% examples, 136385 words/s, in_qsize 8, out_qsize 1\n",
      "2018-05-19 21:37:12,052 : INFO : EPOCH 4 - PROGRESS: at 33.95% examples, 136060 words/s, in_qsize 7, out_qsize 2\n",
      "2018-05-19 21:37:13,102 : INFO : EPOCH 4 - PROGRESS: at 35.23% examples, 136837 words/s, in_qsize 9, out_qsize 0\n",
      "2018-05-19 21:37:14,135 : INFO : EPOCH 4 - PROGRESS: at 36.30% examples, 136787 words/s, in_qsize 9, out_qsize 0\n",
      "2018-05-19 21:37:15,260 : INFO : EPOCH 4 - PROGRESS: at 37.50% examples, 136806 words/s, in_qsize 10, out_qsize 0\n",
      "2018-05-19 21:37:16,274 : INFO : EPOCH 4 - PROGRESS: at 38.58% examples, 136835 words/s, in_qsize 9, out_qsize 0\n",
      "2018-05-19 21:37:17,361 : INFO : EPOCH 4 - PROGRESS: at 39.67% examples, 136582 words/s, in_qsize 7, out_qsize 2\n",
      "2018-05-19 21:37:18,542 : INFO : EPOCH 4 - PROGRESS: at 40.88% examples, 136400 words/s, in_qsize 9, out_qsize 0\n",
      "2018-05-19 21:37:19,633 : INFO : EPOCH 4 - PROGRESS: at 42.12% examples, 136719 words/s, in_qsize 10, out_qsize 0\n",
      "2018-05-19 21:37:20,671 : INFO : EPOCH 4 - PROGRESS: at 43.20% examples, 136663 words/s, in_qsize 7, out_qsize 2\n",
      "2018-05-19 21:37:21,680 : INFO : EPOCH 4 - PROGRESS: at 44.30% examples, 136702 words/s, in_qsize 8, out_qsize 1\n",
      "2018-05-19 21:37:22,706 : INFO : EPOCH 4 - PROGRESS: at 45.33% examples, 136499 words/s, in_qsize 8, out_qsize 1\n",
      "2018-05-19 21:37:23,740 : INFO : EPOCH 4 - PROGRESS: at 46.57% examples, 136963 words/s, in_qsize 10, out_qsize 0\n",
      "2018-05-19 21:37:24,740 : INFO : EPOCH 4 - PROGRESS: at 47.60% examples, 136855 words/s, in_qsize 8, out_qsize 1\n",
      "2018-05-19 21:37:25,829 : INFO : EPOCH 4 - PROGRESS: at 48.72% examples, 136808 words/s, in_qsize 8, out_qsize 1\n",
      "2018-05-19 21:37:26,923 : INFO : EPOCH 4 - PROGRESS: at 49.85% examples, 136748 words/s, in_qsize 9, out_qsize 0\n",
      "2018-05-19 21:37:28,027 : INFO : EPOCH 4 - PROGRESS: at 51.11% examples, 136972 words/s, in_qsize 8, out_qsize 1\n",
      "2018-05-19 21:37:29,104 : INFO : EPOCH 4 - PROGRESS: at 52.26% examples, 136960 words/s, in_qsize 8, out_qsize 1\n"
     ]
    },
    {
     "name": "stderr",
     "output_type": "stream",
     "text": [
      "2018-05-19 21:37:30,209 : INFO : EPOCH 4 - PROGRESS: at 53.41% examples, 136874 words/s, in_qsize 9, out_qsize 0\n",
      "2018-05-19 21:37:31,321 : INFO : EPOCH 4 - PROGRESS: at 54.63% examples, 137051 words/s, in_qsize 8, out_qsize 1\n",
      "2018-05-19 21:37:32,358 : INFO : EPOCH 4 - PROGRESS: at 55.73% examples, 137005 words/s, in_qsize 9, out_qsize 1\n",
      "2018-05-19 21:37:33,422 : INFO : EPOCH 4 - PROGRESS: at 56.87% examples, 137018 words/s, in_qsize 10, out_qsize 0\n",
      "2018-05-19 21:37:34,483 : INFO : EPOCH 4 - PROGRESS: at 57.99% examples, 137038 words/s, in_qsize 8, out_qsize 1\n",
      "2018-05-19 21:37:35,608 : INFO : EPOCH 4 - PROGRESS: at 59.16% examples, 137040 words/s, in_qsize 8, out_qsize 1\n",
      "2018-05-19 21:37:36,643 : INFO : EPOCH 4 - PROGRESS: at 60.31% examples, 137131 words/s, in_qsize 8, out_qsize 1\n",
      "2018-05-19 21:37:37,664 : INFO : EPOCH 4 - PROGRESS: at 61.45% examples, 137246 words/s, in_qsize 9, out_qsize 0\n",
      "2018-05-19 21:37:38,702 : INFO : EPOCH 4 - PROGRESS: at 62.55% examples, 137195 words/s, in_qsize 8, out_qsize 1\n",
      "2018-05-19 21:37:39,750 : INFO : EPOCH 4 - PROGRESS: at 63.69% examples, 137247 words/s, in_qsize 9, out_qsize 1\n",
      "2018-05-19 21:37:40,782 : INFO : EPOCH 4 - PROGRESS: at 64.89% examples, 137452 words/s, in_qsize 9, out_qsize 0\n",
      "2018-05-19 21:37:41,892 : INFO : EPOCH 4 - PROGRESS: at 65.86% examples, 137003 words/s, in_qsize 7, out_qsize 2\n",
      "2018-05-19 21:37:42,956 : INFO : EPOCH 4 - PROGRESS: at 67.07% examples, 137138 words/s, in_qsize 9, out_qsize 0\n",
      "2018-05-19 21:37:43,985 : INFO : EPOCH 4 - PROGRESS: at 68.24% examples, 137233 words/s, in_qsize 10, out_qsize 0\n",
      "2018-05-19 21:37:45,033 : INFO : EPOCH 4 - PROGRESS: at 69.42% examples, 137391 words/s, in_qsize 8, out_qsize 1\n",
      "2018-05-19 21:37:46,112 : INFO : EPOCH 4 - PROGRESS: at 70.51% examples, 137267 words/s, in_qsize 8, out_qsize 1\n",
      "2018-05-19 21:37:47,224 : INFO : EPOCH 4 - PROGRESS: at 71.75% examples, 137395 words/s, in_qsize 8, out_qsize 1\n",
      "2018-05-19 21:37:48,301 : INFO : EPOCH 4 - PROGRESS: at 72.89% examples, 137380 words/s, in_qsize 8, out_qsize 1\n",
      "2018-05-19 21:37:49,380 : INFO : EPOCH 4 - PROGRESS: at 74.02% examples, 137359 words/s, in_qsize 7, out_qsize 2\n",
      "2018-05-19 21:37:50,451 : INFO : EPOCH 4 - PROGRESS: at 75.22% examples, 137463 words/s, in_qsize 8, out_qsize 1\n",
      "2018-05-19 21:37:51,566 : INFO : EPOCH 4 - PROGRESS: at 76.43% examples, 137474 words/s, in_qsize 10, out_qsize 0\n",
      "2018-05-19 21:37:52,625 : INFO : EPOCH 4 - PROGRESS: at 77.45% examples, 137292 words/s, in_qsize 9, out_qsize 1\n",
      "2018-05-19 21:37:53,638 : INFO : EPOCH 4 - PROGRESS: at 78.66% examples, 137501 words/s, in_qsize 9, out_qsize 0\n",
      "2018-05-19 21:37:54,659 : INFO : EPOCH 4 - PROGRESS: at 79.80% examples, 137587 words/s, in_qsize 8, out_qsize 1\n",
      "2018-05-19 21:37:55,662 : INFO : EPOCH 4 - PROGRESS: at 80.87% examples, 137610 words/s, in_qsize 8, out_qsize 1\n",
      "2018-05-19 21:37:56,744 : INFO : EPOCH 4 - PROGRESS: at 82.01% examples, 137585 words/s, in_qsize 8, out_qsize 1\n",
      "2018-05-19 21:37:57,809 : INFO : EPOCH 4 - PROGRESS: at 83.10% examples, 137494 words/s, in_qsize 8, out_qsize 1\n",
      "2018-05-19 21:37:58,817 : INFO : EPOCH 4 - PROGRESS: at 84.24% examples, 137602 words/s, in_qsize 8, out_qsize 1\n",
      "2018-05-19 21:37:59,969 : INFO : EPOCH 4 - PROGRESS: at 85.44% examples, 137547 words/s, in_qsize 7, out_qsize 2\n",
      "2018-05-19 21:38:01,195 : INFO : EPOCH 4 - PROGRESS: at 86.69% examples, 137458 words/s, in_qsize 9, out_qsize 3\n",
      "2018-05-19 21:38:02,248 : INFO : EPOCH 4 - PROGRESS: at 87.93% examples, 137658 words/s, in_qsize 9, out_qsize 0\n",
      "2018-05-19 21:38:03,369 : INFO : EPOCH 4 - PROGRESS: at 89.13% examples, 137655 words/s, in_qsize 9, out_qsize 0\n",
      "2018-05-19 21:38:04,431 : INFO : EPOCH 4 - PROGRESS: at 90.33% examples, 137753 words/s, in_qsize 8, out_qsize 1\n",
      "2018-05-19 21:38:05,503 : INFO : EPOCH 4 - PROGRESS: at 91.47% examples, 137747 words/s, in_qsize 7, out_qsize 2\n",
      "2018-05-19 21:38:06,513 : INFO : EPOCH 4 - PROGRESS: at 92.62% examples, 137839 words/s, in_qsize 9, out_qsize 0\n",
      "2018-05-19 21:38:07,537 : INFO : EPOCH 4 - PROGRESS: at 93.64% examples, 137733 words/s, in_qsize 8, out_qsize 1\n",
      "2018-05-19 21:38:08,543 : INFO : EPOCH 4 - PROGRESS: at 94.79% examples, 137826 words/s, in_qsize 8, out_qsize 1\n",
      "2018-05-19 21:38:09,665 : INFO : EPOCH 4 - PROGRESS: at 96.01% examples, 137821 words/s, in_qsize 9, out_qsize 0\n",
      "2018-05-19 21:38:10,672 : INFO : EPOCH 4 - PROGRESS: at 96.97% examples, 137665 words/s, in_qsize 10, out_qsize 0\n",
      "2018-05-19 21:38:11,807 : INFO : EPOCH 4 - PROGRESS: at 98.20% examples, 137724 words/s, in_qsize 8, out_qsize 1\n",
      "2018-05-19 21:38:12,809 : INFO : EPOCH 4 - PROGRESS: at 99.38% examples, 137899 words/s, in_qsize 9, out_qsize 0\n",
      "2018-05-19 21:38:13,183 : INFO : worker thread finished; awaiting finish of 4 more threads\n",
      "2018-05-19 21:38:13,313 : INFO : worker thread finished; awaiting finish of 3 more threads\n",
      "2018-05-19 21:38:13,322 : INFO : worker thread finished; awaiting finish of 2 more threads\n",
      "2018-05-19 21:38:13,360 : INFO : worker thread finished; awaiting finish of 1 more threads\n",
      "2018-05-19 21:38:13,379 : INFO : worker thread finished; awaiting finish of 0 more threads\n",
      "2018-05-19 21:38:13,382 : INFO : EPOCH - 4 : training on 17503976 raw words (12869566 effective words) took 93.3s, 137894 effective words/s\n",
      "2018-05-19 21:38:14,449 : INFO : EPOCH 5 - PROGRESS: at 1.01% examples, 129511 words/s, in_qsize 9, out_qsize 0\n",
      "2018-05-19 21:38:15,465 : INFO : EPOCH 5 - PROGRESS: at 2.03% examples, 129644 words/s, in_qsize 9, out_qsize 0\n",
      "2018-05-19 21:38:16,511 : INFO : EPOCH 5 - PROGRESS: at 3.23% examples, 135823 words/s, in_qsize 8, out_qsize 1\n",
      "2018-05-19 21:38:17,626 : INFO : EPOCH 5 - PROGRESS: at 4.42% examples, 136480 words/s, in_qsize 8, out_qsize 1\n",
      "2018-05-19 21:38:18,629 : INFO : EPOCH 5 - PROGRESS: at 5.56% examples, 138355 words/s, in_qsize 9, out_qsize 0\n",
      "2018-05-19 21:38:19,731 : INFO : EPOCH 5 - PROGRESS: at 6.70% examples, 137451 words/s, in_qsize 8, out_qsize 1\n",
      "2018-05-19 21:38:20,835 : INFO : EPOCH 5 - PROGRESS: at 7.84% examples, 136757 words/s, in_qsize 8, out_qsize 1\n",
      "2018-05-19 21:38:21,870 : INFO : EPOCH 5 - PROGRESS: at 8.93% examples, 136548 words/s, in_qsize 9, out_qsize 0\n",
      "2018-05-19 21:38:22,948 : INFO : EPOCH 5 - PROGRESS: at 10.13% examples, 137270 words/s, in_qsize 9, out_qsize 0\n",
      "2018-05-19 21:38:23,967 : INFO : EPOCH 5 - PROGRESS: at 11.03% examples, 135170 words/s, in_qsize 10, out_qsize 0\n",
      "2018-05-19 21:38:24,970 : INFO : EPOCH 5 - PROGRESS: at 12.18% examples, 136134 words/s, in_qsize 9, out_qsize 0\n",
      "2018-05-19 21:38:25,986 : INFO : EPOCH 5 - PROGRESS: at 13.35% examples, 136837 words/s, in_qsize 8, out_qsize 1\n",
      "2018-05-19 21:38:27,084 : INFO : EPOCH 5 - PROGRESS: at 14.42% examples, 136042 words/s, in_qsize 10, out_qsize 2\n",
      "2018-05-19 21:38:28,146 : INFO : EPOCH 5 - PROGRESS: at 15.57% examples, 136195 words/s, in_qsize 8, out_qsize 1\n",
      "2018-05-19 21:38:29,261 : INFO : EPOCH 5 - PROGRESS: at 16.77% examples, 136363 words/s, in_qsize 8, out_qsize 1\n",
      "2018-05-19 21:38:30,318 : INFO : EPOCH 5 - PROGRESS: at 17.90% examples, 136513 words/s, in_qsize 10, out_qsize 0\n",
      "2018-05-19 21:38:31,351 : INFO : EPOCH 5 - PROGRESS: at 19.05% examples, 136832 words/s, in_qsize 8, out_qsize 1\n",
      "2018-05-19 21:38:32,419 : INFO : EPOCH 5 - PROGRESS: at 20.25% examples, 137243 words/s, in_qsize 9, out_qsize 0\n",
      "2018-05-19 21:38:33,457 : INFO : EPOCH 5 - PROGRESS: at 21.35% examples, 137121 words/s, in_qsize 9, out_qsize 2\n",
      "2018-05-19 21:38:34,468 : INFO : EPOCH 5 - PROGRESS: at 22.39% examples, 136822 words/s, in_qsize 10, out_qsize 1\n",
      "2018-05-19 21:38:35,528 : INFO : EPOCH 5 - PROGRESS: at 23.59% examples, 137228 words/s, in_qsize 9, out_qsize 0\n",
      "2018-05-19 21:38:36,616 : INFO : EPOCH 5 - PROGRESS: at 24.79% examples, 137435 words/s, in_qsize 8, out_qsize 1\n",
      "2018-05-19 21:38:37,662 : INFO : EPOCH 5 - PROGRESS: at 25.88% examples, 137262 words/s, in_qsize 10, out_qsize 0\n",
      "2018-05-19 21:38:38,710 : INFO : EPOCH 5 - PROGRESS: at 27.09% examples, 137658 words/s, in_qsize 10, out_qsize 1\n",
      "2018-05-19 21:38:39,718 : INFO : EPOCH 5 - PROGRESS: at 28.11% examples, 137410 words/s, in_qsize 9, out_qsize 1\n",
      "2018-05-19 21:38:40,795 : INFO : EPOCH 5 - PROGRESS: at 29.25% examples, 137379 words/s, in_qsize 8, out_qsize 1\n",
      "2018-05-19 21:38:41,896 : INFO : EPOCH 5 - PROGRESS: at 30.46% examples, 137491 words/s, in_qsize 9, out_qsize 0\n"
     ]
    },
    {
     "name": "stderr",
     "output_type": "stream",
     "text": [
      "2018-05-19 21:38:42,900 : INFO : EPOCH 5 - PROGRESS: at 31.64% examples, 137787 words/s, in_qsize 9, out_qsize 0\n",
      "2018-05-19 21:38:43,901 : INFO : EPOCH 5 - PROGRESS: at 32.67% examples, 137590 words/s, in_qsize 8, out_qsize 1\n",
      "2018-05-19 21:38:44,942 : INFO : EPOCH 5 - PROGRESS: at 33.84% examples, 137704 words/s, in_qsize 9, out_qsize 0\n",
      "2018-05-19 21:38:46,042 : INFO : EPOCH 5 - PROGRESS: at 34.95% examples, 137553 words/s, in_qsize 8, out_qsize 1\n",
      "2018-05-19 21:38:47,121 : INFO : EPOCH 5 - PROGRESS: at 36.08% examples, 137513 words/s, in_qsize 8, out_qsize 1\n",
      "2018-05-19 21:38:48,183 : INFO : EPOCH 5 - PROGRESS: at 37.22% examples, 137540 words/s, in_qsize 8, out_qsize 1\n",
      "2018-05-19 21:38:49,228 : INFO : EPOCH 5 - PROGRESS: at 38.41% examples, 137834 words/s, in_qsize 10, out_qsize 1\n",
      "2018-05-19 21:38:50,316 : INFO : EPOCH 5 - PROGRESS: at 39.34% examples, 136956 words/s, in_qsize 8, out_qsize 1\n",
      "2018-05-19 21:38:51,365 : INFO : EPOCH 5 - PROGRESS: at 40.41% examples, 136847 words/s, in_qsize 8, out_qsize 1\n",
      "2018-05-19 21:38:52,454 : INFO : EPOCH 5 - PROGRESS: at 41.50% examples, 136605 words/s, in_qsize 7, out_qsize 2\n",
      "2018-05-19 21:38:53,488 : INFO : EPOCH 5 - PROGRESS: at 42.63% examples, 136739 words/s, in_qsize 9, out_qsize 0\n",
      "2018-05-19 21:38:54,529 : INFO : EPOCH 5 - PROGRESS: at 43.77% examples, 136851 words/s, in_qsize 10, out_qsize 0\n",
      "2018-05-19 21:38:55,619 : INFO : EPOCH 5 - PROGRESS: at 44.93% examples, 136799 words/s, in_qsize 7, out_qsize 2\n",
      "2018-05-19 21:38:56,621 : INFO : EPOCH 5 - PROGRESS: at 46.06% examples, 137012 words/s, in_qsize 10, out_qsize 1\n",
      "2018-05-19 21:38:57,628 : INFO : EPOCH 5 - PROGRESS: at 47.13% examples, 137047 words/s, in_qsize 10, out_qsize 1\n",
      "2018-05-19 21:38:58,705 : INFO : EPOCH 5 - PROGRESS: at 48.26% examples, 137021 words/s, in_qsize 9, out_qsize 0\n",
      "2018-05-19 21:38:59,716 : INFO : EPOCH 5 - PROGRESS: at 49.33% examples, 137046 words/s, in_qsize 9, out_qsize 0\n",
      "2018-05-19 21:39:00,826 : INFO : EPOCH 5 - PROGRESS: at 50.42% examples, 136779 words/s, in_qsize 8, out_qsize 1\n",
      "2018-05-19 21:39:01,836 : INFO : EPOCH 5 - PROGRESS: at 51.46% examples, 136663 words/s, in_qsize 9, out_qsize 0\n",
      "2018-05-19 21:39:03,005 : INFO : EPOCH 5 - PROGRESS: at 52.72% examples, 136702 words/s, in_qsize 9, out_qsize 0\n",
      "2018-05-19 21:39:04,033 : INFO : EPOCH 5 - PROGRESS: at 53.91% examples, 136965 words/s, in_qsize 9, out_qsize 0\n",
      "2018-05-19 21:39:05,073 : INFO : EPOCH 5 - PROGRESS: at 54.93% examples, 136768 words/s, in_qsize 7, out_qsize 2\n",
      "2018-05-19 21:39:06,194 : INFO : EPOCH 5 - PROGRESS: at 56.01% examples, 136502 words/s, in_qsize 9, out_qsize 0\n",
      "2018-05-19 21:39:07,195 : INFO : EPOCH 5 - PROGRESS: at 57.09% examples, 136546 words/s, in_qsize 9, out_qsize 0\n",
      "2018-05-19 21:39:08,290 : INFO : EPOCH 5 - PROGRESS: at 58.32% examples, 136760 words/s, in_qsize 8, out_qsize 1\n",
      "2018-05-19 21:39:09,344 : INFO : EPOCH 5 - PROGRESS: at 59.39% examples, 136678 words/s, in_qsize 8, out_qsize 1\n",
      "2018-05-19 21:39:10,521 : INFO : EPOCH 5 - PROGRESS: at 60.59% examples, 136555 words/s, in_qsize 8, out_qsize 1\n",
      "2018-05-19 21:39:11,621 : INFO : EPOCH 5 - PROGRESS: at 61.85% examples, 136751 words/s, in_qsize 8, out_qsize 1\n",
      "2018-05-19 21:39:12,712 : INFO : EPOCH 5 - PROGRESS: at 63.06% examples, 136838 words/s, in_qsize 9, out_qsize 0\n",
      "2018-05-19 21:39:13,784 : INFO : EPOCH 5 - PROGRESS: at 64.20% examples, 136838 words/s, in_qsize 9, out_qsize 0\n",
      "2018-05-19 21:39:14,829 : INFO : EPOCH 5 - PROGRESS: at 65.30% examples, 136782 words/s, in_qsize 9, out_qsize 2\n",
      "2018-05-19 21:39:15,843 : INFO : EPOCH 5 - PROGRESS: at 66.44% examples, 136919 words/s, in_qsize 10, out_qsize 1\n",
      "2018-05-19 21:39:16,942 : INFO : EPOCH 5 - PROGRESS: at 67.65% examples, 136979 words/s, in_qsize 8, out_qsize 1\n",
      "2018-05-19 21:39:18,012 : INFO : EPOCH 5 - PROGRESS: at 68.81% examples, 136982 words/s, in_qsize 7, out_qsize 2\n",
      "2018-05-19 21:39:19,019 : INFO : EPOCH 5 - PROGRESS: at 69.70% examples, 136671 words/s, in_qsize 9, out_qsize 0\n",
      "2018-05-19 21:39:20,044 : INFO : EPOCH 5 - PROGRESS: at 70.96% examples, 136998 words/s, in_qsize 8, out_qsize 1\n",
      "2018-05-19 21:39:21,069 : INFO : EPOCH 5 - PROGRESS: at 72.08% examples, 137090 words/s, in_qsize 9, out_qsize 0\n",
      "2018-05-19 21:39:22,154 : INFO : EPOCH 5 - PROGRESS: at 73.18% examples, 136962 words/s, in_qsize 8, out_qsize 1\n",
      "2018-05-19 21:39:23,256 : INFO : EPOCH 5 - PROGRESS: at 74.37% examples, 137006 words/s, in_qsize 7, out_qsize 2\n",
      "2018-05-19 21:39:24,263 : INFO : EPOCH 5 - PROGRESS: at 75.51% examples, 137136 words/s, in_qsize 9, out_qsize 0\n",
      "2018-05-19 21:39:25,369 : INFO : EPOCH 5 - PROGRESS: at 76.71% examples, 137169 words/s, in_qsize 8, out_qsize 1\n",
      "2018-05-19 21:39:26,425 : INFO : EPOCH 5 - PROGRESS: at 77.84% examples, 137197 words/s, in_qsize 9, out_qsize 0\n",
      "2018-05-19 21:39:27,444 : INFO : EPOCH 5 - PROGRESS: at 79.00% examples, 137296 words/s, in_qsize 8, out_qsize 1\n",
      "2018-05-19 21:39:28,509 : INFO : EPOCH 5 - PROGRESS: at 80.14% examples, 137303 words/s, in_qsize 8, out_qsize 1\n",
      "2018-05-19 21:39:29,523 : INFO : EPOCH 5 - PROGRESS: at 81.15% examples, 137209 words/s, in_qsize 10, out_qsize 0\n",
      "2018-05-19 21:39:30,639 : INFO : EPOCH 5 - PROGRESS: at 82.36% examples, 137221 words/s, in_qsize 8, out_qsize 1\n",
      "2018-05-19 21:39:31,690 : INFO : EPOCH 5 - PROGRESS: at 83.56% examples, 137348 words/s, in_qsize 9, out_qsize 0\n",
      "2018-05-19 21:39:32,692 : INFO : EPOCH 5 - PROGRESS: at 84.64% examples, 137374 words/s, in_qsize 9, out_qsize 0\n",
      "2018-05-19 21:39:33,810 : INFO : EPOCH 5 - PROGRESS: at 85.66% examples, 137109 words/s, in_qsize 9, out_qsize 0\n",
      "2018-05-19 21:39:34,820 : INFO : EPOCH 5 - PROGRESS: at 86.86% examples, 137302 words/s, in_qsize 9, out_qsize 1\n",
      "2018-05-19 21:39:35,878 : INFO : EPOCH 5 - PROGRESS: at 87.98% examples, 137324 words/s, in_qsize 10, out_qsize 1\n",
      "2018-05-19 21:39:36,942 : INFO : EPOCH 5 - PROGRESS: at 89.08% examples, 137244 words/s, in_qsize 10, out_qsize 2\n",
      "2018-05-19 21:39:38,029 : INFO : EPOCH 5 - PROGRESS: at 90.27% examples, 137308 words/s, in_qsize 9, out_qsize 1\n",
      "2018-05-19 21:39:39,072 : INFO : EPOCH 5 - PROGRESS: at 91.41% examples, 137349 words/s, in_qsize 8, out_qsize 1\n",
      "2018-05-19 21:39:40,089 : INFO : EPOCH 5 - PROGRESS: at 92.38% examples, 137180 words/s, in_qsize 8, out_qsize 1\n",
      "2018-05-19 21:39:41,218 : INFO : EPOCH 5 - PROGRESS: at 93.65% examples, 137255 words/s, in_qsize 10, out_qsize 2\n",
      "2018-05-19 21:39:42,283 : INFO : EPOCH 5 - PROGRESS: at 94.91% examples, 137426 words/s, in_qsize 8, out_qsize 1\n",
      "2018-05-19 21:39:43,315 : INFO : EPOCH 5 - PROGRESS: at 95.95% examples, 137318 words/s, in_qsize 8, out_qsize 1\n",
      "2018-05-19 21:39:44,341 : INFO : EPOCH 5 - PROGRESS: at 97.08% examples, 137383 words/s, in_qsize 9, out_qsize 0\n",
      "2018-05-19 21:39:45,433 : INFO : EPOCH 5 - PROGRESS: at 98.26% examples, 137430 words/s, in_qsize 8, out_qsize 1\n",
      "2018-05-19 21:39:46,522 : INFO : EPOCH 5 - PROGRESS: at 99.38% examples, 137397 words/s, in_qsize 8, out_qsize 1\n",
      "2018-05-19 21:39:46,858 : INFO : worker thread finished; awaiting finish of 4 more threads\n",
      "2018-05-19 21:39:46,862 : INFO : worker thread finished; awaiting finish of 3 more threads\n",
      "2018-05-19 21:39:46,948 : INFO : worker thread finished; awaiting finish of 2 more threads\n",
      "2018-05-19 21:39:46,976 : INFO : worker thread finished; awaiting finish of 1 more threads\n",
      "2018-05-19 21:39:46,977 : INFO : worker thread finished; awaiting finish of 0 more threads\n",
      "2018-05-19 21:39:46,980 : INFO : EPOCH - 5 : training on 17503976 raw words (12869044 effective words) took 93.5s, 137566 effective words/s\n",
      "2018-05-19 21:39:46,984 : INFO : training on a 87519880 raw words (64344297 effective words) took 470.8s, 136678 effective words/s\n"
     ]
    }
   ],
   "source": [
    "num_feature = 50\n",
    "min_word_count = 20\n",
    "num_thread = 5\n",
    "window_size = 10\n",
    "down_sampling = 0.001\n",
    "iteration = 20\n",
    "\n",
    "logging.basicConfig(format='%(asctime)s : %(levelname)s : %(message)s', level=logging.INFO)\n",
    "model_fastText = FastText(sentences, \n",
    "                          size=num_feature, \n",
    "                          window=window_size, \n",
    "                          min_count=min_word_count, \n",
    "                          workers=num_thread)"
   ]
  },
  {
   "cell_type": "markdown",
   "metadata": {},
   "source": [
    "To load model, we can use below code:"
   ]
  },
  {
   "cell_type": "code",
   "execution_count": 30,
   "metadata": {
    "collapsed": true
   },
   "outputs": [],
   "source": [
    "model_fastText = FastText.load(\"./data/gensim_fastText_model_190518\")"
   ]
  },
  {
   "cell_type": "markdown",
   "metadata": {},
   "source": [
    "### Model checking"
   ]
  },
  {
   "cell_type": "markdown",
   "metadata": {},
   "source": [
    "#### Word similarity"
   ]
  },
  {
   "cell_type": "markdown",
   "metadata": {},
   "source": [
    "Let's try to find similar words to `character`:"
   ]
  },
  {
   "cell_type": "code",
   "execution_count": 31,
   "metadata": {},
   "outputs": [
    {
     "data": {
      "text/plain": [
       "[('characterize', 0.8779246211051941),\n",
       " ('characterisation', 0.8767824172973633),\n",
       " ('characteristically', 0.8579357862472534),\n",
       " ('characteristic', 0.8445369005203247),\n",
       " ('characterization', 0.8444110751152039),\n",
       " ('protagonist', 0.8273643255233765),\n",
       " ('uncharacteristically', 0.8241872787475586),\n",
       " ('characteristics', 0.8222066164016724),\n",
       " ('characterized', 0.8184616565704346),\n",
       " ('characterisations', 0.8086223602294922)]"
      ]
     },
     "execution_count": 31,
     "metadata": {},
     "output_type": "execute_result"
    }
   ],
   "source": [
    "model_fastText.wv.most_similar('character')"
   ]
  },
  {
   "cell_type": "markdown",
   "metadata": {},
   "source": [
    "For the word `citi`, with the `word2vec` model, we can't find any similar words to it because it doesn't exist in the vocabulary."
   ]
  },
  {
   "cell_type": "code",
   "execution_count": 32,
   "metadata": {},
   "outputs": [
    {
     "name": "stdout",
     "output_type": "stream",
     "text": [
      "Word 'citi' doesn't exist in word2vec vocab.\n"
     ]
    }
   ],
   "source": [
    "try:\n",
    "    print(model.wv.get_vector('citi'))\n",
    "except KeyError:\n",
    "    print(\"Word 'citi' doesn't exist in word2vec vocab.\")"
   ]
  },
  {
   "cell_type": "code",
   "execution_count": 33,
   "metadata": {},
   "outputs": [
    {
     "name": "stdout",
     "output_type": "stream",
     "text": [
      "Vector for word 'citi' in fastText vocab: \n",
      "[ 0.32699245  1.16181421 -1.69706643  0.70408148  3.09601688  1.4794116\n",
      "  0.4120028   0.53522533 -1.95446098 -0.77416432  0.76101339 -3.46570253\n",
      "  2.60462809 -2.5443294  -0.15657869 -0.96487325 -2.42882991  2.43761039\n",
      " -2.11448622  2.24130487 -2.57711458  2.95774055  2.16594553  2.98466587\n",
      "  1.72890961 -2.87294412 -0.03725249 -1.97050095  2.67122102  2.1939292\n",
      " -5.70520449  3.38641     0.34512585  2.02045274 -1.99330831 -6.04638863\n",
      "  0.62465125  1.53422356  0.4336963  -0.90493697 -0.54554069  2.55114365\n",
      "  0.9242475  -2.06424022  2.2968049   0.65186095 -0.73221743 -0.4610323\n",
      " -5.32092571  1.38438857]\n"
     ]
    }
   ],
   "source": [
    "print(\"Vector for word 'citi' in fastText vocab: \\n{}\".format(model_fastText.wv.get_vector('citi')))"
   ]
  },
  {
   "cell_type": "markdown",
   "metadata": {},
   "source": [
    "We can see that `fastText` learns word representation better than `word2vec` because it breaks word into sub-words, making the learning more efficient. As a result, it can find better similiar words as below:"
   ]
  },
  {
   "cell_type": "code",
   "execution_count": 34,
   "metadata": {
    "scrolled": true
   },
   "outputs": [
    {
     "data": {
      "text/plain": [
       "[('citizen', 0.8678514957427979),\n",
       " ('citizens', 0.8646746873855591),\n",
       " ('europa', 0.8545630574226379),\n",
       " ('ww2', 0.8246501684188843),\n",
       " ('euro', 0.8074249029159546),\n",
       " ('japan', 0.8040512800216675),\n",
       " ('wwi', 0.7996044754981995),\n",
       " ('europe', 0.7969143390655518),\n",
       " ('western', 0.7959458827972412),\n",
       " ('wwii', 0.7896401286125183)]"
      ]
     },
     "execution_count": 34,
     "metadata": {},
     "output_type": "execute_result"
    }
   ],
   "source": [
    "model_fastText.wv.most_similar('citi')"
   ]
  },
  {
   "cell_type": "markdown",
   "metadata": {},
   "source": [
    "Analogy task for similar example as in `word2vec` model, the result is the same for the most similar word - `worst`."
   ]
  },
  {
   "cell_type": "code",
   "execution_count": 35,
   "metadata": {},
   "outputs": [
    {
     "data": {
      "text/plain": [
       "[('worst', 0.8669127225875854),\n",
       " ('dumbest', 0.862362265586853),\n",
       " ('lamest', 0.812777042388916),\n",
       " ('laziest', 0.8003767728805542),\n",
       " ('zest', 0.7850866913795471),\n",
       " ('funniest', 0.781031608581543),\n",
       " ('ugliest', 0.7756903171539307),\n",
       " ('silliest', 0.7735652923583984),\n",
       " ('tiniest', 0.7715500593185425),\n",
       " ('wiest', 0.7651567459106445)]"
      ]
     },
     "execution_count": 35,
     "metadata": {},
     "output_type": "execute_result"
    }
   ],
   "source": [
    "model_fastText.wv.most_similar(positive=['best','bad'],negative=['good'])"
   ]
  },
  {
   "cell_type": "markdown",
   "metadata": {},
   "source": [
    "Unfortunately, `fastText` model doesn't work well with analogy tasks in some cases (below example) whereas the opposite is true for `word2vec` model."
   ]
  },
  {
   "cell_type": "code",
   "execution_count": 42,
   "metadata": {},
   "outputs": [
    {
     "data": {
      "text/plain": [
       "[('merlin', 0.8392232656478882),\n",
       " ('palmer', 0.8322012424468994),\n",
       " ('darlene', 0.827530026435852),\n",
       " ('della', 0.822186291217804),\n",
       " ('daphne', 0.821194052696228),\n",
       " ('erin', 0.8182156682014465),\n",
       " ('lynne', 0.8165528774261475),\n",
       " ('kavner', 0.8089902400970459),\n",
       " ('gabriella', 0.8058374524116516),\n",
       " ('brynner', 0.8057600259780884)]"
      ]
     },
     "execution_count": 42,
     "metadata": {},
     "output_type": "execute_result"
    }
   ],
   "source": [
    "model_fastText.wv.most_similar(positive=['berlin','france'],negative=['germany'])"
   ]
  },
  {
   "cell_type": "markdown",
   "metadata": {},
   "source": [
    "#### Different from the group"
   ]
  },
  {
   "cell_type": "markdown",
   "metadata": {},
   "source": [
    "The result is similar with `word2vec` model."
   ]
  },
  {
   "cell_type": "code",
   "execution_count": 37,
   "metadata": {},
   "outputs": [
    {
     "name": "stdout",
     "output_type": "stream",
     "text": [
      "good\n"
     ]
    }
   ],
   "source": [
    "print(model_fastText.wv.doesnt_match(\"terrible bad horrible good\".split()))"
   ]
  },
  {
   "cell_type": "markdown",
   "metadata": {},
   "source": [
    "To get the word vector and word index, syntax is the same when we do it with `word2vec` above."
   ]
  },
  {
   "cell_type": "markdown",
   "metadata": {},
   "source": [
    "#### Saving model into array of words and vectors\n",
    "\n",
    "Finally, let's save the word vocabulary and their vectors for later RNN model."
   ]
  },
  {
   "cell_type": "code",
   "execution_count": 38,
   "metadata": {
    "collapsed": true
   },
   "outputs": [],
   "source": [
    "vec_dim = 50\n",
    "word_list_fastText = []\n",
    "word_vector_fastText = np.zeros((len(model_fastText.wv.vocab)+2, vec_dim)) # add '-' as padding character and 'unk' as unknown\n",
    "word_list_fastText.append('-') # padding value\n",
    "for i in range (len(model_fastText.wv.vocab)):\n",
    "    word = model_fastText.wv.index2word[i]\n",
    "    vector = model_fastText.wv[word]\n",
    "    word_vector_fastText[i+1] = vector\n",
    "    word_list_fastText.append(word)\n",
    "word_list_fastText.append('unk')"
   ]
  },
  {
   "cell_type": "markdown",
   "metadata": {},
   "source": [
    "Let's check the number of words in our vocabulary and vector shape."
   ]
  },
  {
   "cell_type": "code",
   "execution_count": 39,
   "metadata": {},
   "outputs": [
    {
     "name": "stdout",
     "output_type": "stream",
     "text": [
      "Number of words in list: 24802\n",
      "Shape of word vector: (24802, 50)\n"
     ]
    }
   ],
   "source": [
    "print(\"Number of words in list: {}\".format(len(word_list_fastText)))\n",
    "print(\"Shape of word vector: {}\".format(word_vector_fastText.shape))"
   ]
  },
  {
   "cell_type": "markdown",
   "metadata": {},
   "source": [
    "We are going to need those 2 arrays for builidng RNN model. Let's save them for later use."
   ]
  },
  {
   "cell_type": "markdown",
   "metadata": {
    "collapsed": true
   },
   "source": [
    "np.save('./data/word_list_gensim_fT', word_list_fastText)\n",
    "np.save('./data/word_vector_gensim_fT', word_vector_fastText)"
   ]
  },
  {
   "cell_type": "markdown",
   "metadata": {},
   "source": [
    "Now, our embeddings are ready for use. Later in the next part we will perform the following tasks:\n",
    "- Build RNN model using pre-trained embedding `GloVe`\n",
    "- Build RNN model using our own Gensim `word2vec`\n",
    "- Build RNN model using our own Gensim `fastText`"
   ]
  }
 ],
 "metadata": {
  "kernelspec": {
   "display_name": "Python 3",
   "language": "python",
   "name": "python3"
  },
  "language_info": {
   "codemirror_mode": {
    "name": "ipython",
    "version": 3
   },
   "file_extension": ".py",
   "mimetype": "text/x-python",
   "name": "python",
   "nbconvert_exporter": "python",
   "pygments_lexer": "ipython3",
   "version": "3.6.3"
  }
 },
 "nbformat": 4,
 "nbformat_minor": 2
}
